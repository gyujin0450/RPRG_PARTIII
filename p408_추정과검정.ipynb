{
  "nbformat": 4,
  "nbformat_minor": 0,
  "metadata": {
    "colab": {
      "name": "p408_추정과검정.ipynb",
      "provenance": [],
      "authorship_tag": "ABX9TyNISWysMCmHQMHPOfYAolQb",
      "include_colab_link": true
    },
    "kernelspec": {
      "name": "ir",
      "display_name": "R"
    }
  },
  "cells": [
    {
      "cell_type": "markdown",
      "metadata": {
        "id": "view-in-github",
        "colab_type": "text"
      },
      "source": [
        "<a href=\"https://colab.research.google.com/github/gyujin0450/RPRG_PARTIII/blob/main/p408_%EC%B6%94%EC%A0%95%EA%B3%BC%EA%B2%80%EC%A0%95.ipynb\" target=\"_parent\"><img src=\"https://colab.research.google.com/assets/colab-badge.svg\" alt=\"Open In Colab\"/></a>"
      ]
    },
    {
      "cell_type": "markdown",
      "metadata": {
        "id": "Ly-kz7dRAbuJ"
      },
      "source": [
        "Ch13.집단간차이분석 - 추정과 검정\n",
        "- 모집단,표본,평균,분산,표준편차\n",
        "- 추론통계분석에서는 점추정 보다는 구간추정 방식을 이용"
      ]
    },
    {
      "cell_type": "markdown",
      "metadata": {
        "id": "j3vmEM4_F6uT"
      },
      "source": [
        "1.2 모평균의 구간 추정(p409)"
      ]
    },
    {
      "cell_type": "markdown",
      "metadata": {
        "id": "bGgZcZi8AtXj"
      },
      "source": [
        "(실습) 우리나라 중학교 2학년 남학생의 평균 신장 표본조사\n",
        "- 전체 표본 크기(n) : 10,000명\n",
        "- 표본 평균(x) : 165.1 cm\n",
        "- 표본 표준편차(s) : 2cm"
      ]
    },
    {
      "cell_type": "code",
      "metadata": {
        "id": "vKzreBUHCw_l"
      },
      "source": [
        "n= 10000\n",
        "x = 165.1\n",
        "s = 2"
      ],
      "execution_count": 1,
      "outputs": []
    },
    {
      "cell_type": "code",
      "metadata": {
        "id": "eXKRTlp5DKzI",
        "outputId": "fbed3888-20ca-4e1f-9b96-ca66d5bf4293",
        "colab": {
          "base_uri": "https://localhost:8080/",
          "height": 34
        }
      },
      "source": [
        "# 1) 신뢰구간 95%의 신뢰구간 구하기(p410 공식참고)\n",
        "low <- x - 1.96 * s / sqrt(n)\n",
        "high <- x + 1.96 * s / sqrt(n)\n",
        "cat('95% 신뢰구간(모평균) : ',low ,\"~\", high)"
      ],
      "execution_count": 14,
      "outputs": [
        {
          "output_type": "stream",
          "text": [
            "95% 신뢰구간(모평균) :  164.7799 ~ 165.4201"
          ],
          "name": "stdout"
        }
      ]
    },
    {
      "cell_type": "code",
      "metadata": {
        "id": "KotQfp35DwZt",
        "outputId": "f2ce0747-8cc6-4f7e-aeea-4b849de898bd",
        "colab": {
          "base_uri": "https://localhost:8080/",
          "height": 51
        }
      },
      "source": [
        "# 2) 신뢰구간으로 표준오차 구하기 : +/-(신뢰구간 상한값 - 평균)*100\n",
        "err <- (high - x)*100\n",
        "cat(\"신뢰구간으로 표준오차 : \",err,\"\\n\")\n",
        "err <- (low - x)*100\n",
        "cat(\"신뢰구간으로 표준오차 : \",err)\n",
        "# [해석] \n",
        "# 평균 신장 : 95% 신뢰수준에서 표본오차 +/- 3.92 범위에서 165.1 cm 라면\n",
        "# 실제 평균 키는 165.0608 ~ 165.1392cm 사이에 있음"
      ],
      "execution_count": 6,
      "outputs": [
        {
          "output_type": "stream",
          "text": [
            "신뢰구간으로 표준오차 :  3.92 \n",
            "신뢰구간으로 표준오차 :  -3.92"
          ],
          "name": "stdout"
        }
      ]
    },
    {
      "cell_type": "markdown",
      "metadata": {
        "id": "xoa9WL_NHDJ7"
      },
      "source": [
        "1.3 모비율의 구간 추정\n"
      ]
    },
    {
      "cell_type": "markdown",
      "metadata": {
        "id": "qZojFyuZHWP9"
      },
      "source": [
        "(실습) A회사의 사원을 대상으로 임의 추출한 150명을 조사한 결과 90명이 여자 사원일때, 신뢰도 95%의 신뢰구간은?"
      ]
    },
    {
      "cell_type": "code",
      "metadata": {
        "id": "0QflBoO8J71c"
      },
      "source": [
        "n <- 150\n",
        "w <- 90"
      ],
      "execution_count": 8,
      "outputs": []
    },
    {
      "cell_type": "code",
      "metadata": {
        "id": "ec0llgajHhXk",
        "outputId": "5b4da66b-5229-43d8-bbd9-5a68860bba53",
        "colab": {
          "base_uri": "https://localhost:8080/",
          "height": 51
        }
      },
      "source": [
        "# 전체 사원 중 여자 사원 비율(p) : 60% (=90/150)\n",
        "p <- w / n\n",
        "q <- 1 - p\n",
        "p;q"
      ],
      "execution_count": 9,
      "outputs": [
        {
          "output_type": "display_data",
          "data": {
            "text/plain": [
              "[1] 0.6"
            ],
            "text/latex": "0.6",
            "text/markdown": "0.6",
            "text/html": [
              "0.6"
            ]
          },
          "metadata": {
            "tags": []
          }
        },
        {
          "output_type": "display_data",
          "data": {
            "text/plain": [
              "[1] 0.4"
            ],
            "text/latex": "0.4",
            "text/markdown": "0.4",
            "text/html": [
              "0.4"
            ]
          },
          "metadata": {
            "tags": []
          }
        }
      ]
    },
    {
      "cell_type": "code",
      "metadata": {
        "id": "_Tx5rW3CJgAA",
        "outputId": "75c8a28f-00db-4d4f-e0f9-d048fa38191b",
        "colab": {
          "base_uri": "https://localhost:8080/",
          "height": 34
        }
      },
      "source": [
        "# 신뢰구간 구하기(p412 공식참고)\n",
        "low <- p - 1.96 * sqrt(p*q/n)\n",
        "high <- p + 1.96 * sqrt(p*q/n)\n",
        "cat('95% 신뢰구간(모비율): ',low ,\"~\", high)"
      ],
      "execution_count": 13,
      "outputs": [
        {
          "output_type": "stream",
          "text": [
            "95% 신뢰구간(모비율):  0.5216 ~ 0.6784"
          ],
          "name": "stdout"
        }
      ]
    }
  ]
}