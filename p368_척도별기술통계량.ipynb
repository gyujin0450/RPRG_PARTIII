{
  "nbformat": 4,
  "nbformat_minor": 0,
  "metadata": {
    "colab": {
      "name": "p368_척도별기술통계량.ipynb",
      "provenance": [],
      "collapsed_sections": [],
      "authorship_tag": "ABX9TyP7Z9pg3kx9djsLU3UEJCVS",
      "include_colab_link": true
    },
    "kernelspec": {
      "name": "ir",
      "display_name": "R"
    }
  },
  "cells": [
    {
      "cell_type": "markdown",
      "metadata": {
        "id": "view-in-github",
        "colab_type": "text"
      },
      "source": [
        "<a href=\"https://colab.research.google.com/github/gyujin0450/RPRG_PARTIII/blob/main/p368_%EC%B2%99%EB%8F%84%EB%B3%84%EA%B8%B0%EC%88%A0%ED%86%B5%EA%B3%84%EB%9F%89.ipynb\" target=\"_parent\"><img src=\"https://colab.research.google.com/assets/colab-badge.svg\" alt=\"Open In Colab\"/></a>"
      ]
    },
    {
      "cell_type": "markdown",
      "metadata": {
        "id": "cLLyKhH72foJ"
      },
      "source": [
        "Ch11. 척도별 기술통계량 구하기"
      ]
    },
    {
      "cell_type": "code",
      "metadata": {
        "id": "5zuLgCC_2qFw"
      },
      "source": [
        "raw_data <- read.csv(\"descriptive.csv\", header = T)\n",
        "data <- raw_data"
      ],
      "execution_count": 40,
      "outputs": []
    },
    {
      "cell_type": "code",
      "metadata": {
        "id": "QL39x_JA3DpE",
        "outputId": "4620dd5f-27e2-4b1d-ebe4-72706f43498a",
        "colab": {
          "base_uri": "https://localhost:8080/",
          "height": 204
        }
      },
      "source": [
        "head(data)"
      ],
      "execution_count": 22,
      "outputs": [
        {
          "output_type": "display_data",
          "data": {
            "text/plain": [
              "  resident gender age level cost type survey pass\n",
              "1  1       1      50   1    5.1  1    1       2  \n",
              "2  2       1      54   2    4.2  1    2       2  \n",
              "3 NA       1      62   2    4.7  1    1       1  \n",
              "4  4       2      50  NA    3.5  1    4       1  \n",
              "5  5       1      51   1    5.0  1    3       1  \n",
              "6  3       1      55   2    5.4  1    3      NA  "
            ],
            "text/latex": "A data.frame: 6 × 8\n\\begin{tabular}{r|llllllll}\n  & resident & gender & age & level & cost & type & survey & pass\\\\\n  & <int> & <int> & <int> & <int> & <dbl> & <int> & <int> & <int>\\\\\n\\hline\n\t1 &  1 & 1 & 50 &  1 & 5.1 & 1 & 1 &  2\\\\\n\t2 &  2 & 1 & 54 &  2 & 4.2 & 1 & 2 &  2\\\\\n\t3 & NA & 1 & 62 &  2 & 4.7 & 1 & 1 &  1\\\\\n\t4 &  4 & 2 & 50 & NA & 3.5 & 1 & 4 &  1\\\\\n\t5 &  5 & 1 & 51 &  1 & 5.0 & 1 & 3 &  1\\\\\n\t6 &  3 & 1 & 55 &  2 & 5.4 & 1 & 3 & NA\\\\\n\\end{tabular}\n",
            "text/markdown": "\nA data.frame: 6 × 8\n\n| <!--/--> | resident &lt;int&gt; | gender &lt;int&gt; | age &lt;int&gt; | level &lt;int&gt; | cost &lt;dbl&gt; | type &lt;int&gt; | survey &lt;int&gt; | pass &lt;int&gt; |\n|---|---|---|---|---|---|---|---|---|\n| 1 |  1 | 1 | 50 |  1 | 5.1 | 1 | 1 |  2 |\n| 2 |  2 | 1 | 54 |  2 | 4.2 | 1 | 2 |  2 |\n| 3 | NA | 1 | 62 |  2 | 4.7 | 1 | 1 |  1 |\n| 4 |  4 | 2 | 50 | NA | 3.5 | 1 | 4 |  1 |\n| 5 |  5 | 1 | 51 |  1 | 5.0 | 1 | 3 |  1 |\n| 6 |  3 | 1 | 55 |  2 | 5.4 | 1 | 3 | NA |\n\n",
            "text/html": [
              "<table>\n",
              "<caption>A data.frame: 6 × 8</caption>\n",
              "<thead>\n",
              "\t<tr><th></th><th scope=col>resident</th><th scope=col>gender</th><th scope=col>age</th><th scope=col>level</th><th scope=col>cost</th><th scope=col>type</th><th scope=col>survey</th><th scope=col>pass</th></tr>\n",
              "\t<tr><th></th><th scope=col>&lt;int&gt;</th><th scope=col>&lt;int&gt;</th><th scope=col>&lt;int&gt;</th><th scope=col>&lt;int&gt;</th><th scope=col>&lt;dbl&gt;</th><th scope=col>&lt;int&gt;</th><th scope=col>&lt;int&gt;</th><th scope=col>&lt;int&gt;</th></tr>\n",
              "</thead>\n",
              "<tbody>\n",
              "\t<tr><th scope=row>1</th><td> 1</td><td>1</td><td>50</td><td> 1</td><td>5.1</td><td>1</td><td>1</td><td> 2</td></tr>\n",
              "\t<tr><th scope=row>2</th><td> 2</td><td>1</td><td>54</td><td> 2</td><td>4.2</td><td>1</td><td>2</td><td> 2</td></tr>\n",
              "\t<tr><th scope=row>3</th><td>NA</td><td>1</td><td>62</td><td> 2</td><td>4.7</td><td>1</td><td>1</td><td> 1</td></tr>\n",
              "\t<tr><th scope=row>4</th><td> 4</td><td>2</td><td>50</td><td>NA</td><td>3.5</td><td>1</td><td>4</td><td> 1</td></tr>\n",
              "\t<tr><th scope=row>5</th><td> 5</td><td>1</td><td>51</td><td> 1</td><td>5.0</td><td>1</td><td>3</td><td> 1</td></tr>\n",
              "\t<tr><th scope=row>6</th><td> 3</td><td>1</td><td>55</td><td> 2</td><td>5.4</td><td>1</td><td>3</td><td>NA</td></tr>\n",
              "</tbody>\n",
              "</table>\n"
            ]
          },
          "metadata": {
            "tags": []
          }
        }
      ]
    },
    {
      "cell_type": "code",
      "metadata": {
        "id": "gDLO735G3KgQ",
        "outputId": "b80f12ed-e01e-40f8-e31b-e4c9fccb6388",
        "colab": {
          "base_uri": "https://localhost:8080/",
          "height": 179
        }
      },
      "source": [
        "str(data)"
      ],
      "execution_count": 23,
      "outputs": [
        {
          "output_type": "stream",
          "text": [
            "'data.frame':\t300 obs. of  8 variables:\n",
            " $ resident: int  1 2 NA 4 5 3 2 5 NA 2 ...\n",
            " $ gender  : int  1 1 1 2 1 1 2 1 1 1 ...\n",
            " $ age     : int  50 54 62 50 51 55 56 49 49 49 ...\n",
            " $ level   : int  1 2 2 NA 1 2 1 2 1 2 ...\n",
            " $ cost    : num  5.1 4.2 4.7 3.5 5 5.4 4.1 675 4.4 4.9 ...\n",
            " $ type    : int  1 1 1 1 1 1 1 NA 1 1 ...\n",
            " $ survey  : int  1 2 1 4 3 3 NA NA NA 1 ...\n",
            " $ pass    : int  2 2 1 1 1 NA 2 2 2 1 ...\n"
          ],
          "name": "stdout"
        }
      ]
    },
    {
      "cell_type": "code",
      "metadata": {
        "id": "hq2NeCz33S5j"
      },
      "source": [
        "# resident : 거주지역(명목척도)\n",
        "# gender : 성별(명목척도)\n",
        "# age : 나이(비율척도)\n",
        "# level : 학력수준(서열척도)\n",
        "# cost : 생활비(비율척도)\n",
        "# type : 학교유형(명목척도)\n",
        "# survey : 만족도(등간척도)\n",
        "# pass : 합격여부(명목척도)"
      ],
      "execution_count": 5,
      "outputs": []
    },
    {
      "cell_type": "code",
      "metadata": {
        "id": "VNdkSMV64oc7",
        "outputId": "aa08bd34-f940-4168-bd1b-c060f73300a1",
        "colab": {
          "base_uri": "https://localhost:8080/",
          "height": 305
        }
      },
      "source": [
        "summary(data)"
      ],
      "execution_count": 24,
      "outputs": [
        {
          "output_type": "display_data",
          "data": {
            "text/plain": [
              "    resident         gender          age            level      \n",
              " Min.   :1.000   Min.   :0.00   Min.   :40.00   Min.   :1.000  \n",
              " 1st Qu.:1.000   1st Qu.:1.00   1st Qu.:48.00   1st Qu.:1.000  \n",
              " Median :2.000   Median :1.00   Median :53.00   Median :2.000  \n",
              " Mean   :2.233   Mean   :1.42   Mean   :53.88   Mean   :1.836  \n",
              " 3rd Qu.:3.000   3rd Qu.:2.00   3rd Qu.:60.00   3rd Qu.:2.000  \n",
              " Max.   :5.000   Max.   :5.00   Max.   :69.00   Max.   :3.000  \n",
              " NA's   :21                                     NA's   :13     \n",
              "      cost               type          survey          pass      \n",
              " Min.   :-457.200   Min.   :1.00   Min.   :1.00   Min.   :1.000  \n",
              " 1st Qu.:   4.425   1st Qu.:1.00   1st Qu.:2.00   1st Qu.:1.000  \n",
              " Median :   5.400   Median :1.00   Median :3.00   Median :1.000  \n",
              " Mean   :   8.752   Mean   :1.27   Mean   :2.61   Mean   :1.432  \n",
              " 3rd Qu.:   6.300   3rd Qu.:2.00   3rd Qu.:3.00   3rd Qu.:2.000  \n",
              " Max.   : 675.000   Max.   :2.00   Max.   :5.00   Max.   :2.000  \n",
              " NA's   :30         NA's   :26     NA's   :113    NA's   :20     "
            ]
          },
          "metadata": {
            "tags": []
          }
        }
      ]
    },
    {
      "cell_type": "markdown",
      "metadata": {
        "id": "OfdyDqHI9qG9"
      },
      "source": [
        "2.1 명목척도 기술통계량"
      ]
    },
    {
      "cell_type": "code",
      "metadata": {
        "id": "ShNGIrz9-Fnd",
        "outputId": "c508bc5e-836f-4307-ee45-441fd27d3318",
        "colab": {
          "base_uri": "https://localhost:8080/",
          "height": 71
        }
      },
      "source": [
        "table(data$gender)"
      ],
      "execution_count": 37,
      "outputs": [
        {
          "output_type": "display_data",
          "data": {
            "text/plain": [
              "\n",
              "  0   1   2   5 \n",
              "  2 173 124   1 "
            ]
          },
          "metadata": {
            "tags": []
          }
        }
      ]
    },
    {
      "cell_type": "code",
      "metadata": {
        "id": "Or0NLeC96JvI"
      },
      "source": [
        "# 이상치 제거 : 결측 처리 --> data 손실 X\n",
        "data$gender <- ifelse(data$gender == 0 | data$gender == 5, NA, data$gender) # dim(data) = 300 * 8 \n",
        "# 이상치 제거 : 정상치제외 --> dataㅅ곤상\n",
        "# data <- subset(data, gender == 1 | gender ==2) # dim(data) = 297*8"
      ],
      "execution_count": 41,
      "outputs": []
    },
    {
      "cell_type": "code",
      "metadata": {
        "id": "vDGJHcmC8oct",
        "outputId": "0a0a1ba7-7a0b-4f8d-9421-b77d29c487b8",
        "colab": {
          "base_uri": "https://localhost:8080/",
          "height": 71
        }
      },
      "source": [
        "table(data$gender)"
      ],
      "execution_count": 43,
      "outputs": [
        {
          "output_type": "display_data",
          "data": {
            "text/plain": [
              "\n",
              "  1   2 \n",
              "173 124 "
            ]
          },
          "metadata": {
            "tags": []
          }
        }
      ]
    },
    {
      "cell_type": "code",
      "metadata": {
        "id": "70sU1iHl8uAw",
        "outputId": "3400a557-d2f0-44d2-f15d-d44ab2a5a357",
        "colab": {
          "base_uri": "https://localhost:8080/",
          "height": 437
        }
      },
      "source": [
        "x <- table(data$gender)\n",
        "barplot(x)"
      ],
      "execution_count": 29,
      "outputs": [
        {
          "output_type": "display_data",
          "data": {
            "image/png": "[encoded data removed]",
            "text/plain": [
              "plot without title"
            ]
          },
          "metadata": {
            "tags": [],
            "image/png": {
              "width": 420,
              "height": 420
            }
          }
        }
      ]
    },
    {
      "cell_type": "code",
      "metadata": {
        "id": "MJUR6yPH9CWE",
        "outputId": "dd25330e-61e2-44ac-9e7a-b1ff7bae8b1c",
        "colab": {
          "base_uri": "https://localhost:8080/",
          "height": 71
        }
      },
      "source": [
        "# 구성비율 계산\n",
        "round(prop.table(x)*100,2)"
      ],
      "execution_count": 31,
      "outputs": [
        {
          "output_type": "display_data",
          "data": {
            "text/plain": [
              "\n",
              "    1     2 \n",
              "58.25 41.75 "
            ]
          },
          "metadata": {
            "tags": []
          }
        }
      ]
    },
    {
      "cell_type": "markdown",
      "metadata": {
        "id": "0yPgBXNi97Ar"
      },
      "source": [
        "2.2 서열척도 기술통계량"
      ]
    },
    {
      "cell_type": "code",
      "metadata": {
        "id": "fo6fRTtb5Xp9",
        "outputId": "33f34218-e91b-47b7-f5c5-8fce2db0dca3",
        "colab": {
          "base_uri": "https://localhost:8080/",
          "height": 71
        }
      },
      "source": [
        "table(data$level)"
      ],
      "execution_count": 13,
      "outputs": [
        {
          "output_type": "display_data",
          "data": {
            "text/plain": [
              "\n",
              "  1   2   3 \n",
              "117 100  70 "
            ]
          },
          "metadata": {
            "tags": []
          }
        }
      ]
    },
    {
      "cell_type": "code",
      "metadata": {
        "id": "mkEWaH1B54GK",
        "outputId": "4fec046d-7c27-4326-b7df-045727f3b6f3",
        "colab": {
          "base_uri": "https://localhost:8080/",
          "height": 437
        }
      },
      "source": [
        "y <- table(data$level)\n",
        "barplot(y) # 명목/서열척도 -> 막대차트"
      ],
      "execution_count": 44,
      "outputs": [
        {
          "output_type": "display_data",
          "data": {
            "image/png": "[encoded data removed]",
            "text/plain": [
              "plot without title"
            ]
          },
          "metadata": {
            "tags": [],
            "image/png": {
              "width": 420,
              "height": 420
            }
          }
        }
      ]
    },
    {
      "cell_type": "markdown",
      "metadata": {
        "id": "n9RdZajH_yFv"
      },
      "source": [
        "2.3 등간척도 기술통계량"
      ]
    },
    {
      "cell_type": "code",
      "metadata": {
        "id": "j8GPqtPmAHn8"
      },
      "source": [
        ""
      ],
      "execution_count": null,
      "outputs": []
    }
  ]
}