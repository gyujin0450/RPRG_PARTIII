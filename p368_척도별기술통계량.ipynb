{
  "nbformat": 4,
  "nbformat_minor": 0,
  "metadata": {
    "colab": {
      "name": "p368_척도별기술통계량.ipynb",
      "provenance": [],
      "collapsed_sections": [],
      "authorship_tag": "ABX9TyNxgqd9KK4uqcpzLLvkUrEn",
      "include_colab_link": true
    },
    "kernelspec": {
      "name": "ir",
      "display_name": "R"
    }
  },
  "cells": [
    {
      "cell_type": "markdown",
      "metadata": {
        "id": "view-in-github",
        "colab_type": "text"
      },
      "source": [
        "<a href=\"https://colab.research.google.com/github/gyujin0450/RPRG_PARTIII/blob/main/p368_%EC%B2%99%EB%8F%84%EB%B3%84%EA%B8%B0%EC%88%A0%ED%86%B5%EA%B3%84%EB%9F%89.ipynb\" target=\"_parent\"><img src=\"https://colab.research.google.com/assets/colab-badge.svg\" alt=\"Open In Colab\"/></a>"
      ]
    },
    {
      "cell_type": "code",
      "metadata": {
        "id": "bZGtfcY_m_Sq"
      },
      "source": [
        ""
      ],
      "execution_count": null,
      "outputs": []
    },
    {
      "cell_type": "markdown",
      "metadata": {
        "id": "cLLyKhH72foJ"
      },
      "source": [
        "Ch11. 척도별 기술통계량 구하기"
      ]
    },
    {
      "cell_type": "code",
      "metadata": {
        "id": "5zuLgCC_2qFw"
      },
      "source": [
        "raw_data <- read.csv(\"https://raw.githubusercontent.com/gyujin0450/RPRG_PARTIII/main/data03/descriptive.csv\", header = T)\n",
        "data <- raw_data"
      ],
      "execution_count": 1,
      "outputs": []
    },
    {
      "cell_type": "code",
      "metadata": {
        "id": "QL39x_JA3DpE",
        "outputId": "3472e792-f047-47a5-9a3b-cd11416f7e24",
        "colab": {
          "base_uri": "https://localhost:8080/",
          "height": 204
        }
      },
      "source": [
        "head(data)"
      ],
      "execution_count": 2,
      "outputs": [
        {
          "output_type": "display_data",
          "data": {
            "text/plain": [
              "  resident gender age level cost type survey pass\n",
              "1  1       1      50   1    5.1  1    1       2  \n",
              "2  2       1      54   2    4.2  1    2       2  \n",
              "3 NA       1      62   2    4.7  1    1       1  \n",
              "4  4       2      50  NA    3.5  1    4       1  \n",
              "5  5       1      51   1    5.0  1    3       1  \n",
              "6  3       1      55   2    5.4  1    3      NA  "
            ],
            "text/latex": "A data.frame: 6 × 8\n\\begin{tabular}{r|llllllll}\n  & resident & gender & age & level & cost & type & survey & pass\\\\\n  & <int> & <int> & <int> & <int> & <dbl> & <int> & <int> & <int>\\\\\n\\hline\n\t1 &  1 & 1 & 50 &  1 & 5.1 & 1 & 1 &  2\\\\\n\t2 &  2 & 1 & 54 &  2 & 4.2 & 1 & 2 &  2\\\\\n\t3 & NA & 1 & 62 &  2 & 4.7 & 1 & 1 &  1\\\\\n\t4 &  4 & 2 & 50 & NA & 3.5 & 1 & 4 &  1\\\\\n\t5 &  5 & 1 & 51 &  1 & 5.0 & 1 & 3 &  1\\\\\n\t6 &  3 & 1 & 55 &  2 & 5.4 & 1 & 3 & NA\\\\\n\\end{tabular}\n",
            "text/markdown": "\nA data.frame: 6 × 8\n\n| <!--/--> | resident &lt;int&gt; | gender &lt;int&gt; | age &lt;int&gt; | level &lt;int&gt; | cost &lt;dbl&gt; | type &lt;int&gt; | survey &lt;int&gt; | pass &lt;int&gt; |\n|---|---|---|---|---|---|---|---|---|\n| 1 |  1 | 1 | 50 |  1 | 5.1 | 1 | 1 |  2 |\n| 2 |  2 | 1 | 54 |  2 | 4.2 | 1 | 2 |  2 |\n| 3 | NA | 1 | 62 |  2 | 4.7 | 1 | 1 |  1 |\n| 4 |  4 | 2 | 50 | NA | 3.5 | 1 | 4 |  1 |\n| 5 |  5 | 1 | 51 |  1 | 5.0 | 1 | 3 |  1 |\n| 6 |  3 | 1 | 55 |  2 | 5.4 | 1 | 3 | NA |\n\n",
            "text/html": [
              "<table>\n",
              "<caption>A data.frame: 6 × 8</caption>\n",
              "<thead>\n",
              "\t<tr><th></th><th scope=col>resident</th><th scope=col>gender</th><th scope=col>age</th><th scope=col>level</th><th scope=col>cost</th><th scope=col>type</th><th scope=col>survey</th><th scope=col>pass</th></tr>\n",
              "\t<tr><th></th><th scope=col>&lt;int&gt;</th><th scope=col>&lt;int&gt;</th><th scope=col>&lt;int&gt;</th><th scope=col>&lt;int&gt;</th><th scope=col>&lt;dbl&gt;</th><th scope=col>&lt;int&gt;</th><th scope=col>&lt;int&gt;</th><th scope=col>&lt;int&gt;</th></tr>\n",
              "</thead>\n",
              "<tbody>\n",
              "\t<tr><th scope=row>1</th><td> 1</td><td>1</td><td>50</td><td> 1</td><td>5.1</td><td>1</td><td>1</td><td> 2</td></tr>\n",
              "\t<tr><th scope=row>2</th><td> 2</td><td>1</td><td>54</td><td> 2</td><td>4.2</td><td>1</td><td>2</td><td> 2</td></tr>\n",
              "\t<tr><th scope=row>3</th><td>NA</td><td>1</td><td>62</td><td> 2</td><td>4.7</td><td>1</td><td>1</td><td> 1</td></tr>\n",
              "\t<tr><th scope=row>4</th><td> 4</td><td>2</td><td>50</td><td>NA</td><td>3.5</td><td>1</td><td>4</td><td> 1</td></tr>\n",
              "\t<tr><th scope=row>5</th><td> 5</td><td>1</td><td>51</td><td> 1</td><td>5.0</td><td>1</td><td>3</td><td> 1</td></tr>\n",
              "\t<tr><th scope=row>6</th><td> 3</td><td>1</td><td>55</td><td> 2</td><td>5.4</td><td>1</td><td>3</td><td>NA</td></tr>\n",
              "</tbody>\n",
              "</table>\n"
            ]
          },
          "metadata": {
            "tags": []
          }
        }
      ]
    },
    {
      "cell_type": "code",
      "metadata": {
        "id": "gDLO735G3KgQ",
        "outputId": "e7068bfe-f230-499e-d758-c8197f0d39e9",
        "colab": {
          "base_uri": "https://localhost:8080/",
          "height": 179
        }
      },
      "source": [
        "str(data)"
      ],
      "execution_count": 3,
      "outputs": [
        {
          "output_type": "stream",
          "text": [
            "'data.frame':\t300 obs. of  8 variables:\n",
            " $ resident: int  1 2 NA 4 5 3 2 5 NA 2 ...\n",
            " $ gender  : int  1 1 1 2 1 1 2 1 1 1 ...\n",
            " $ age     : int  50 54 62 50 51 55 56 49 49 49 ...\n",
            " $ level   : int  1 2 2 NA 1 2 1 2 1 2 ...\n",
            " $ cost    : num  5.1 4.2 4.7 3.5 5 5.4 4.1 675 4.4 4.9 ...\n",
            " $ type    : int  1 1 1 1 1 1 1 NA 1 1 ...\n",
            " $ survey  : int  1 2 1 4 3 3 NA NA NA 1 ...\n",
            " $ pass    : int  2 2 1 1 1 NA 2 2 2 1 ...\n"
          ],
          "name": "stdout"
        }
      ]
    },
    {
      "cell_type": "code",
      "metadata": {
        "id": "hq2NeCz33S5j"
      },
      "source": [
        "# resident : 거주지역(명목척도)\n",
        "# gender : 성별(명목척도)\n",
        "# age : 나이(비율척도)\n",
        "# level : 학력수준(서열척도)\n",
        "# cost : 생활비(비율척도)\n",
        "# type : 학교유형(명목척도)\n",
        "# survey : 만족도(등간척도)\n",
        "# pass : 합격여부(명목척도)"
      ],
      "execution_count": 5,
      "outputs": []
    },
    {
      "cell_type": "code",
      "metadata": {
        "id": "VNdkSMV64oc7",
        "outputId": "aa08bd34-f940-4168-bd1b-c060f73300a1",
        "colab": {
          "base_uri": "https://localhost:8080/",
          "height": 305
        }
      },
      "source": [
        "summary(data)"
      ],
      "execution_count": 24,
      "outputs": [
        {
          "output_type": "display_data",
          "data": {
            "text/plain": [
              "    resident         gender          age            level      \n",
              " Min.   :1.000   Min.   :0.00   Min.   :40.00   Min.   :1.000  \n",
              " 1st Qu.:1.000   1st Qu.:1.00   1st Qu.:48.00   1st Qu.:1.000  \n",
              " Median :2.000   Median :1.00   Median :53.00   Median :2.000  \n",
              " Mean   :2.233   Mean   :1.42   Mean   :53.88   Mean   :1.836  \n",
              " 3rd Qu.:3.000   3rd Qu.:2.00   3rd Qu.:60.00   3rd Qu.:2.000  \n",
              " Max.   :5.000   Max.   :5.00   Max.   :69.00   Max.   :3.000  \n",
              " NA's   :21                                     NA's   :13     \n",
              "      cost               type          survey          pass      \n",
              " Min.   :-457.200   Min.   :1.00   Min.   :1.00   Min.   :1.000  \n",
              " 1st Qu.:   4.425   1st Qu.:1.00   1st Qu.:2.00   1st Qu.:1.000  \n",
              " Median :   5.400   Median :1.00   Median :3.00   Median :1.000  \n",
              " Mean   :   8.752   Mean   :1.27   Mean   :2.61   Mean   :1.432  \n",
              " 3rd Qu.:   6.300   3rd Qu.:2.00   3rd Qu.:3.00   3rd Qu.:2.000  \n",
              " Max.   : 675.000   Max.   :2.00   Max.   :5.00   Max.   :2.000  \n",
              " NA's   :30         NA's   :26     NA's   :113    NA's   :20     "
            ]
          },
          "metadata": {
            "tags": []
          }
        }
      ]
    },
    {
      "cell_type": "markdown",
      "metadata": {
        "id": "OfdyDqHI9qG9"
      },
      "source": [
        "2.1 명목척도 기술통계량"
      ]
    },
    {
      "cell_type": "code",
      "metadata": {
        "id": "ShNGIrz9-Fnd",
        "outputId": "c508bc5e-836f-4307-ee45-441fd27d3318",
        "colab": {
          "base_uri": "https://localhost:8080/",
          "height": 71
        }
      },
      "source": [
        "table(data$gender)"
      ],
      "execution_count": 37,
      "outputs": [
        {
          "output_type": "display_data",
          "data": {
            "text/plain": [
              "\n",
              "  0   1   2   5 \n",
              "  2 173 124   1 "
            ]
          },
          "metadata": {
            "tags": []
          }
        }
      ]
    },
    {
      "cell_type": "code",
      "metadata": {
        "id": "Or0NLeC96JvI"
      },
      "source": [
        "# 이상치 제거 : 결측 처리 --> data 손실 X\n",
        "data$gender <- ifelse(data$gender == 0 | data$gender == 5, NA, data$gender) # dim(data) = 300 * 8 \n",
        "# 이상치 제거 : 정상치제외 --> dataㅅ곤상\n",
        "# data <- subset(data, gender == 1 | gender ==2) # dim(data) = 297*8"
      ],
      "execution_count": 41,
      "outputs": []
    },
    {
      "cell_type": "code",
      "metadata": {
        "id": "vDGJHcmC8oct",
        "outputId": "0a0a1ba7-7a0b-4f8d-9421-b77d29c487b8",
        "colab": {
          "base_uri": "https://localhost:8080/",
          "height": 71
        }
      },
      "source": [
        "table(data$gender)"
      ],
      "execution_count": 43,
      "outputs": [
        {
          "output_type": "display_data",
          "data": {
            "text/plain": [
              "\n",
              "  1   2 \n",
              "173 124 "
            ]
          },
          "metadata": {
            "tags": []
          }
        }
      ]
    },
    {
      "cell_type": "code",
      "metadata": {
        "id": "70sU1iHl8uAw",
        "outputId": "3400a557-d2f0-44d2-f15d-d44ab2a5a357",
        "colab": {
          "base_uri": "https://localhost:8080/",
          "height": 437
        }
      },
      "source": [
        "x <- table(data$gender)\n",
        "barplot(x)"
      ],
      "execution_count": 29,
      "outputs": [
        {
          "output_type": "display_data",
          "data": {
            "image/png": "[encoded data removed]",
            "text/plain": [
              "plot without title"
            ]
          },
          "metadata": {
            "tags": [],
            "image/png": {
              "width": 420,
              "height": 420
            }
          }
        }
      ]
    },
    {
      "cell_type": "code",
      "metadata": {
        "id": "MJUR6yPH9CWE",
        "outputId": "dd25330e-61e2-44ac-9e7a-b1ff7bae8b1c",
        "colab": {
          "base_uri": "https://localhost:8080/",
          "height": 71
        }
      },
      "source": [
        "# 구성비율 계산\n",
        "round(prop.table(x)*100,2)"
      ],
      "execution_count": 31,
      "outputs": [
        {
          "output_type": "display_data",
          "data": {
            "text/plain": [
              "\n",
              "    1     2 \n",
              "58.25 41.75 "
            ]
          },
          "metadata": {
            "tags": []
          }
        }
      ]
    },
    {
      "cell_type": "markdown",
      "metadata": {
        "id": "0yPgBXNi97Ar"
      },
      "source": [
        "2.2 서열척도 기술통계량"
      ]
    },
    {
      "cell_type": "code",
      "metadata": {
        "id": "fo6fRTtb5Xp9",
        "outputId": "33f34218-e91b-47b7-f5c5-8fce2db0dca3",
        "colab": {
          "base_uri": "https://localhost:8080/",
          "height": 71
        }
      },
      "source": [
        "table(data$level)"
      ],
      "execution_count": 13,
      "outputs": [
        {
          "output_type": "display_data",
          "data": {
            "text/plain": [
              "\n",
              "  1   2   3 \n",
              "117 100  70 "
            ]
          },
          "metadata": {
            "tags": []
          }
        }
      ]
    },
    {
      "cell_type": "code",
      "metadata": {
        "id": "mkEWaH1B54GK",
        "outputId": "4fec046d-7c27-4326-b7df-045727f3b6f3",
        "colab": {
          "base_uri": "https://localhost:8080/",
          "height": 437
        }
      },
      "source": [
        "y <- table(data$level)\n",
        "barplot(y) # 명목/서열척도 -> 막대차트"
      ],
      "execution_count": 44,
      "outputs": [
        {
          "output_type": "display_data",
          "data": {
            "image/png": "[encoded data removed]",
            "text/plain": [
              "plot without title"
            ]
          },
          "metadata": {
            "tags": [],
            "image/png": {
              "width": 420,
              "height": 420
            }
          }
        }
      ]
    },
    {
      "cell_type": "markdown",
      "metadata": {
        "id": "n9RdZajH_yFv"
      },
      "source": [
        "2.3 등간척도 기술통계량"
      ]
    },
    {
      "cell_type": "code",
      "metadata": {
        "id": "j8GPqtPmAHn8"
      },
      "source": [
        "survay <- data$survey"
      ],
      "execution_count": 9,
      "outputs": []
    },
    {
      "cell_type": "code",
      "metadata": {
        "id": "tymOGvzikCbo",
        "outputId": "731cd36b-f556-4d36-98ab-c5123eaad444",
        "colab": {
          "base_uri": "https://localhost:8080/",
          "height": 34
        }
      },
      "source": [
        "length(survay)"
      ],
      "execution_count": 10,
      "outputs": [
        {
          "output_type": "display_data",
          "data": {
            "text/plain": [
              "[1] 300"
            ],
            "text/latex": "300",
            "text/markdown": "300",
            "text/html": [
              "300"
            ]
          },
          "metadata": {
            "tags": []
          }
        }
      ]
    },
    {
      "cell_type": "code",
      "metadata": {
        "id": "wERJKHwgju4n",
        "outputId": "b6d45148-a7bc-4396-f315-dc9dc2df9f16",
        "colab": {
          "base_uri": "https://localhost:8080/",
          "height": 53
        }
      },
      "source": [
        "summary(survay)"
      ],
      "execution_count": 5,
      "outputs": [
        {
          "output_type": "display_data",
          "data": {
            "text/plain": [
              "   Min. 1st Qu.  Median    Mean 3rd Qu.    Max.    NA's \n",
              "   1.00    2.00    3.00    2.61    3.00    5.00     113 "
            ]
          },
          "metadata": {
            "tags": []
          }
        }
      ]
    },
    {
      "cell_type": "code",
      "metadata": {
        "id": "ICmjPx8xlrT0",
        "outputId": "9f73b052-58dc-4c8b-8c4d-d657256a71d7",
        "colab": {
          "base_uri": "https://localhost:8080/",
          "height": 437
        }
      },
      "source": [
        "hist(survay)"
      ],
      "execution_count": 18,
      "outputs": [
        {
          "output_type": "display_data",
          "data": {
            "image/png": "[encoded data removed]",
            "text/plain": [
              "Plot with title “Histogram of survay”"
            ]
          },
          "metadata": {
            "tags": [],
            "image/png": {
              "width": 420,
              "height": 420
            }
          }
        }
      ]
    },
    {
      "cell_type": "code",
      "metadata": {
        "id": "pzJE_A2Xl8tS",
        "outputId": "c0b6e927-1ff3-4df1-df10-90d87f58b836",
        "colab": {
          "base_uri": "https://localhost:8080/",
          "height": 437
        }
      },
      "source": [
        "x <- table(survay)\n",
        "pie(x)"
      ],
      "execution_count": 21,
      "outputs": [
        {
          "output_type": "display_data",
          "data": {
            "image/png": "[encoded data removed]",
            "text/plain": [
              "plot without title"
            ]
          },
          "metadata": {
            "tags": [],
            "image/png": {
              "width": 420,
              "height": 420
            }
          }
        }
      ]
    },
    {
      "cell_type": "code",
      "metadata": {
        "id": "kihjGzt7lvqx",
        "outputId": "05c67f75-1bc7-4d72-deeb-4dc136021bfe",
        "colab": {
          "base_uri": "https://localhost:8080/",
          "height": 437
        }
      },
      "source": [
        "barplot(x)"
      ],
      "execution_count": 22,
      "outputs": [
        {
          "output_type": "display_data",
          "data": {
            "image/png": "[encoded data removed]",
            "text/plain": [
              "plot without title"
            ]
          },
          "metadata": {
            "tags": [],
            "image/png": {
              "width": 420,
              "height": 420
            }
          }
        }
      ]
    },
    {
      "cell_type": "code",
      "metadata": {
        "id": "V-e9vEzRlU2p",
        "outputId": "5086bdc3-82c9-495e-aadf-0faa6ad9e2b7",
        "colab": {
          "base_uri": "https://localhost:8080/",
          "height": 71
        }
      },
      "source": [
        "install.packages(\"ggplot2\")"
      ],
      "execution_count": 14,
      "outputs": [
        {
          "output_type": "stream",
          "text": [
            "Installing package into ‘/usr/local/lib/R/site-library’\n",
            "(as ‘lib’ is unspecified)\n",
            "\n"
          ],
          "name": "stderr"
        }
      ]
    },
    {
      "cell_type": "code",
      "metadata": {
        "id": "sVVi20whlhXZ"
      },
      "source": [
        "library(ggplot2)"
      ],
      "execution_count": 16,
      "outputs": []
    },
    {
      "cell_type": "code",
      "metadata": {
        "id": "xNvqwix8lCoT",
        "outputId": "1cf38ac2-4c9b-4356-ea2f-5f732b552a4d",
        "colab": {
          "base_uri": "https://localhost:8080/",
          "height": 509
        }
      },
      "source": [
        "qplot(survay)"
      ],
      "execution_count": 17,
      "outputs": [
        {
          "output_type": "stream",
          "text": [
            "`stat_bin()` using `bins = 30`. Pick better value with `binwidth`.\n",
            "\n",
            "Warning message:\n",
            "“Removed 113 rows containing non-finite values (stat_bin).”\n"
          ],
          "name": "stderr"
        },
        {
          "output_type": "display_data",
          "data": {
            "image/png": "[encoded data removed]",
            "text/plain": [
              "plot without title"
            ]
          },
          "metadata": {
            "tags": [],
            "image/png": {
              "width": 420,
              "height": 420
            }
          }
        }
      ]
    },
    {
      "cell_type": "markdown",
      "metadata": {
        "id": "cswZuOJjmOhm"
      },
      "source": [
        "2.4 비율척도 기술통계량"
      ]
    },
    {
      "cell_type": "code",
      "metadata": {
        "id": "XTiRlZCemTNO",
        "outputId": "ffa702f2-d71c-40b7-f7d7-113fa41fc3d1",
        "colab": {
          "base_uri": "https://localhost:8080/",
          "height": 53
        }
      },
      "source": [
        "summary(data$cost) # 요양통계량"
      ],
      "execution_count": 24,
      "outputs": [
        {
          "output_type": "display_data",
          "data": {
            "text/plain": [
              "    Min.  1st Qu.   Median     Mean  3rd Qu.     Max.     NA's \n",
              "-457.200    4.425    5.400    8.752    6.300  675.000       30 "
            ]
          },
          "metadata": {
            "tags": []
          }
        }
      ]
    },
    {
      "cell_type": "code",
      "metadata": {
        "id": "SJymL9oimvj8",
        "outputId": "a2ab4460-c05d-4e2c-c245-3d97bdac233d",
        "colab": {
          "base_uri": "https://localhost:8080/",
          "height": 437
        }
      },
      "source": [
        "plot(data$cost)"
      ],
      "execution_count": 25,
      "outputs": [
        {
          "output_type": "display_data",
          "data": {
            "image/png": "[encoded data removed]",
            "text/plain": [
              "plot without title"
            ]
          },
          "metadata": {
            "tags": [],
            "image/png": {
              "width": 420,
              "height": 420
            }
          }
        }
      ]
    },
    {
      "cell_type": "code",
      "metadata": {
        "id": "yHR5vkcenClB"
      },
      "source": [
        "# 결측치(NA) 및 이상치 제외한 정상 범위 데이터 만들기\n",
        "x <- subset(data$cost, data$cost >= 2 & data$cost <= 10)"
      ],
      "execution_count": 29,
      "outputs": []
    },
    {
      "cell_type": "code",
      "metadata": {
        "id": "oHhZOfldoUY5",
        "outputId": "d4519391-193c-4b5b-8880-c58d2d18e832",
        "colab": {
          "base_uri": "https://localhost:8080/",
          "height": 34
        }
      },
      "source": [
        "length(x) # 전체 300개 중 49개 데이터 제거"
      ],
      "execution_count": 32,
      "outputs": [
        {
          "output_type": "display_data",
          "data": {
            "text/plain": [
              "[1] 251"
            ],
            "text/latex": "251",
            "text/markdown": "251",
            "text/html": [
              "251"
            ]
          },
          "metadata": {
            "tags": []
          }
        }
      ]
    },
    {
      "cell_type": "code",
      "metadata": {
        "id": "3hSXZpgPnuC_",
        "outputId": "635c7bde-2c1b-4619-96fa-150e2b231eae",
        "colab": {
          "base_uri": "https://localhost:8080/",
          "height": 53
        }
      },
      "source": [
        "summary(x)"
      ],
      "execution_count": 30,
      "outputs": [
        {
          "output_type": "display_data",
          "data": {
            "text/plain": [
              "   Min. 1st Qu.  Median    Mean 3rd Qu.    Max. \n",
              "  2.100   4.600   5.400   5.361   6.200   7.900 "
            ]
          },
          "metadata": {
            "tags": []
          }
        }
      ]
    },
    {
      "cell_type": "code",
      "metadata": {
        "id": "ZUS-xKZaoC07",
        "outputId": "404b4c4f-7199-42bc-b34a-32779374e036",
        "colab": {
          "base_uri": "https://localhost:8080/",
          "height": 437
        }
      },
      "source": [
        "plot(x)"
      ],
      "execution_count": 31,
      "outputs": [
        {
          "output_type": "display_data",
          "data": {
            "image/png": "[encoded data removed]",
            "text/plain": [
              "plot without title"
            ]
          },
          "metadata": {
            "tags": [],
            "image/png": {
              "width": 420,
              "height": 420
            }
          }
        }
      ]
    },
    {
      "cell_type": "markdown",
      "metadata": {
        "id": "wIYPWpObokS3"
      },
      "source": [
        "(1) 대표값 구하기"
      ]
    },
    {
      "cell_type": "code",
      "metadata": {
        "id": "R3Zb2q71oojA",
        "outputId": "2898aa76-003f-4a69-d721-a5a51a0bd1b4",
        "colab": {
          "base_uri": "https://localhost:8080/",
          "height": 34
        }
      },
      "source": [
        "mean(x)"
      ],
      "execution_count": 33,
      "outputs": [
        {
          "output_type": "display_data",
          "data": {
            "text/plain": [
              "[1] 5.360558"
            ],
            "text/latex": "5.3605577689243",
            "text/markdown": "5.3605577689243",
            "text/html": [
              "5.3605577689243"
            ]
          },
          "metadata": {
            "tags": []
          }
        }
      ]
    },
    {
      "cell_type": "code",
      "metadata": {
        "id": "Vr052L7yos-q",
        "outputId": "ab5890b4-825c-4f07-92d9-5e0a1c5e63dc",
        "colab": {
          "base_uri": "https://localhost:8080/",
          "height": 34
        }
      },
      "source": [
        "median(x)"
      ],
      "execution_count": 34,
      "outputs": [
        {
          "output_type": "display_data",
          "data": {
            "text/plain": [
              "[1] 5.4"
            ],
            "text/latex": "5.4",
            "text/markdown": "5.4",
            "text/html": [
              "5.4"
            ]
          },
          "metadata": {
            "tags": []
          }
        }
      ]
    },
    {
      "cell_type": "code",
      "metadata": {
        "id": "YpiNkMdSov5h",
        "outputId": "3eb621a2-a836-4017-a9b5-dbb2e08b4763",
        "colab": {
          "base_uri": "https://localhost:8080/",
          "height": 136
        }
      },
      "source": [
        "sort(x)"
      ],
      "execution_count": 35,
      "outputs": [
        {
          "output_type": "display_data",
          "data": {
            "text/plain": [
              "  [1] 2.1 2.3 2.3 3.0 3.0 3.0 3.0 3.0 3.0 3.3 3.3 3.4 3.4 3.5 3.5 3.5 3.5 3.5\n",
              " [19] 3.8 3.8 3.8 3.9 3.9 3.9 4.0 4.0 4.0 4.0 4.0 4.0 4.0 4.0 4.0 4.0 4.0 4.0\n",
              " [37] 4.0 4.0 4.0 4.1 4.1 4.1 4.1 4.1 4.1 4.1 4.1 4.1 4.2 4.2 4.2 4.3 4.3 4.3\n",
              " [55] 4.3 4.3 4.4 4.4 4.4 4.4 4.5 4.6 4.6 4.6 4.6 4.6 4.7 4.7 4.7 4.7 4.7 4.7\n",
              " [73] 4.8 4.8 4.9 4.9 4.9 4.9 5.0 5.0 5.0 5.0 5.0 5.0 5.0 5.0 5.0 5.0 5.0 5.0\n",
              " [91] 5.0 5.0 5.0 5.0 5.0 5.0 5.1 5.1 5.1 5.1 5.1 5.1 5.1 5.1 5.1 5.1 5.1 5.2\n",
              "[109] 5.2 5.2 5.2 5.2 5.2 5.2 5.2 5.2 5.3 5.3 5.3 5.3 5.3 5.3 5.3 5.4 5.4 5.4\n",
              "[127] 5.4 5.4 5.5 5.5 5.5 5.5 5.5 5.5 5.5 5.5 5.5 5.6 5.6 5.6 5.6 5.7 5.7 5.7\n",
              "[145] 5.7 5.7 5.7 5.8 5.8 5.8 5.8 5.8 5.9 5.9 6.0 6.0 6.0 6.0 6.0 6.0 6.0 6.0\n",
              "[163] 6.0 6.0 6.0 6.0 6.0 6.0 6.1 6.1 6.1 6.1 6.1 6.1 6.1 6.1 6.2 6.2 6.2 6.2\n",
              "[181] 6.2 6.2 6.2 6.2 6.2 6.2 6.2 6.2 6.2 6.3 6.3 6.3 6.3 6.3 6.3 6.3 6.3 6.3\n",
              "[199] 6.3 6.3 6.3 6.3 6.3 6.3 6.3 6.4 6.4 6.4 6.4 6.4 6.4 6.4 6.4 6.4 6.4 6.4\n",
              "[217] 6.5 6.5 6.5 6.5 6.7 6.7 6.7 6.7 6.7 6.7 6.7 6.7 6.8 6.8 6.8 6.8 6.9 6.9\n",
              "[235] 6.9 6.9 7.0 7.0 7.0 7.1 7.1 7.1 7.1 7.2 7.2 7.7 7.7 7.7 7.7 7.9 7.9"
            ],
            "text/latex": "\\begin{enumerate*}\n\\item 2.1\n\\item 2.3\n\\item 2.3\n\\item 3\n\\item 3\n\\item 3\n\\item 3\n\\item 3\n\\item 3\n\\item 3.3\n\\item 3.3\n\\item 3.4\n\\item 3.4\n\\item 3.5\n\\item 3.5\n\\item 3.5\n\\item 3.5\n\\item 3.5\n\\item 3.8\n\\item 3.8\n\\item 3.8\n\\item 3.9\n\\item 3.9\n\\item 3.9\n\\item 4\n\\item 4\n\\item 4\n\\item 4\n\\item 4\n\\item 4\n\\item 4\n\\item 4\n\\item 4\n\\item 4\n\\item 4\n\\item 4\n\\item 4\n\\item 4\n\\item 4\n\\item 4.1\n\\item 4.1\n\\item 4.1\n\\item 4.1\n\\item 4.1\n\\item 4.1\n\\item 4.1\n\\item 4.1\n\\item 4.1\n\\item 4.2\n\\item 4.2\n\\item 4.2\n\\item 4.3\n\\item 4.3\n\\item 4.3\n\\item 4.3\n\\item 4.3\n\\item 4.4\n\\item 4.4\n\\item 4.4\n\\item 4.4\n\\item 4.5\n\\item 4.6\n\\item 4.6\n\\item 4.6\n\\item 4.6\n\\item 4.6\n\\item 4.7\n\\item 4.7\n\\item 4.7\n\\item 4.7\n\\item 4.7\n\\item 4.7\n\\item 4.8\n\\item 4.8\n\\item 4.9\n\\item 4.9\n\\item 4.9\n\\item 4.9\n\\item 5\n\\item 5\n\\item 5\n\\item 5\n\\item 5\n\\item 5\n\\item 5\n\\item 5\n\\item 5\n\\item 5\n\\item 5\n\\item 5\n\\item 5\n\\item 5\n\\item 5\n\\item 5\n\\item 5\n\\item 5\n\\item 5.1\n\\item 5.1\n\\item 5.1\n\\item 5.1\n\\item 5.1\n\\item 5.1\n\\item 5.1\n\\item 5.1\n\\item 5.1\n\\item 5.1\n\\item 5.1\n\\item 5.2\n\\item 5.2\n\\item 5.2\n\\item 5.2\n\\item 5.2\n\\item 5.2\n\\item 5.2\n\\item 5.2\n\\item 5.2\n\\item 5.3\n\\item 5.3\n\\item 5.3\n\\item 5.3\n\\item 5.3\n\\item 5.3\n\\item 5.3\n\\item 5.4\n\\item 5.4\n\\item 5.4\n\\item 5.4\n\\item 5.4\n\\item 5.5\n\\item 5.5\n\\item 5.5\n\\item 5.5\n\\item 5.5\n\\item 5.5\n\\item 5.5\n\\item 5.5\n\\item 5.5\n\\item 5.6\n\\item 5.6\n\\item 5.6\n\\item 5.6\n\\item 5.7\n\\item 5.7\n\\item 5.7\n\\item 5.7\n\\item 5.7\n\\item 5.7\n\\item 5.8\n\\item 5.8\n\\item 5.8\n\\item 5.8\n\\item 5.8\n\\item 5.9\n\\item 5.9\n\\item 6\n\\item 6\n\\item 6\n\\item 6\n\\item 6\n\\item 6\n\\item 6\n\\item 6\n\\item 6\n\\item 6\n\\item 6\n\\item 6\n\\item 6\n\\item 6\n\\item 6.1\n\\item 6.1\n\\item 6.1\n\\item 6.1\n\\item 6.1\n\\item 6.1\n\\item 6.1\n\\item 6.1\n\\item 6.2\n\\item 6.2\n\\item 6.2\n\\item 6.2\n\\item 6.2\n\\item 6.2\n\\item 6.2\n\\item 6.2\n\\item 6.2\n\\item 6.2\n\\item 6.2\n\\item 6.2\n\\item 6.2\n\\item 6.3\n\\item 6.3\n\\item 6.3\n\\item 6.3\n\\item 6.3\n\\item 6.3\n\\item 6.3\n\\item 6.3\n\\item 6.3\n\\item 6.3\n\\item 6.3\n\\item 6.3\n\\item 6.3\n\\item 6.3\n\\item 6.3\n\\item 6.3\n\\item 6.4\n\\item 6.4\n\\item 6.4\n\\item 6.4\n\\item 6.4\n\\item 6.4\n\\item 6.4\n\\item 6.4\n\\item 6.4\n\\item 6.4\n\\item 6.4\n\\item 6.5\n\\item 6.5\n\\item 6.5\n\\item 6.5\n\\item 6.7\n\\item 6.7\n\\item 6.7\n\\item 6.7\n\\item 6.7\n\\item 6.7\n\\item 6.7\n\\item 6.7\n\\item 6.8\n\\item 6.8\n\\item 6.8\n\\item 6.8\n\\item 6.9\n\\item 6.9\n\\item 6.9\n\\item 6.9\n\\item 7\n\\item 7\n\\item 7\n\\item 7.1\n\\item 7.1\n\\item 7.1\n\\item 7.1\n\\item 7.2\n\\item 7.2\n\\item 7.7\n\\item 7.7\n\\item 7.7\n\\item 7.7\n\\item 7.9\n\\item 7.9\n\\end{enumerate*}\n",
            "text/markdown": "1. 2.1\n2. 2.3\n3. 2.3\n4. 3\n5. 3\n6. 3\n7. 3\n8. 3\n9. 3\n10. 3.3\n11. 3.3\n12. 3.4\n13. 3.4\n14. 3.5\n15. 3.5\n16. 3.5\n17. 3.5\n18. 3.5\n19. 3.8\n20. 3.8\n21. 3.8\n22. 3.9\n23. 3.9\n24. 3.9\n25. 4\n26. 4\n27. 4\n28. 4\n29. 4\n30. 4\n31. 4\n32. 4\n33. 4\n34. 4\n35. 4\n36. 4\n37. 4\n38. 4\n39. 4\n40. 4.1\n41. 4.1\n42. 4.1\n43. 4.1\n44. 4.1\n45. 4.1\n46. 4.1\n47. 4.1\n48. 4.1\n49. 4.2\n50. 4.2\n51. 4.2\n52. 4.3\n53. 4.3\n54. 4.3\n55. 4.3\n56. 4.3\n57. 4.4\n58. 4.4\n59. 4.4\n60. 4.4\n61. 4.5\n62. 4.6\n63. 4.6\n64. 4.6\n65. 4.6\n66. 4.6\n67. 4.7\n68. 4.7\n69. 4.7\n70. 4.7\n71. 4.7\n72. 4.7\n73. 4.8\n74. 4.8\n75. 4.9\n76. 4.9\n77. 4.9\n78. 4.9\n79. 5\n80. 5\n81. 5\n82. 5\n83. 5\n84. 5\n85. 5\n86. 5\n87. 5\n88. 5\n89. 5\n90. 5\n91. 5\n92. 5\n93. 5\n94. 5\n95. 5\n96. 5\n97. 5.1\n98. 5.1\n99. 5.1\n100. 5.1\n101. 5.1\n102. 5.1\n103. 5.1\n104. 5.1\n105. 5.1\n106. 5.1\n107. 5.1\n108. 5.2\n109. 5.2\n110. 5.2\n111. 5.2\n112. 5.2\n113. 5.2\n114. 5.2\n115. 5.2\n116. 5.2\n117. 5.3\n118. 5.3\n119. 5.3\n120. 5.3\n121. 5.3\n122. 5.3\n123. 5.3\n124. 5.4\n125. 5.4\n126. 5.4\n127. 5.4\n128. 5.4\n129. 5.5\n130. 5.5\n131. 5.5\n132. 5.5\n133. 5.5\n134. 5.5\n135. 5.5\n136. 5.5\n137. 5.5\n138. 5.6\n139. 5.6\n140. 5.6\n141. 5.6\n142. 5.7\n143. 5.7\n144. 5.7\n145. 5.7\n146. 5.7\n147. 5.7\n148. 5.8\n149. 5.8\n150. 5.8\n151. 5.8\n152. 5.8\n153. 5.9\n154. 5.9\n155. 6\n156. 6\n157. 6\n158. 6\n159. 6\n160. 6\n161. 6\n162. 6\n163. 6\n164. 6\n165. 6\n166. 6\n167. 6\n168. 6\n169. 6.1\n170. 6.1\n171. 6.1\n172. 6.1\n173. 6.1\n174. 6.1\n175. 6.1\n176. 6.1\n177. 6.2\n178. 6.2\n179. 6.2\n180. 6.2\n181. 6.2\n182. 6.2\n183. 6.2\n184. 6.2\n185. 6.2\n186. 6.2\n187. 6.2\n188. 6.2\n189. 6.2\n190. 6.3\n191. 6.3\n192. 6.3\n193. 6.3\n194. 6.3\n195. 6.3\n196. 6.3\n197. 6.3\n198. 6.3\n199. 6.3\n200. 6.3\n201. 6.3\n202. 6.3\n203. 6.3\n204. 6.3\n205. 6.3\n206. 6.4\n207. 6.4\n208. 6.4\n209. 6.4\n210. 6.4\n211. 6.4\n212. 6.4\n213. 6.4\n214. 6.4\n215. 6.4\n216. 6.4\n217. 6.5\n218. 6.5\n219. 6.5\n220. 6.5\n221. 6.7\n222. 6.7\n223. 6.7\n224. 6.7\n225. 6.7\n226. 6.7\n227. 6.7\n228. 6.7\n229. 6.8\n230. 6.8\n231. 6.8\n232. 6.8\n233. 6.9\n234. 6.9\n235. 6.9\n236. 6.9\n237. 7\n238. 7\n239. 7\n240. 7.1\n241. 7.1\n242. 7.1\n243. 7.1\n244. 7.2\n245. 7.2\n246. 7.7\n247. 7.7\n248. 7.7\n249. 7.7\n250. 7.9\n251. 7.9\n\n\n",
            "text/html": [
              "<style>\n",
              ".list-inline {list-style: none; margin:0; padding: 0}\n",
              ".list-inline>li {display: inline-block}\n",
              ".list-inline>li:not(:last-child)::after {content: \"\\00b7\"; padding: 0 .5ex}\n",
              "</style>\n",
              "<ol class=list-inline><li>2.1</li><li>2.3</li><li>2.3</li><li>3</li><li>3</li><li>3</li><li>3</li><li>3</li><li>3</li><li>3.3</li><li>3.3</li><li>3.4</li><li>3.4</li><li>3.5</li><li>3.5</li><li>3.5</li><li>3.5</li><li>3.5</li><li>3.8</li><li>3.8</li><li>3.8</li><li>3.9</li><li>3.9</li><li>3.9</li><li>4</li><li>4</li><li>4</li><li>4</li><li>4</li><li>4</li><li>4</li><li>4</li><li>4</li><li>4</li><li>4</li><li>4</li><li>4</li><li>4</li><li>4</li><li>4.1</li><li>4.1</li><li>4.1</li><li>4.1</li><li>4.1</li><li>4.1</li><li>4.1</li><li>4.1</li><li>4.1</li><li>4.2</li><li>4.2</li><li>4.2</li><li>4.3</li><li>4.3</li><li>4.3</li><li>4.3</li><li>4.3</li><li>4.4</li><li>4.4</li><li>4.4</li><li>4.4</li><li>4.5</li><li>4.6</li><li>4.6</li><li>4.6</li><li>4.6</li><li>4.6</li><li>4.7</li><li>4.7</li><li>4.7</li><li>4.7</li><li>4.7</li><li>4.7</li><li>4.8</li><li>4.8</li><li>4.9</li><li>4.9</li><li>4.9</li><li>4.9</li><li>5</li><li>5</li><li>5</li><li>5</li><li>5</li><li>5</li><li>5</li><li>5</li><li>5</li><li>5</li><li>5</li><li>5</li><li>5</li><li>5</li><li>5</li><li>5</li><li>5</li><li>5</li><li>5.1</li><li>5.1</li><li>5.1</li><li>5.1</li><li>5.1</li><li>5.1</li><li>5.1</li><li>5.1</li><li>5.1</li><li>5.1</li><li>5.1</li><li>5.2</li><li>5.2</li><li>5.2</li><li>5.2</li><li>5.2</li><li>5.2</li><li>5.2</li><li>5.2</li><li>5.2</li><li>5.3</li><li>5.3</li><li>5.3</li><li>5.3</li><li>5.3</li><li>5.3</li><li>5.3</li><li>5.4</li><li>5.4</li><li>5.4</li><li>5.4</li><li>5.4</li><li>5.5</li><li>5.5</li><li>5.5</li><li>5.5</li><li>5.5</li><li>5.5</li><li>5.5</li><li>5.5</li><li>5.5</li><li>5.6</li><li>5.6</li><li>5.6</li><li>5.6</li><li>5.7</li><li>5.7</li><li>5.7</li><li>5.7</li><li>5.7</li><li>5.7</li><li>5.8</li><li>5.8</li><li>5.8</li><li>5.8</li><li>5.8</li><li>5.9</li><li>5.9</li><li>6</li><li>6</li><li>6</li><li>6</li><li>6</li><li>6</li><li>6</li><li>6</li><li>6</li><li>6</li><li>6</li><li>6</li><li>6</li><li>6</li><li>6.1</li><li>6.1</li><li>6.1</li><li>6.1</li><li>6.1</li><li>6.1</li><li>6.1</li><li>6.1</li><li>6.2</li><li>6.2</li><li>6.2</li><li>6.2</li><li>6.2</li><li>6.2</li><li>6.2</li><li>6.2</li><li>6.2</li><li>6.2</li><li>6.2</li><li>6.2</li><li>6.2</li><li>6.3</li><li>6.3</li><li>6.3</li><li>6.3</li><li>6.3</li><li>6.3</li><li>6.3</li><li>6.3</li><li>6.3</li><li>6.3</li><li>6.3</li><li>6.3</li><li>6.3</li><li>6.3</li><li>6.3</li><li>6.3</li><li>6.4</li><li>6.4</li><li>6.4</li><li>6.4</li><li>6.4</li><li>6.4</li><li>6.4</li><li>6.4</li><li>6.4</li><li>6.4</li><li>6.4</li><li>6.5</li><li>6.5</li><li>6.5</li><li>6.5</li><li>6.7</li><li>6.7</li><li>6.7</li><li>6.7</li><li>6.7</li><li>6.7</li><li>6.7</li><li>6.7</li><li>6.8</li><li>6.8</li><li>6.8</li><li>6.8</li><li>6.9</li><li>6.9</li><li>6.9</li><li>6.9</li><li>7</li><li>7</li><li>7</li><li>7.1</li><li>7.1</li><li>7.1</li><li>7.1</li><li>7.2</li><li>7.2</li><li>7.7</li><li>7.7</li><li>7.7</li><li>7.7</li><li>7.9</li><li>7.9</li></ol>\n"
            ]
          },
          "metadata": {
            "tags": []
          }
        }
      ]
    },
    {
      "cell_type": "code",
      "metadata": {
        "id": "0JeALu1_oy-f",
        "outputId": "33412132-8036-4c9c-ff32-cd863347982d",
        "colab": {
          "base_uri": "https://localhost:8080/",
          "height": 136
        }
      },
      "source": [
        "sort(x, decreasing = T)"
      ],
      "execution_count": 36,
      "outputs": [
        {
          "output_type": "display_data",
          "data": {
            "text/plain": [
              "  [1] 7.9 7.9 7.7 7.7 7.7 7.7 7.2 7.2 7.1 7.1 7.1 7.1 7.0 7.0 7.0 6.9 6.9 6.9\n",
              " [19] 6.9 6.8 6.8 6.8 6.8 6.7 6.7 6.7 6.7 6.7 6.7 6.7 6.7 6.5 6.5 6.5 6.5 6.4\n",
              " [37] 6.4 6.4 6.4 6.4 6.4 6.4 6.4 6.4 6.4 6.4 6.3 6.3 6.3 6.3 6.3 6.3 6.3 6.3\n",
              " [55] 6.3 6.3 6.3 6.3 6.3 6.3 6.3 6.3 6.2 6.2 6.2 6.2 6.2 6.2 6.2 6.2 6.2 6.2\n",
              " [73] 6.2 6.2 6.2 6.1 6.1 6.1 6.1 6.1 6.1 6.1 6.1 6.0 6.0 6.0 6.0 6.0 6.0 6.0\n",
              " [91] 6.0 6.0 6.0 6.0 6.0 6.0 6.0 5.9 5.9 5.8 5.8 5.8 5.8 5.8 5.7 5.7 5.7 5.7\n",
              "[109] 5.7 5.7 5.6 5.6 5.6 5.6 5.5 5.5 5.5 5.5 5.5 5.5 5.5 5.5 5.5 5.4 5.4 5.4\n",
              "[127] 5.4 5.4 5.3 5.3 5.3 5.3 5.3 5.3 5.3 5.2 5.2 5.2 5.2 5.2 5.2 5.2 5.2 5.2\n",
              "[145] 5.1 5.1 5.1 5.1 5.1 5.1 5.1 5.1 5.1 5.1 5.1 5.0 5.0 5.0 5.0 5.0 5.0 5.0\n",
              "[163] 5.0 5.0 5.0 5.0 5.0 5.0 5.0 5.0 5.0 5.0 5.0 4.9 4.9 4.9 4.9 4.8 4.8 4.7\n",
              "[181] 4.7 4.7 4.7 4.7 4.7 4.6 4.6 4.6 4.6 4.6 4.5 4.4 4.4 4.4 4.4 4.3 4.3 4.3\n",
              "[199] 4.3 4.3 4.2 4.2 4.2 4.1 4.1 4.1 4.1 4.1 4.1 4.1 4.1 4.1 4.0 4.0 4.0 4.0\n",
              "[217] 4.0 4.0 4.0 4.0 4.0 4.0 4.0 4.0 4.0 4.0 4.0 3.9 3.9 3.9 3.8 3.8 3.8 3.5\n",
              "[235] 3.5 3.5 3.5 3.5 3.4 3.4 3.3 3.3 3.0 3.0 3.0 3.0 3.0 3.0 2.3 2.3 2.1"
            ],
            "text/latex": "\\begin{enumerate*}\n\\item 7.9\n\\item 7.9\n\\item 7.7\n\\item 7.7\n\\item 7.7\n\\item 7.7\n\\item 7.2\n\\item 7.2\n\\item 7.1\n\\item 7.1\n\\item 7.1\n\\item 7.1\n\\item 7\n\\item 7\n\\item 7\n\\item 6.9\n\\item 6.9\n\\item 6.9\n\\item 6.9\n\\item 6.8\n\\item 6.8\n\\item 6.8\n\\item 6.8\n\\item 6.7\n\\item 6.7\n\\item 6.7\n\\item 6.7\n\\item 6.7\n\\item 6.7\n\\item 6.7\n\\item 6.7\n\\item 6.5\n\\item 6.5\n\\item 6.5\n\\item 6.5\n\\item 6.4\n\\item 6.4\n\\item 6.4\n\\item 6.4\n\\item 6.4\n\\item 6.4\n\\item 6.4\n\\item 6.4\n\\item 6.4\n\\item 6.4\n\\item 6.4\n\\item 6.3\n\\item 6.3\n\\item 6.3\n\\item 6.3\n\\item 6.3\n\\item 6.3\n\\item 6.3\n\\item 6.3\n\\item 6.3\n\\item 6.3\n\\item 6.3\n\\item 6.3\n\\item 6.3\n\\item 6.3\n\\item 6.3\n\\item 6.3\n\\item 6.2\n\\item 6.2\n\\item 6.2\n\\item 6.2\n\\item 6.2\n\\item 6.2\n\\item 6.2\n\\item 6.2\n\\item 6.2\n\\item 6.2\n\\item 6.2\n\\item 6.2\n\\item 6.2\n\\item 6.1\n\\item 6.1\n\\item 6.1\n\\item 6.1\n\\item 6.1\n\\item 6.1\n\\item 6.1\n\\item 6.1\n\\item 6\n\\item 6\n\\item 6\n\\item 6\n\\item 6\n\\item 6\n\\item 6\n\\item 6\n\\item 6\n\\item 6\n\\item 6\n\\item 6\n\\item 6\n\\item 6\n\\item 5.9\n\\item 5.9\n\\item 5.8\n\\item 5.8\n\\item 5.8\n\\item 5.8\n\\item 5.8\n\\item 5.7\n\\item 5.7\n\\item 5.7\n\\item 5.7\n\\item 5.7\n\\item 5.7\n\\item 5.6\n\\item 5.6\n\\item 5.6\n\\item 5.6\n\\item 5.5\n\\item 5.5\n\\item 5.5\n\\item 5.5\n\\item 5.5\n\\item 5.5\n\\item 5.5\n\\item 5.5\n\\item 5.5\n\\item 5.4\n\\item 5.4\n\\item 5.4\n\\item 5.4\n\\item 5.4\n\\item 5.3\n\\item 5.3\n\\item 5.3\n\\item 5.3\n\\item 5.3\n\\item 5.3\n\\item 5.3\n\\item 5.2\n\\item 5.2\n\\item 5.2\n\\item 5.2\n\\item 5.2\n\\item 5.2\n\\item 5.2\n\\item 5.2\n\\item 5.2\n\\item 5.1\n\\item 5.1\n\\item 5.1\n\\item 5.1\n\\item 5.1\n\\item 5.1\n\\item 5.1\n\\item 5.1\n\\item 5.1\n\\item 5.1\n\\item 5.1\n\\item 5\n\\item 5\n\\item 5\n\\item 5\n\\item 5\n\\item 5\n\\item 5\n\\item 5\n\\item 5\n\\item 5\n\\item 5\n\\item 5\n\\item 5\n\\item 5\n\\item 5\n\\item 5\n\\item 5\n\\item 5\n\\item 4.9\n\\item 4.9\n\\item 4.9\n\\item 4.9\n\\item 4.8\n\\item 4.8\n\\item 4.7\n\\item 4.7\n\\item 4.7\n\\item 4.7\n\\item 4.7\n\\item 4.7\n\\item 4.6\n\\item 4.6\n\\item 4.6\n\\item 4.6\n\\item 4.6\n\\item 4.5\n\\item 4.4\n\\item 4.4\n\\item 4.4\n\\item 4.4\n\\item 4.3\n\\item 4.3\n\\item 4.3\n\\item 4.3\n\\item 4.3\n\\item 4.2\n\\item 4.2\n\\item 4.2\n\\item 4.1\n\\item 4.1\n\\item 4.1\n\\item 4.1\n\\item 4.1\n\\item 4.1\n\\item 4.1\n\\item 4.1\n\\item 4.1\n\\item 4\n\\item 4\n\\item 4\n\\item 4\n\\item 4\n\\item 4\n\\item 4\n\\item 4\n\\item 4\n\\item 4\n\\item 4\n\\item 4\n\\item 4\n\\item 4\n\\item 4\n\\item 3.9\n\\item 3.9\n\\item 3.9\n\\item 3.8\n\\item 3.8\n\\item 3.8\n\\item 3.5\n\\item 3.5\n\\item 3.5\n\\item 3.5\n\\item 3.5\n\\item 3.4\n\\item 3.4\n\\item 3.3\n\\item 3.3\n\\item 3\n\\item 3\n\\item 3\n\\item 3\n\\item 3\n\\item 3\n\\item 2.3\n\\item 2.3\n\\item 2.1\n\\end{enumerate*}\n",
            "text/markdown": "1. 7.9\n2. 7.9\n3. 7.7\n4. 7.7\n5. 7.7\n6. 7.7\n7. 7.2\n8. 7.2\n9. 7.1\n10. 7.1\n11. 7.1\n12. 7.1\n13. 7\n14. 7\n15. 7\n16. 6.9\n17. 6.9\n18. 6.9\n19. 6.9\n20. 6.8\n21. 6.8\n22. 6.8\n23. 6.8\n24. 6.7\n25. 6.7\n26. 6.7\n27. 6.7\n28. 6.7\n29. 6.7\n30. 6.7\n31. 6.7\n32. 6.5\n33. 6.5\n34. 6.5\n35. 6.5\n36. 6.4\n37. 6.4\n38. 6.4\n39. 6.4\n40. 6.4\n41. 6.4\n42. 6.4\n43. 6.4\n44. 6.4\n45. 6.4\n46. 6.4\n47. 6.3\n48. 6.3\n49. 6.3\n50. 6.3\n51. 6.3\n52. 6.3\n53. 6.3\n54. 6.3\n55. 6.3\n56. 6.3\n57. 6.3\n58. 6.3\n59. 6.3\n60. 6.3\n61. 6.3\n62. 6.3\n63. 6.2\n64. 6.2\n65. 6.2\n66. 6.2\n67. 6.2\n68. 6.2\n69. 6.2\n70. 6.2\n71. 6.2\n72. 6.2\n73. 6.2\n74. 6.2\n75. 6.2\n76. 6.1\n77. 6.1\n78. 6.1\n79. 6.1\n80. 6.1\n81. 6.1\n82. 6.1\n83. 6.1\n84. 6\n85. 6\n86. 6\n87. 6\n88. 6\n89. 6\n90. 6\n91. 6\n92. 6\n93. 6\n94. 6\n95. 6\n96. 6\n97. 6\n98. 5.9\n99. 5.9\n100. 5.8\n101. 5.8\n102. 5.8\n103. 5.8\n104. 5.8\n105. 5.7\n106. 5.7\n107. 5.7\n108. 5.7\n109. 5.7\n110. 5.7\n111. 5.6\n112. 5.6\n113. 5.6\n114. 5.6\n115. 5.5\n116. 5.5\n117. 5.5\n118. 5.5\n119. 5.5\n120. 5.5\n121. 5.5\n122. 5.5\n123. 5.5\n124. 5.4\n125. 5.4\n126. 5.4\n127. 5.4\n128. 5.4\n129. 5.3\n130. 5.3\n131. 5.3\n132. 5.3\n133. 5.3\n134. 5.3\n135. 5.3\n136. 5.2\n137. 5.2\n138. 5.2\n139. 5.2\n140. 5.2\n141. 5.2\n142. 5.2\n143. 5.2\n144. 5.2\n145. 5.1\n146. 5.1\n147. 5.1\n148. 5.1\n149. 5.1\n150. 5.1\n151. 5.1\n152. 5.1\n153. 5.1\n154. 5.1\n155. 5.1\n156. 5\n157. 5\n158. 5\n159. 5\n160. 5\n161. 5\n162. 5\n163. 5\n164. 5\n165. 5\n166. 5\n167. 5\n168. 5\n169. 5\n170. 5\n171. 5\n172. 5\n173. 5\n174. 4.9\n175. 4.9\n176. 4.9\n177. 4.9\n178. 4.8\n179. 4.8\n180. 4.7\n181. 4.7\n182. 4.7\n183. 4.7\n184. 4.7\n185. 4.7\n186. 4.6\n187. 4.6\n188. 4.6\n189. 4.6\n190. 4.6\n191. 4.5\n192. 4.4\n193. 4.4\n194. 4.4\n195. 4.4\n196. 4.3\n197. 4.3\n198. 4.3\n199. 4.3\n200. 4.3\n201. 4.2\n202. 4.2\n203. 4.2\n204. 4.1\n205. 4.1\n206. 4.1\n207. 4.1\n208. 4.1\n209. 4.1\n210. 4.1\n211. 4.1\n212. 4.1\n213. 4\n214. 4\n215. 4\n216. 4\n217. 4\n218. 4\n219. 4\n220. 4\n221. 4\n222. 4\n223. 4\n224. 4\n225. 4\n226. 4\n227. 4\n228. 3.9\n229. 3.9\n230. 3.9\n231. 3.8\n232. 3.8\n233. 3.8\n234. 3.5\n235. 3.5\n236. 3.5\n237. 3.5\n238. 3.5\n239. 3.4\n240. 3.4\n241. 3.3\n242. 3.3\n243. 3\n244. 3\n245. 3\n246. 3\n247. 3\n248. 3\n249. 2.3\n250. 2.3\n251. 2.1\n\n\n",
            "text/html": [
              "<style>\n",
              ".list-inline {list-style: none; margin:0; padding: 0}\n",
              ".list-inline>li {display: inline-block}\n",
              ".list-inline>li:not(:last-child)::after {content: \"\\00b7\"; padding: 0 .5ex}\n",
              "</style>\n",
              "<ol class=list-inline><li>7.9</li><li>7.9</li><li>7.7</li><li>7.7</li><li>7.7</li><li>7.7</li><li>7.2</li><li>7.2</li><li>7.1</li><li>7.1</li><li>7.1</li><li>7.1</li><li>7</li><li>7</li><li>7</li><li>6.9</li><li>6.9</li><li>6.9</li><li>6.9</li><li>6.8</li><li>6.8</li><li>6.8</li><li>6.8</li><li>6.7</li><li>6.7</li><li>6.7</li><li>6.7</li><li>6.7</li><li>6.7</li><li>6.7</li><li>6.7</li><li>6.5</li><li>6.5</li><li>6.5</li><li>6.5</li><li>6.4</li><li>6.4</li><li>6.4</li><li>6.4</li><li>6.4</li><li>6.4</li><li>6.4</li><li>6.4</li><li>6.4</li><li>6.4</li><li>6.4</li><li>6.3</li><li>6.3</li><li>6.3</li><li>6.3</li><li>6.3</li><li>6.3</li><li>6.3</li><li>6.3</li><li>6.3</li><li>6.3</li><li>6.3</li><li>6.3</li><li>6.3</li><li>6.3</li><li>6.3</li><li>6.3</li><li>6.2</li><li>6.2</li><li>6.2</li><li>6.2</li><li>6.2</li><li>6.2</li><li>6.2</li><li>6.2</li><li>6.2</li><li>6.2</li><li>6.2</li><li>6.2</li><li>6.2</li><li>6.1</li><li>6.1</li><li>6.1</li><li>6.1</li><li>6.1</li><li>6.1</li><li>6.1</li><li>6.1</li><li>6</li><li>6</li><li>6</li><li>6</li><li>6</li><li>6</li><li>6</li><li>6</li><li>6</li><li>6</li><li>6</li><li>6</li><li>6</li><li>6</li><li>5.9</li><li>5.9</li><li>5.8</li><li>5.8</li><li>5.8</li><li>5.8</li><li>5.8</li><li>5.7</li><li>5.7</li><li>5.7</li><li>5.7</li><li>5.7</li><li>5.7</li><li>5.6</li><li>5.6</li><li>5.6</li><li>5.6</li><li>5.5</li><li>5.5</li><li>5.5</li><li>5.5</li><li>5.5</li><li>5.5</li><li>5.5</li><li>5.5</li><li>5.5</li><li>5.4</li><li>5.4</li><li>5.4</li><li>5.4</li><li>5.4</li><li>5.3</li><li>5.3</li><li>5.3</li><li>5.3</li><li>5.3</li><li>5.3</li><li>5.3</li><li>5.2</li><li>5.2</li><li>5.2</li><li>5.2</li><li>5.2</li><li>5.2</li><li>5.2</li><li>5.2</li><li>5.2</li><li>5.1</li><li>5.1</li><li>5.1</li><li>5.1</li><li>5.1</li><li>5.1</li><li>5.1</li><li>5.1</li><li>5.1</li><li>5.1</li><li>5.1</li><li>5</li><li>5</li><li>5</li><li>5</li><li>5</li><li>5</li><li>5</li><li>5</li><li>5</li><li>5</li><li>5</li><li>5</li><li>5</li><li>5</li><li>5</li><li>5</li><li>5</li><li>5</li><li>4.9</li><li>4.9</li><li>4.9</li><li>4.9</li><li>4.8</li><li>4.8</li><li>4.7</li><li>4.7</li><li>4.7</li><li>4.7</li><li>4.7</li><li>4.7</li><li>4.6</li><li>4.6</li><li>4.6</li><li>4.6</li><li>4.6</li><li>4.5</li><li>4.4</li><li>4.4</li><li>4.4</li><li>4.4</li><li>4.3</li><li>4.3</li><li>4.3</li><li>4.3</li><li>4.3</li><li>4.2</li><li>4.2</li><li>4.2</li><li>4.1</li><li>4.1</li><li>4.1</li><li>4.1</li><li>4.1</li><li>4.1</li><li>4.1</li><li>4.1</li><li>4.1</li><li>4</li><li>4</li><li>4</li><li>4</li><li>4</li><li>4</li><li>4</li><li>4</li><li>4</li><li>4</li><li>4</li><li>4</li><li>4</li><li>4</li><li>4</li><li>3.9</li><li>3.9</li><li>3.9</li><li>3.8</li><li>3.8</li><li>3.8</li><li>3.5</li><li>3.5</li><li>3.5</li><li>3.5</li><li>3.5</li><li>3.4</li><li>3.4</li><li>3.3</li><li>3.3</li><li>3</li><li>3</li><li>3</li><li>3</li><li>3</li><li>3</li><li>2.3</li><li>2.3</li><li>2.1</li></ol>\n"
            ]
          },
          "metadata": {
            "tags": []
          }
        }
      ]
    },
    {
      "cell_type": "code",
      "metadata": {
        "id": "13PYGpPxo4JE",
        "outputId": "b39367c0-a53f-4aa6-a465-e78a3ccd4b7a",
        "colab": {
          "base_uri": "https://localhost:8080/",
          "height": 34
        }
      },
      "source": [
        "# 사분위수 구하기\n",
        "quantile(x,1/4)"
      ],
      "execution_count": 37,
      "outputs": [
        {
          "output_type": "display_data",
          "data": {
            "text/plain": [
              "25% \n",
              "4.6 "
            ],
            "text/latex": "\\textbf{25\\textbackslash{}\\%:} 4.6",
            "text/markdown": "**25%:** 4.6",
            "text/html": [
              "<strong>25%:</strong> 4.6"
            ]
          },
          "metadata": {
            "tags": []
          }
        }
      ]
    },
    {
      "cell_type": "code",
      "metadata": {
        "id": "YjAWBxA6pCxt",
        "outputId": "72c4dea2-0e46-40d8-c6cb-831dc45b63e6",
        "colab": {
          "base_uri": "https://localhost:8080/",
          "height": 34
        }
      },
      "source": [
        "quantile(x,2/4) # median과 같음"
      ],
      "execution_count": 38,
      "outputs": [
        {
          "output_type": "display_data",
          "data": {
            "text/plain": [
              "50% \n",
              "5.4 "
            ],
            "text/latex": "\\textbf{50\\textbackslash{}\\%:} 5.4",
            "text/markdown": "**50%:** 5.4",
            "text/html": [
              "<strong>50%:</strong> 5.4"
            ]
          },
          "metadata": {
            "tags": []
          }
        }
      ]
    },
    {
      "cell_type": "code",
      "metadata": {
        "id": "Hpysjy4ypSqk",
        "outputId": "fcc5409c-cccf-476f-9c3d-1d192aa6ff12",
        "colab": {
          "base_uri": "https://localhost:8080/",
          "height": 34
        }
      },
      "source": [
        "quantile(x,3/4)"
      ],
      "execution_count": 39,
      "outputs": [
        {
          "output_type": "display_data",
          "data": {
            "text/plain": [
              "75% \n",
              "6.2 "
            ],
            "text/latex": "\\textbf{75\\textbackslash{}\\%:} 6.2",
            "text/markdown": "**75%:** 6.2",
            "text/html": [
              "<strong>75%:</strong> 6.2"
            ]
          },
          "metadata": {
            "tags": []
          }
        }
      ]
    },
    {
      "cell_type": "code",
      "metadata": {
        "id": "ALQqH9WYpVD7",
        "outputId": "18a6c8b6-6d08-49ab-96f3-8d25e87a81f1",
        "colab": {
          "base_uri": "https://localhost:8080/",
          "height": 34
        }
      },
      "source": [
        "quantile(x,4/4) # Max와 같음"
      ],
      "execution_count": 40,
      "outputs": [
        {
          "output_type": "display_data",
          "data": {
            "text/plain": [
              "100% \n",
              " 7.9 "
            ],
            "text/latex": "\\textbf{100\\textbackslash{}\\%:} 7.9",
            "text/markdown": "**100%:** 7.9",
            "text/html": [
              "<strong>100%:</strong> 7.9"
            ]
          },
          "metadata": {
            "tags": []
          }
        }
      ]
    },
    {
      "cell_type": "code",
      "metadata": {
        "id": "DiJJpcCvpacQ"
      },
      "source": [
        ""
      ],
      "execution_count": null,
      "outputs": []
    }
  ]
}