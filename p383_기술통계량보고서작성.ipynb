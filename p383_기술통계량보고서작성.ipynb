{
  "nbformat": 4,
  "nbformat_minor": 0,
  "metadata": {
    "colab": {
      "name": "p383_기술통계량보고서작성.ipynb",
      "provenance": [],
      "authorship_tag": "ABX9TyMqb7b7mxg0w9ot+bhG8CBx",
      "include_colab_link": true
    },
    "kernelspec": {
      "name": "ir",
      "display_name": "R"
    }
  },
  "cells": [
    {
      "cell_type": "markdown",
      "metadata": {
        "id": "view-in-github",
        "colab_type": "text"
      },
      "source": [
        "<a href=\"https://colab.research.google.com/github/gyujin0450/RPRG_PARTIII/blob/main/p383_%EA%B8%B0%EC%88%A0%ED%86%B5%EA%B3%84%EB%9F%89%EB%B3%B4%EA%B3%A0%EC%84%9C%EC%9E%91%EC%84%B1.ipynb\" target=\"_parent\"><img src=\"https://colab.research.google.com/assets/colab-badge.svg\" alt=\"Open In Colab\"/></a>"
      ]
    },
    {
      "cell_type": "markdown",
      "metadata": {
        "id": "EA-611viA-NT"
      },
      "source": [
        "ch11.3 기술통계량 보고서 작성\n",
        "- 설문조사한 결과를 토대로 논문이나 보고서를 작성한 경우\n",
        "  응답자의 인구통계학적 특성은 반드시 제시해야 함"
      ]
    },
    {
      "cell_type": "code",
      "metadata": {
        "id": "yfvlFkyGBLeL"
      },
      "source": [
        "raw_data <- read.csv(\"https://raw.githubusercontent.com/gyujin0450/RPRG_PARTIII/main/data03/descriptive.csv\", header = T)\n",
        "data <- raw_data"
      ],
      "execution_count": null,
      "outputs": []
    },
    {
      "cell_type": "code",
      "metadata": {
        "id": "mlM-zTq8CujE",
        "outputId": "e4b11507-fe90-4f7c-c047-f72739b842eb",
        "colab": {
          "base_uri": "https://localhost:8080/",
          "height": 170
        }
      },
      "source": [
        "str(data)"
      ],
      "execution_count": null,
      "outputs": [
        {
          "output_type": "stream",
          "text": [
            "'data.frame':\t300 obs. of  8 variables:\n",
            " $ resident: int  1 2 NA 4 5 3 2 5 NA 2 ...\n",
            " $ gender  : int  1 1 1 2 1 1 2 1 1 1 ...\n",
            " $ age     : int  50 54 62 50 51 55 56 49 49 49 ...\n",
            " $ level   : int  1 2 2 NA 1 2 1 2 1 2 ...\n",
            " $ cost    : num  5.1 4.2 4.7 3.5 5 5.4 4.1 675 4.4 4.9 ...\n",
            " $ type    : int  1 1 1 1 1 1 1 NA 1 1 ...\n",
            " $ survey  : int  1 2 1 4 3 3 NA NA NA 1 ...\n",
            " $ pass    : int  2 2 1 1 1 NA 2 2 2 1 ...\n"
          ],
          "name": "stdout"
        }
      ]
    },
    {
      "cell_type": "code",
      "metadata": {
        "id": "iLL_oArLCpZ5"
      },
      "source": [
        "# 1) 거주지역(resident) 변수의 리코딩과 비율 계산\n",
        "data$resident2[data$resident == 1] <- \"특별시\"\n",
        "data$resident2[data$resident >= 2 & data$resident <= 4]  <- \"광역시\"\n",
        "data$resident2[data$resident == 5] <- \"시군구\""
      ],
      "execution_count": null,
      "outputs": []
    },
    {
      "cell_type": "code",
      "metadata": {
        "id": "mMd5CZJwDV_U",
        "outputId": "700e3e06-a9f6-4190-abaa-31b18c39f2ed",
        "colab": {
          "base_uri": "https://localhost:8080/",
          "height": 68
        }
      },
      "source": [
        "x <- table(data$resident2)\n",
        "x"
      ],
      "execution_count": null,
      "outputs": [
        {
          "output_type": "display_data",
          "data": {
            "text/plain": [
              "\n",
              "광역시 시군구 특별시 \n",
              "   103     44    132 "
            ]
          },
          "metadata": {
            "tags": []
          }
        }
      ]
    },
    {
      "cell_type": "code",
      "metadata": {
        "id": "alLjd12yDnMd",
        "outputId": "7a211c56-db6e-4982-e353-a0ef6ef8ac3d",
        "colab": {
          "base_uri": "https://localhost:8080/",
          "height": 68
        }
      },
      "source": [
        "y <- prop.table(x)\n",
        "round(y * 100, 2) # 백분율 적용(소수점 2자리)"
      ],
      "execution_count": null,
      "outputs": [
        {
          "output_type": "display_data",
          "data": {
            "text/plain": [
              "\n",
              "광역시 시군구 특별시 \n",
              " 36.92  15.77  47.31 "
            ]
          },
          "metadata": {
            "tags": []
          }
        }
      ]
    },
    {
      "cell_type": "code",
      "metadata": {
        "id": "qGw1LxV8D8hK",
        "outputId": "fcd65f10-d368-49a1-a9ef-4cc394495d17",
        "colab": {
          "base_uri": "https://localhost:8080/",
          "height": 68
        }
      },
      "source": [
        "# 2) 성별(gender) 변수의 리코딩과 비율 계산\n",
        "data$gender2[data$gender == 1] <- \"남성\"\n",
        "data$gender2[data$gender == 2] <- \"여성\"\n",
        "x <- table(data$gender2)\n",
        "round(prop.table(x)*100,2)"
      ],
      "execution_count": null,
      "outputs": [
        {
          "output_type": "display_data",
          "data": {
            "text/plain": [
              "\n",
              " 남성  여성 \n",
              "58.25 41.75 "
            ]
          },
          "metadata": {
            "tags": []
          }
        }
      ]
    },
    {
      "cell_type": "code",
      "metadata": {
        "id": "TxhdT7cXE9wU",
        "outputId": "7ca43fc9-dba2-4253-f488-6b6f7cc06421",
        "colab": {
          "base_uri": "https://localhost:8080/",
          "height": 51
        }
      },
      "source": [
        "# 3) 나이(age) 변수 리코딩과 비율 계산\n",
        "summary(data$age)"
      ],
      "execution_count": null,
      "outputs": [
        {
          "output_type": "display_data",
          "data": {
            "text/plain": [
              "   Min. 1st Qu.  Median    Mean 3rd Qu.    Max. \n",
              "  40.00   48.00   53.00   53.88   60.00   69.00 "
            ]
          },
          "metadata": {
            "tags": []
          }
        }
      ]
    },
    {
      "cell_type": "code",
      "metadata": {
        "id": "22dhgISkFUhU",
        "outputId": "9b921620-0eeb-40a5-d7b8-85451e970c55",
        "colab": {
          "base_uri": "https://localhost:8080/",
          "height": 437
        }
      },
      "source": [
        "hist(data$age)"
      ],
      "execution_count": null,
      "outputs": [
        {
          "output_type": "display_data",
          "data": {
            "image/png": "[encoded data removed]",
            "text/plain": [
              "Plot with title “Histogram of data$age”"
            ]
          },
          "metadata": {
            "tags": [],
            "image/png": {
              "width": 420,
              "height": 420
            }
          }
        }
      ]
    },
    {
      "cell_type": "code",
      "metadata": {
        "id": "xrY-d7N9FYPM",
        "outputId": "df6f4fc4-45d8-4c78-f2f6-4aa69492584b",
        "colab": {
          "base_uri": "https://localhost:8080/",
          "height": 68
        }
      },
      "source": [
        "data$age2[data$age <= 45] <- \"중년층\"\n",
        "data$age2[data$age > 45 & data$age < 60] <- \"장년층\"\n",
        "data$age2[data$age >= 60] <- \"노년층\"\n",
        "x <- table(data$age2)\n",
        "round(prop.table(x)*100,2)"
      ],
      "execution_count": null,
      "outputs": [
        {
          "output_type": "display_data",
          "data": {
            "text/plain": [
              "\n",
              "노년층 장년층 중년층 \n",
              " 26.00  66.67   7.33 "
            ]
          },
          "metadata": {
            "tags": []
          }
        }
      ]
    },
    {
      "cell_type": "code",
      "metadata": {
        "id": "X5VL6lVjGHgp",
        "outputId": "9004e4f0-c5c4-4077-ff0c-e551cab5bc07",
        "colab": {
          "base_uri": "https://localhost:8080/",
          "height": 68
        }
      },
      "source": [
        "# 4) 학력 수준(level) 변수의 리코딩과 비율 계산\n",
        "data$level2[data$level == 1] <- \"고졸\"\n",
        "data$level2[data$level == 2] <- \"대졸\"\n",
        "data$level2[data$level == 3] <- \"대학원졸\"\n",
        "x <- table(data$level2)\n",
        "round(prop.table(x)*100,2)"
      ],
      "execution_count": null,
      "outputs": [
        {
          "output_type": "display_data",
          "data": {
            "text/plain": [
              "\n",
              "    고졸     대졸 대학원졸 \n",
              "   40.77    34.84    24.39 "
            ]
          },
          "metadata": {
            "tags": []
          }
        }
      ]
    },
    {
      "cell_type": "code",
      "metadata": {
        "id": "D83GhLkkGoVq",
        "outputId": "56aa6b95-37bd-4835-a448-8fa582c34328",
        "colab": {
          "base_uri": "https://localhost:8080/",
          "height": 68
        }
      },
      "source": [
        "# 5) 합격여부(pass) 변수의 리코딩과 비율 계산\n",
        "data$pass2[data$pass == 1 ] <- \"합격\"\n",
        "data$pass2[data$pass == 2 ] <- \"불합격\"\n",
        "x <- table(data$pass2)\n",
        "round(prop.table(x)*100,2)"
      ],
      "execution_count": null,
      "outputs": [
        {
          "output_type": "display_data",
          "data": {
            "text/plain": [
              "\n",
              "불합격   합격 \n",
              " 43.21  56.79 "
            ]
          },
          "metadata": {
            "tags": []
          }
        }
      ]
    },
    {
      "cell_type": "code",
      "metadata": {
        "id": "fyQq1gYvHQRM",
        "outputId": "0e2390f7-0d8c-42ac-8dfe-5a17d9bb30be",
        "colab": {
          "base_uri": "https://localhost:8080/",
          "height": 204
        }
      },
      "source": [
        "head(data)"
      ],
      "execution_count": null,
      "outputs": [
        {
          "output_type": "display_data",
          "data": {
            "text/plain": [
              "  resident gender age level cost type survey pass resident2 gender2 age2  \n",
              "1  1       1      50   1    5.1  1    1       2   특별시    남성    장년층\n",
              "2  2       1      54   2    4.2  1    2       2   광역시    남성    장년층\n",
              "3 NA       1      62   2    4.7  1    1       1   NA        남성    노년층\n",
              "4  4       2      50  NA    3.5  1    4       1   광역시    여성    장년층\n",
              "5  5       1      51   1    5.0  1    3       1   시군구    남성    장년층\n",
              "6  3       1      55   2    5.4  1    3      NA   광역시    남성    장년층\n",
              "  level2 pass2 \n",
              "1 고졸   불합격\n",
              "2 대졸   불합격\n",
              "3 대졸   합격  \n",
              "4 NA     합격  \n",
              "5 고졸   합격  \n",
              "6 대졸   NA    "
            ],
            "text/latex": "A data.frame: 6 × 13\n\\begin{tabular}{r|lllllllllllll}\n  & resident & gender & age & level & cost & type & survey & pass & resident2 & gender2 & age2 & level2 & pass2\\\\\n  & <int> & <int> & <int> & <int> & <dbl> & <int> & <int> & <int> & <chr> & <chr> & <chr> & <chr> & <chr>\\\\\n\\hline\n\t1 &  1 & 1 & 50 &  1 & 5.1 & 1 & 1 &  2 & 특별시 & 남성 & 장년층 & 고졸 & 불합격\\\\\n\t2 &  2 & 1 & 54 &  2 & 4.2 & 1 & 2 &  2 & 광역시 & 남성 & 장년층 & 대졸 & 불합격\\\\\n\t3 & NA & 1 & 62 &  2 & 4.7 & 1 & 1 &  1 & NA     & 남성 & 노년층 & 대졸 & 합격  \\\\\n\t4 &  4 & 2 & 50 & NA & 3.5 & 1 & 4 &  1 & 광역시 & 여성 & 장년층 & NA   & 합격  \\\\\n\t5 &  5 & 1 & 51 &  1 & 5.0 & 1 & 3 &  1 & 시군구 & 남성 & 장년층 & 고졸 & 합격  \\\\\n\t6 &  3 & 1 & 55 &  2 & 5.4 & 1 & 3 & NA & 광역시 & 남성 & 장년층 & 대졸 & NA    \\\\\n\\end{tabular}\n",
            "text/markdown": "\nA data.frame: 6 × 13\n\n| <!--/--> | resident &lt;int&gt; | gender &lt;int&gt; | age &lt;int&gt; | level &lt;int&gt; | cost &lt;dbl&gt; | type &lt;int&gt; | survey &lt;int&gt; | pass &lt;int&gt; | resident2 &lt;chr&gt; | gender2 &lt;chr&gt; | age2 &lt;chr&gt; | level2 &lt;chr&gt; | pass2 &lt;chr&gt; |\n|---|---|---|---|---|---|---|---|---|---|---|---|---|---|\n| 1 |  1 | 1 | 50 |  1 | 5.1 | 1 | 1 |  2 | 특별시 | 남성 | 장년층 | 고졸 | 불합격 |\n| 2 |  2 | 1 | 54 |  2 | 4.2 | 1 | 2 |  2 | 광역시 | 남성 | 장년층 | 대졸 | 불합격 |\n| 3 | NA | 1 | 62 |  2 | 4.7 | 1 | 1 |  1 | NA     | 남성 | 노년층 | 대졸 | 합격   |\n| 4 |  4 | 2 | 50 | NA | 3.5 | 1 | 4 |  1 | 광역시 | 여성 | 장년층 | NA   | 합격   |\n| 5 |  5 | 1 | 51 |  1 | 5.0 | 1 | 3 |  1 | 시군구 | 남성 | 장년층 | 고졸 | 합격   |\n| 6 |  3 | 1 | 55 |  2 | 5.4 | 1 | 3 | NA | 광역시 | 남성 | 장년층 | 대졸 | NA     |\n\n",
            "text/html": [
              "<table>\n",
              "<caption>A data.frame: 6 × 13</caption>\n",
              "<thead>\n",
              "\t<tr><th></th><th scope=col>resident</th><th scope=col>gender</th><th scope=col>age</th><th scope=col>level</th><th scope=col>cost</th><th scope=col>type</th><th scope=col>survey</th><th scope=col>pass</th><th scope=col>resident2</th><th scope=col>gender2</th><th scope=col>age2</th><th scope=col>level2</th><th scope=col>pass2</th></tr>\n",
              "\t<tr><th></th><th scope=col>&lt;int&gt;</th><th scope=col>&lt;int&gt;</th><th scope=col>&lt;int&gt;</th><th scope=col>&lt;int&gt;</th><th scope=col>&lt;dbl&gt;</th><th scope=col>&lt;int&gt;</th><th scope=col>&lt;int&gt;</th><th scope=col>&lt;int&gt;</th><th scope=col>&lt;chr&gt;</th><th scope=col>&lt;chr&gt;</th><th scope=col>&lt;chr&gt;</th><th scope=col>&lt;chr&gt;</th><th scope=col>&lt;chr&gt;</th></tr>\n",
              "</thead>\n",
              "<tbody>\n",
              "\t<tr><th scope=row>1</th><td> 1</td><td>1</td><td>50</td><td> 1</td><td>5.1</td><td>1</td><td>1</td><td> 2</td><td>특별시</td><td>남성</td><td>장년층</td><td>고졸</td><td>불합격</td></tr>\n",
              "\t<tr><th scope=row>2</th><td> 2</td><td>1</td><td>54</td><td> 2</td><td>4.2</td><td>1</td><td>2</td><td> 2</td><td>광역시</td><td>남성</td><td>장년층</td><td>대졸</td><td>불합격</td></tr>\n",
              "\t<tr><th scope=row>3</th><td>NA</td><td>1</td><td>62</td><td> 2</td><td>4.7</td><td>1</td><td>1</td><td> 1</td><td>NA    </td><td>남성</td><td>노년층</td><td>대졸</td><td>합격  </td></tr>\n",
              "\t<tr><th scope=row>4</th><td> 4</td><td>2</td><td>50</td><td>NA</td><td>3.5</td><td>1</td><td>4</td><td> 1</td><td>광역시</td><td>여성</td><td>장년층</td><td>NA  </td><td>합격  </td></tr>\n",
              "\t<tr><th scope=row>5</th><td> 5</td><td>1</td><td>51</td><td> 1</td><td>5.0</td><td>1</td><td>3</td><td> 1</td><td>시군구</td><td>남성</td><td>장년층</td><td>고졸</td><td>합격  </td></tr>\n",
              "\t<tr><th scope=row>6</th><td> 3</td><td>1</td><td>55</td><td> 2</td><td>5.4</td><td>1</td><td>3</td><td>NA</td><td>광역시</td><td>남성</td><td>장년층</td><td>대졸</td><td>NA    </td></tr>\n",
              "</tbody>\n",
              "</table>\n"
            ]
          },
          "metadata": {
            "tags": []
          }
        }
      ]
    }
  ]
}