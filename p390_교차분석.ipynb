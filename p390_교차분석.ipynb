{
  "nbformat": 4,
  "nbformat_minor": 0,
  "metadata": {
    "colab": {
      "name": "p390_교차분석.ipynb",
      "provenance": [],
      "authorship_tag": "ABX9TyMUu6e/pv1KMeLHNXYJAhQi",
      "include_colab_link": true
    },
    "kernelspec": {
      "name": "ir",
      "display_name": "R"
    }
  },
  "cells": [
    {
      "cell_type": "markdown",
      "metadata": {
        "id": "view-in-github",
        "colab_type": "text"
      },
      "source": [
        "<a href=\"https://colab.research.google.com/github/gyujin0450/RPRG_PARTIII/blob/main/p390_%EA%B5%90%EC%B0%A8%EB%B6%84%EC%84%9D.ipynb\" target=\"_parent\"><img src=\"https://colab.research.google.com/assets/colab-badge.svg\" alt=\"Open In Colab\"/></a>"
      ]
    },
    {
      "cell_type": "markdown",
      "metadata": {
        "id": "sJXnL5-7Iaff"
      },
      "source": [
        "Ch12.교차분석과 카이제곱 검정\n"
      ]
    },
    {
      "cell_type": "markdown",
      "metadata": {
        "id": "FK0iyYNQLcYi"
      },
      "source": [
        "1.1 데이터프레임 생성"
      ]
    },
    {
      "cell_type": "code",
      "metadata": {
        "id": "6_5uIa71JjBI",
        "outputId": "60783e25-ad79-4f8b-fb08-1cd0a4dadb0f",
        "colab": {
          "base_uri": "https://localhost:8080/",
          "height": 204
        }
      },
      "source": [
        "# 1) 실습데이터 가져오기\n",
        "url <- \"https://raw.githubusercontent.com/gyujin0450/RPRG_PARTIII/main/data03/cleanDescriptive.csv\"\n",
        "data <- read.csv(url, header = T, fileEncoding = 'CP949', encoding = 'UTF-8')\n",
        "head(data)"
      ],
      "execution_count": null,
      "outputs": [
        {
          "output_type": "display_data",
          "data": {
            "text/plain": [
              "  resident gender age level cost type survey pass cost2 resident2 gender2\n",
              "1  1       1      50   1    5.1  1    1       2    2    특별시    남자   \n",
              "2  2       1      54   2    4.2  1    2       2    2    광역시    남자   \n",
              "3 NA       1      62   2    4.7  1    1       1    2    NA        남자   \n",
              "4  4       2      50  NA    3.5  1    4       1   NA    광역시    여자   \n",
              "5  5       1      51   1    5.0  1    3       1    2    시구군    남자   \n",
              "6  3       1      55   2    5.4  1    3      NA    2    광역시    남자   \n",
              "  age2   level2 pass2\n",
              "1 장년층 고졸   실패 \n",
              "2 장년층 대졸   실패 \n",
              "3 노년층 대졸   합격 \n",
              "4 장년층 NA     합격 \n",
              "5 장년층 고졸   합격 \n",
              "6 장년층 대졸   NA   "
            ],
            "text/latex": "A data.frame: 6 × 14\n\\begin{tabular}{r|llllllllllllll}\n  & resident & gender & age & level & cost & type & survey & pass & cost2 & resident2 & gender2 & age2 & level2 & pass2\\\\\n  & <int> & <int> & <int> & <int> & <dbl> & <int> & <int> & <int> & <int> & <chr> & <chr> & <chr> & <chr> & <chr>\\\\\n\\hline\n\t1 &  1 & 1 & 50 &  1 & 5.1 & 1 & 1 &  2 &  2 & 특별시 & 남자 & 장년층 & 고졸 & 실패\\\\\n\t2 &  2 & 1 & 54 &  2 & 4.2 & 1 & 2 &  2 &  2 & 광역시 & 남자 & 장년층 & 대졸 & 실패\\\\\n\t3 & NA & 1 & 62 &  2 & 4.7 & 1 & 1 &  1 &  2 & NA     & 남자 & 노년층 & 대졸 & 합격\\\\\n\t4 &  4 & 2 & 50 & NA & 3.5 & 1 & 4 &  1 & NA & 광역시 & 여자 & 장년층 & NA   & 합격\\\\\n\t5 &  5 & 1 & 51 &  1 & 5.0 & 1 & 3 &  1 &  2 & 시구군 & 남자 & 장년층 & 고졸 & 합격\\\\\n\t6 &  3 & 1 & 55 &  2 & 5.4 & 1 & 3 & NA &  2 & 광역시 & 남자 & 장년층 & 대졸 & NA  \\\\\n\\end{tabular}\n",
            "text/markdown": "\nA data.frame: 6 × 14\n\n| <!--/--> | resident &lt;int&gt; | gender &lt;int&gt; | age &lt;int&gt; | level &lt;int&gt; | cost &lt;dbl&gt; | type &lt;int&gt; | survey &lt;int&gt; | pass &lt;int&gt; | cost2 &lt;int&gt; | resident2 &lt;chr&gt; | gender2 &lt;chr&gt; | age2 &lt;chr&gt; | level2 &lt;chr&gt; | pass2 &lt;chr&gt; |\n|---|---|---|---|---|---|---|---|---|---|---|---|---|---|---|\n| 1 |  1 | 1 | 50 |  1 | 5.1 | 1 | 1 |  2 |  2 | 특별시 | 남자 | 장년층 | 고졸 | 실패 |\n| 2 |  2 | 1 | 54 |  2 | 4.2 | 1 | 2 |  2 |  2 | 광역시 | 남자 | 장년층 | 대졸 | 실패 |\n| 3 | NA | 1 | 62 |  2 | 4.7 | 1 | 1 |  1 |  2 | NA     | 남자 | 노년층 | 대졸 | 합격 |\n| 4 |  4 | 2 | 50 | NA | 3.5 | 1 | 4 |  1 | NA | 광역시 | 여자 | 장년층 | NA   | 합격 |\n| 5 |  5 | 1 | 51 |  1 | 5.0 | 1 | 3 |  1 |  2 | 시구군 | 남자 | 장년층 | 고졸 | 합격 |\n| 6 |  3 | 1 | 55 |  2 | 5.4 | 1 | 3 | NA |  2 | 광역시 | 남자 | 장년층 | 대졸 | NA   |\n\n",
            "text/html": [
              "<table>\n",
              "<caption>A data.frame: 6 × 14</caption>\n",
              "<thead>\n",
              "\t<tr><th></th><th scope=col>resident</th><th scope=col>gender</th><th scope=col>age</th><th scope=col>level</th><th scope=col>cost</th><th scope=col>type</th><th scope=col>survey</th><th scope=col>pass</th><th scope=col>cost2</th><th scope=col>resident2</th><th scope=col>gender2</th><th scope=col>age2</th><th scope=col>level2</th><th scope=col>pass2</th></tr>\n",
              "\t<tr><th></th><th scope=col>&lt;int&gt;</th><th scope=col>&lt;int&gt;</th><th scope=col>&lt;int&gt;</th><th scope=col>&lt;int&gt;</th><th scope=col>&lt;dbl&gt;</th><th scope=col>&lt;int&gt;</th><th scope=col>&lt;int&gt;</th><th scope=col>&lt;int&gt;</th><th scope=col>&lt;int&gt;</th><th scope=col>&lt;chr&gt;</th><th scope=col>&lt;chr&gt;</th><th scope=col>&lt;chr&gt;</th><th scope=col>&lt;chr&gt;</th><th scope=col>&lt;chr&gt;</th></tr>\n",
              "</thead>\n",
              "<tbody>\n",
              "\t<tr><th scope=row>1</th><td> 1</td><td>1</td><td>50</td><td> 1</td><td>5.1</td><td>1</td><td>1</td><td> 2</td><td> 2</td><td>특별시</td><td>남자</td><td>장년층</td><td>고졸</td><td>실패</td></tr>\n",
              "\t<tr><th scope=row>2</th><td> 2</td><td>1</td><td>54</td><td> 2</td><td>4.2</td><td>1</td><td>2</td><td> 2</td><td> 2</td><td>광역시</td><td>남자</td><td>장년층</td><td>대졸</td><td>실패</td></tr>\n",
              "\t<tr><th scope=row>3</th><td>NA</td><td>1</td><td>62</td><td> 2</td><td>4.7</td><td>1</td><td>1</td><td> 1</td><td> 2</td><td>NA    </td><td>남자</td><td>노년층</td><td>대졸</td><td>합격</td></tr>\n",
              "\t<tr><th scope=row>4</th><td> 4</td><td>2</td><td>50</td><td>NA</td><td>3.5</td><td>1</td><td>4</td><td> 1</td><td>NA</td><td>광역시</td><td>여자</td><td>장년층</td><td>NA  </td><td>합격</td></tr>\n",
              "\t<tr><th scope=row>5</th><td> 5</td><td>1</td><td>51</td><td> 1</td><td>5.0</td><td>1</td><td>3</td><td> 1</td><td> 2</td><td>시구군</td><td>남자</td><td>장년층</td><td>고졸</td><td>합격</td></tr>\n",
              "\t<tr><th scope=row>6</th><td> 3</td><td>1</td><td>55</td><td> 2</td><td>5.4</td><td>1</td><td>3</td><td>NA</td><td> 2</td><td>광역시</td><td>남자</td><td>장년층</td><td>대졸</td><td>NA  </td></tr>\n",
              "</tbody>\n",
              "</table>\n"
            ]
          },
          "metadata": {
            "tags": []
          }
        }
      ]
    },
    {
      "cell_type": "code",
      "metadata": {
        "id": "vKRlpChrK2bH"
      },
      "source": [
        "# 2) 변수 리코딩\n",
        "x <- data$level2 # 부모의 학력 수준\n",
        "y <- data$pass2  # 자녀의 대학 진학여부"
      ],
      "execution_count": null,
      "outputs": []
    },
    {
      "cell_type": "code",
      "metadata": {
        "id": "iFVRjwhTLHm3",
        "outputId": "5005d62e-86dd-47f6-b2c6-4fd1ed34c4a2",
        "colab": {
          "base_uri": "https://localhost:8080/",
          "height": 221
        }
      },
      "source": [
        "# 3) 분할표 작성 준비 : 데이터프레임 생성\n",
        "r <- data.frame(level = x, pass = y)\n",
        "head(r)"
      ],
      "execution_count": null,
      "outputs": [
        {
          "output_type": "display_data",
          "data": {
            "text/plain": [
              "  level pass\n",
              "1 고졸  실패\n",
              "2 대졸  실패\n",
              "3 대졸  합격\n",
              "4 NA    합격\n",
              "5 고졸  합격\n",
              "6 대졸  NA  "
            ],
            "text/latex": "A data.frame: 6 × 2\n\\begin{tabular}{r|ll}\n  & level & pass\\\\\n  & <chr> & <chr>\\\\\n\\hline\n\t1 & 고졸 & 실패\\\\\n\t2 & 대졸 & 실패\\\\\n\t3 & 대졸 & 합격\\\\\n\t4 & NA   & 합격\\\\\n\t5 & 고졸 & 합격\\\\\n\t6 & 대졸 & NA  \\\\\n\\end{tabular}\n",
            "text/markdown": "\nA data.frame: 6 × 2\n\n| <!--/--> | level &lt;chr&gt; | pass &lt;chr&gt; |\n|---|---|---|\n| 1 | 고졸 | 실패 |\n| 2 | 대졸 | 실패 |\n| 3 | 대졸 | 합격 |\n| 4 | NA   | 합격 |\n| 5 | 고졸 | 합격 |\n| 6 | 대졸 | NA   |\n\n",
            "text/html": [
              "<table>\n",
              "<caption>A data.frame: 6 × 2</caption>\n",
              "<thead>\n",
              "\t<tr><th></th><th scope=col>level</th><th scope=col>pass</th></tr>\n",
              "\t<tr><th></th><th scope=col>&lt;chr&gt;</th><th scope=col>&lt;chr&gt;</th></tr>\n",
              "</thead>\n",
              "<tbody>\n",
              "\t<tr><th scope=row>1</th><td>고졸</td><td>실패</td></tr>\n",
              "\t<tr><th scope=row>2</th><td>대졸</td><td>실패</td></tr>\n",
              "\t<tr><th scope=row>3</th><td>대졸</td><td>합격</td></tr>\n",
              "\t<tr><th scope=row>4</th><td>NA  </td><td>합격</td></tr>\n",
              "\t<tr><th scope=row>5</th><td>고졸</td><td>합격</td></tr>\n",
              "\t<tr><th scope=row>6</th><td>대졸</td><td>NA  </td></tr>\n",
              "</tbody>\n",
              "</table>\n"
            ]
          },
          "metadata": {
            "tags": []
          }
        }
      ]
    },
    {
      "cell_type": "markdown",
      "metadata": {
        "id": "YzcogYFDLZ8v"
      },
      "source": [
        "1.2 교차분석\n",
        "- 교차분할표를 통해서 범주형 변수의 관계를 분석함"
      ]
    },
    {
      "cell_type": "code",
      "metadata": {
        "id": "Psy4sHYMLtgQ",
        "outputId": "ba02ef9c-2dea-4a03-e5b8-1f9c27f9048d",
        "colab": {
          "base_uri": "https://localhost:8080/",
          "height": 102
        }
      },
      "source": [
        "# 1) 기본 함수를 이용한 교차 분할표 작성\n",
        "table(r)"
      ],
      "execution_count": null,
      "outputs": [
        {
          "output_type": "display_data",
          "data": {
            "text/plain": [
              "          pass\n",
              "level      실패 합격\n",
              "  고졸       40   49\n",
              "  대졸       27   55\n",
              "  대학원졸   23   31"
            ]
          },
          "metadata": {
            "tags": []
          }
        }
      ]
    },
    {
      "cell_type": "code",
      "metadata": {
        "id": "TdIU0eo7L8n7",
        "outputId": "a6a52509-d20f-4fcd-9895-1ecc9a14e61f",
        "colab": {
          "base_uri": "https://localhost:8080/",
          "height": 119
        }
      },
      "source": [
        "# 2) 교차분할표 작성을 위한 패키지 설치\n",
        "install.packages(\"gmodels\")\n",
        "library(gmodels)"
      ],
      "execution_count": null,
      "outputs": [
        {
          "output_type": "stream",
          "text": [
            "Installing package into ‘/usr/local/lib/R/site-library’\n",
            "(as ‘lib’ is unspecified)\n",
            "\n",
            "also installing the dependencies ‘gtools’, ‘gdata’\n",
            "\n",
            "\n"
          ],
          "name": "stderr"
        }
      ]
    },
    {
      "cell_type": "code",
      "metadata": {
        "id": "YVNVT5OOMLcz"
      },
      "source": [
        "library(ggplot2)"
      ],
      "execution_count": null,
      "outputs": []
    },
    {
      "cell_type": "code",
      "metadata": {
        "id": "276kxT5OMWEg",
        "outputId": "408e0980-d7a9-4a01-a805-2576ac68fe8c",
        "colab": {
          "base_uri": "https://localhost:8080/",
          "height": 714
        }
      },
      "source": [
        "# 3) 패키지를 이용한 교차 분할표 작성\n",
        "CrossTable(x = data$level2, y = data$pass2)\n",
        "## 셀의 내용\n",
        "# N : 관측치\n",
        "# Chi-square contribution : 기대비율\n",
        "# N / Row Total : 행비율\n",
        "# N / Col Total : 열비율\n",
        "# N / Table Total : 셀비율"
      ],
      "execution_count": null,
      "outputs": [
        {
          "output_type": "stream",
          "text": [
            "\n",
            " \n",
            "   Cell Contents\n",
            "|-------------------------|\n",
            "|                       N |\n",
            "| Chi-square contribution |\n",
            "|           N / Row Total |\n",
            "|           N / Col Total |\n",
            "|         N / Table Total |\n",
            "|-------------------------|\n",
            "\n",
            " \n",
            "Total Observations in Table:  225 \n",
            "\n",
            " \n",
            "             | data$pass2 \n",
            " data$level2 |      실패 |      합격 | Row Total | \n",
            "-------------|-----------|-----------|-----------|\n",
            "        고졸 |        40 |        49 |        89 | \n",
            "             |     0.544 |     0.363 |           | \n",
            "             |     0.449 |     0.551 |     0.396 | \n",
            "             |     0.444 |     0.363 |           | \n",
            "             |     0.178 |     0.218 |           | \n",
            "-------------|-----------|-----------|-----------|\n",
            "        대졸 |        27 |        55 |        82 | \n",
            "             |     1.026 |     0.684 |           | \n",
            "             |     0.329 |     0.671 |     0.364 | \n",
            "             |     0.300 |     0.407 |           | \n",
            "             |     0.120 |     0.244 |           | \n",
            "-------------|-----------|-----------|-----------|\n",
            "    대학원졸 |        23 |        31 |        54 | \n",
            "             |     0.091 |     0.060 |           | \n",
            "             |     0.426 |     0.574 |     0.240 | \n",
            "             |     0.256 |     0.230 |           | \n",
            "             |     0.102 |     0.138 |           | \n",
            "-------------|-----------|-----------|-----------|\n",
            "Column Total |        90 |       135 |       225 | \n",
            "             |     0.400 |     0.600 |           | \n",
            "-------------|-----------|-----------|-----------|\n",
            "\n",
            " \n"
          ],
          "name": "stdout"
        }
      ]
    },
    {
      "cell_type": "code",
      "metadata": {
        "id": "U45rogZdOJr7"
      },
      "source": [
        "# 교차 분할표 해석 ==> p394 참고"
      ],
      "execution_count": null,
      "outputs": []
    },
    {
      "cell_type": "markdown",
      "metadata": {
        "id": "B6BABp9xOQrG"
      },
      "source": [
        "2. 카이제곱 검정\n",
        "- 범주별 관측빈도와 기대빈도의 차이를 통해서 확률 모형이 데이터를 얼마나 잘 설명하는지 검정하는 통계적 방법\n",
        "  * 적합도 검정\n",
        "  * 독립성 검정\n",
        "  * 동질성 검정\n",
        "- 주의사항\n",
        "  * 범주형 변수를 대상으로 분석\n",
        "  * 집단별로 비율이 같은지 검정(독립성 여부 검정)\n",
        "  * 유의확률에 의해서 집단간 차이 여부 검정"
      ]
    },
    {
      "cell_type": "code",
      "metadata": {
        "id": "lgjxl63LOp7I",
        "outputId": "a075a8db-1026-400c-9b1a-693350a0a2ab",
        "colab": {
          "base_uri": "https://localhost:8080/",
          "height": 867
        }
      },
      "source": [
        "# CrossTable() 를 이용한 카이제곱 검정\n",
        "CrossTable(x = data$level2, y = data$pass2, chisq = T) # p-value > 0.05 므로 H0 채택"
      ],
      "execution_count": null,
      "outputs": [
        {
          "output_type": "stream",
          "text": [
            "\n",
            " \n",
            "   Cell Contents\n",
            "|-------------------------|\n",
            "|                       N |\n",
            "| Chi-square contribution |\n",
            "|           N / Row Total |\n",
            "|           N / Col Total |\n",
            "|         N / Table Total |\n",
            "|-------------------------|\n",
            "\n",
            " \n",
            "Total Observations in Table:  225 \n",
            "\n",
            " \n",
            "             | data$pass2 \n",
            " data$level2 |      실패 |      합격 | Row Total | \n",
            "-------------|-----------|-----------|-----------|\n",
            "        고졸 |        40 |        49 |        89 | \n",
            "             |     0.544 |     0.363 |           | \n",
            "             |     0.449 |     0.551 |     0.396 | \n",
            "             |     0.444 |     0.363 |           | \n",
            "             |     0.178 |     0.218 |           | \n",
            "-------------|-----------|-----------|-----------|\n",
            "        대졸 |        27 |        55 |        82 | \n",
            "             |     1.026 |     0.684 |           | \n",
            "             |     0.329 |     0.671 |     0.364 | \n",
            "             |     0.300 |     0.407 |           | \n",
            "             |     0.120 |     0.244 |           | \n",
            "-------------|-----------|-----------|-----------|\n",
            "    대학원졸 |        23 |        31 |        54 | \n",
            "             |     0.091 |     0.060 |           | \n",
            "             |     0.426 |     0.574 |     0.240 | \n",
            "             |     0.256 |     0.230 |           | \n",
            "             |     0.102 |     0.138 |           | \n",
            "-------------|-----------|-----------|-----------|\n",
            "Column Total |        90 |       135 |       225 | \n",
            "             |     0.400 |     0.600 |           | \n",
            "-------------|-----------|-----------|-----------|\n",
            "\n",
            " \n",
            "Statistics for All Table Factors\n",
            "\n",
            "\n",
            "Pearson's Chi-squared test \n",
            "------------------------------------------------------------\n",
            "Chi^2 =  2.766951     d.f. =  2     p =  0.2507057 \n",
            "\n",
            "\n",
            " \n"
          ],
          "name": "stdout"
        }
      ]
    },
    {
      "cell_type": "markdown",
      "metadata": {
        "id": "z2ts9KPjO9wo"
      },
      "source": [
        "2.2 카이제곱 검정 유형\n",
        "- 일원 카이제곱 : 교차분할표를 이용하지 않음(한개 범주 대상)\n",
        "  * 관찰도수가 기대 도수와 일치하는지 검정(적합도 검정)\n",
        "    * H0 : ~ 적합하다.\n",
        "\n",
        "- 이원 카이제곱 : 교차분할표를 이용(한개 이상의 범주 대상)\n",
        "  * 분석 대상 집단수에 따라 독립성검정과 동질성 검증\n",
        "  * 독립성 검정 : 한 집단내 두 변인의 관계가 독립적인지 검점\n",
        "    * H0 : 두 사건은 관련성이 없다.\n",
        "  * 동질성 검정 : 두 집단이상에서 각 범주간의 비율이 서도 동일한지 검증\n",
        "    * H0 : 모든 표본의 비율은 동일하다   "
      ]
    },
    {
      "cell_type": "markdown",
      "metadata": {
        "id": "kYifw8BbzEps"
      },
      "source": [
        "2.3 일원 카이제곱 검정"
      ]
    },
    {
      "cell_type": "markdown",
      "metadata": {
        "id": "cP29S5ZVv_cS"
      },
      "source": [
        "(1) 적합도 검정 : chisq.test()\n",
        "- H0 : 기대치와 관측치는 차이가 없다(적합하다)"
      ]
    },
    {
      "cell_type": "code",
      "metadata": {
        "id": "cBn23hWwO-oL"
      },
      "source": [
        "# 60회 주사위를 던져서 나온 관측도수(a)와 기대도수(b) 일때\n",
        "# 이 주사위는 게임에 적합한 주사위인지를 일원 카이제곱 검정\n",
        "a <- c(4,6,17,16,8,9)     # 주사위1 : 4번 , ...\n",
        "b <- c(10,10,10,10,10,10) # 확률적 기대값 : 1/6 * 60 = 10  "
      ],
      "execution_count": null,
      "outputs": []
    },
    {
      "cell_type": "code",
      "metadata": {
        "id": "mtCLgcSBO-2S",
        "outputId": "dc338dc2-5006-4d0b-9192-e8a278cf3107",
        "colab": {
          "base_uri": "https://localhost:8080/",
          "height": 102
        }
      },
      "source": [
        "chisq.test(a) # p-value < 0.05 이므로 H0 기각, '주사위는 게임에 적합하지 않음'"
      ],
      "execution_count": null,
      "outputs": [
        {
          "output_type": "display_data",
          "data": {
            "text/plain": [
              "\n",
              "\tChi-squared test for given probabilities\n",
              "\n",
              "data:  a\n",
              "X-squared = 14.2, df = 5, p-value = 0.01439\n"
            ]
          },
          "metadata": {
            "tags": []
          }
        }
      ]
    },
    {
      "cell_type": "code",
      "metadata": {
        "id": "mkaLzWXvzHE3"
      },
      "source": [
        ""
      ],
      "execution_count": null,
      "outputs": []
    },
    {
      "cell_type": "markdown",
      "metadata": {
        "id": "zYggbU6fO_An"
      },
      "source": [
        "(2) 선호도 분석\n",
        "- 관측빈도와 기대빈도의 차이를 통해서 확률 모형이 주어진 자료를 얼마나 잘 설명하는지 검정\n",
        "- 적합도 분석과 차이점 : 분석에 필요한 연구 환경과 자료(??)\n",
        "- H0 : 기대치와 관측치는 차이가 없다   \n"
      ]
    },
    {
      "cell_type": "code",
      "metadata": {
        "id": "OitdyuvTO_KI"
      },
      "source": [
        "# 5개 스포츠 음료에 대한 선호도(c)\n",
        "data <- textConnection(\n",
        "  \"스포츠음료종류 관측도수\n",
        "   1 41\n",
        "   2 30\n",
        "   3 51\n",
        "   4 71\n",
        "   5 61\n",
        "   \")"
      ],
      "execution_count": null,
      "outputs": []
    },
    {
      "cell_type": "code",
      "metadata": {
        "id": "VFLrHGVPO_Ul",
        "outputId": "ccaff869-73ce-4e37-d0a8-c9bed66dd394",
        "colab": {
          "base_uri": "https://localhost:8080/",
          "height": 183
        }
      },
      "source": [
        "x <- read.table(data, header = T)\n",
        "x"
      ],
      "execution_count": null,
      "outputs": [
        {
          "output_type": "display_data",
          "data": {
            "text/plain": [
              "  스포츠음료종류 관측도수\n",
              "1 1              41      \n",
              "2 2              30      \n",
              "3 3              51      \n",
              "4 4              71      \n",
              "5 5              61      "
            ],
            "text/latex": "A data.frame: 5 × 2\n\\begin{tabular}{ll}\n 스포츠음료종류 & 관측도수\\\\\n <int> & <int>\\\\\n\\hline\n\t 1 & 41\\\\\n\t 2 & 30\\\\\n\t 3 & 51\\\\\n\t 4 & 71\\\\\n\t 5 & 61\\\\\n\\end{tabular}\n",
            "text/markdown": "\nA data.frame: 5 × 2\n\n| 스포츠음료종류 &lt;int&gt; | 관측도수 &lt;int&gt; |\n|---|---|\n| 1 | 41 |\n| 2 | 30 |\n| 3 | 51 |\n| 4 | 71 |\n| 5 | 61 |\n\n",
            "text/html": [
              "<table>\n",
              "<caption>A data.frame: 5 × 2</caption>\n",
              "<thead>\n",
              "\t<tr><th scope=col>스포츠음료종류</th><th scope=col>관측도수</th></tr>\n",
              "\t<tr><th scope=col>&lt;int&gt;</th><th scope=col>&lt;int&gt;</th></tr>\n",
              "</thead>\n",
              "<tbody>\n",
              "\t<tr><td>1</td><td>41</td></tr>\n",
              "\t<tr><td>2</td><td>30</td></tr>\n",
              "\t<tr><td>3</td><td>51</td></tr>\n",
              "\t<tr><td>4</td><td>71</td></tr>\n",
              "\t<tr><td>5</td><td>61</td></tr>\n",
              "</tbody>\n",
              "</table>\n"
            ]
          },
          "metadata": {
            "tags": []
          }
        }
      ]
    },
    {
      "cell_type": "code",
      "metadata": {
        "id": "BXcqp1EVO_eX",
        "outputId": "f46562dc-2484-4764-9991-f1ca65a1afd9",
        "colab": {
          "base_uri": "https://localhost:8080/",
          "height": 102
        }
      },
      "source": [
        "chisq.test(x$관측도수) # p-value < 0.05이므로 H0 기각, '음료수 선호도에 차이가 있다'"
      ],
      "execution_count": null,
      "outputs": [
        {
          "output_type": "display_data",
          "data": {
            "text/plain": [
              "\n",
              "\tChi-squared test for given probabilities\n",
              "\n",
              "data:  x$관측도수\n",
              "X-squared = 20.488, df = 4, p-value = 0.0003999\n"
            ]
          },
          "metadata": {
            "tags": []
          }
        }
      ]
    },
    {
      "cell_type": "markdown",
      "metadata": {
        "id": "IY2zuadRO_nY"
      },
      "source": [
        "2.4 이원 카이제곱 검정\n"
      ]
    },
    {
      "cell_type": "code",
      "metadata": {
        "id": "tbi8cM2iO_vY"
      },
      "source": [
        ""
      ],
      "execution_count": null,
      "outputs": []
    },
    {
      "cell_type": "code",
      "metadata": {
        "id": "ONKWVAS2O_1y"
      },
      "source": [
        ""
      ],
      "execution_count": null,
      "outputs": []
    },
    {
      "cell_type": "code",
      "metadata": {
        "id": "anHAY5KXO_7Q"
      },
      "source": [
        ""
      ],
      "execution_count": null,
      "outputs": []
    },
    {
      "cell_type": "code",
      "metadata": {
        "id": "W-wig03IO_-z"
      },
      "source": [
        ""
      ],
      "execution_count": null,
      "outputs": []
    },
    {
      "cell_type": "code",
      "metadata": {
        "id": "z0ZNAATLPAEp"
      },
      "source": [
        ""
      ],
      "execution_count": null,
      "outputs": []
    },
    {
      "cell_type": "code",
      "metadata": {
        "id": "d-_XHq8YPAH-"
      },
      "source": [
        ""
      ],
      "execution_count": null,
      "outputs": []
    },
    {
      "cell_type": "code",
      "metadata": {
        "id": "Ua7ogLdXPALP"
      },
      "source": [
        ""
      ],
      "execution_count": null,
      "outputs": []
    },
    {
      "cell_type": "code",
      "metadata": {
        "id": "NBRFXn-qPAYg"
      },
      "source": [
        ""
      ],
      "execution_count": null,
      "outputs": []
    }
  ]
}