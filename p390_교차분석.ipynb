{
  "nbformat": 4,
  "nbformat_minor": 0,
  "metadata": {
    "colab": {
      "name": "p390_교차분석.ipynb",
      "provenance": [],
      "authorship_tag": "ABX9TyMHi0mtecLjsVbIaA0CXENS",
      "include_colab_link": true
    },
    "kernelspec": {
      "name": "ir",
      "display_name": "R"
    }
  },
  "cells": [
    {
      "cell_type": "markdown",
      "metadata": {
        "id": "view-in-github",
        "colab_type": "text"
      },
      "source": [
        "<a href=\"https://colab.research.google.com/github/gyujin0450/RPRG_PARTIII/blob/main/p390_%EA%B5%90%EC%B0%A8%EB%B6%84%EC%84%9D.ipynb\" target=\"_parent\"><img src=\"https://colab.research.google.com/assets/colab-badge.svg\" alt=\"Open In Colab\"/></a>"
      ]
    },
    {
      "cell_type": "markdown",
      "metadata": {
        "id": "sJXnL5-7Iaff"
      },
      "source": [
        "Ch12.교차분석과 카이제곱 검정\n"
      ]
    },
    {
      "cell_type": "code",
      "metadata": {
        "id": "6_5uIa71JjBI"
      },
      "source": [
        ""
      ],
      "execution_count": null,
      "outputs": []
    }
  ]
}