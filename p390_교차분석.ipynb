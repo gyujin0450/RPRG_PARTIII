{
  "nbformat": 4,
  "nbformat_minor": 0,
  "metadata": {
    "colab": {
      "name": "p390_교차분석.ipynb",
      "provenance": [],
      "authorship_tag": "ABX9TyP6ttI0jwZ91DZ4W4dXV+Dr",
      "include_colab_link": true
    },
    "kernelspec": {
      "name": "ir",
      "display_name": "R"
    }
  },
  "cells": [
    {
      "cell_type": "markdown",
      "metadata": {
        "id": "view-in-github",
        "colab_type": "text"
      },
      "source": [
        "<a href=\"https://colab.research.google.com/github/gyujin0450/RPRG_PARTIII/blob/main/p390_%EA%B5%90%EC%B0%A8%EB%B6%84%EC%84%9D.ipynb\" target=\"_parent\"><img src=\"https://colab.research.google.com/assets/colab-badge.svg\" alt=\"Open In Colab\"/></a>"
      ]
    },
    {
      "cell_type": "markdown",
      "metadata": {
        "id": "sJXnL5-7Iaff"
      },
      "source": [
        "Ch12.교차분석과 카이제곱 검정\n"
      ]
    },
    {
      "cell_type": "markdown",
      "metadata": {
        "id": "FK0iyYNQLcYi"
      },
      "source": [
        "1.1 데이터프레임 생성"
      ]
    },
    {
      "cell_type": "code",
      "metadata": {
        "id": "6_5uIa71JjBI",
        "outputId": "60783e25-ad79-4f8b-fb08-1cd0a4dadb0f",
        "colab": {
          "base_uri": "https://localhost:8080/",
          "height": 204
        }
      },
      "source": [
        "# 1) 실습데이터 가져오기\n",
        "url <- \"https://raw.githubusercontent.com/gyujin0450/RPRG_PARTIII/main/data03/cleanDescriptive.csv\"\n",
        "data <- read.csv(url, header = T, fileEncoding = 'CP949', encoding = 'UTF-8')\n",
        "head(data)"
      ],
      "execution_count": null,
      "outputs": [
        {
          "output_type": "display_data",
          "data": {
            "text/plain": [
              "  resident gender age level cost type survey pass cost2 resident2 gender2\n",
              "1  1       1      50   1    5.1  1    1       2    2    특별시    남자   \n",
              "2  2       1      54   2    4.2  1    2       2    2    광역시    남자   \n",
              "3 NA       1      62   2    4.7  1    1       1    2    NA        남자   \n",
              "4  4       2      50  NA    3.5  1    4       1   NA    광역시    여자   \n",
              "5  5       1      51   1    5.0  1    3       1    2    시구군    남자   \n",
              "6  3       1      55   2    5.4  1    3      NA    2    광역시    남자   \n",
              "  age2   level2 pass2\n",
              "1 장년층 고졸   실패 \n",
              "2 장년층 대졸   실패 \n",
              "3 노년층 대졸   합격 \n",
              "4 장년층 NA     합격 \n",
              "5 장년층 고졸   합격 \n",
              "6 장년층 대졸   NA   "
            ],
            "text/latex": "A data.frame: 6 × 14\n\\begin{tabular}{r|llllllllllllll}\n  & resident & gender & age & level & cost & type & survey & pass & cost2 & resident2 & gender2 & age2 & level2 & pass2\\\\\n  & <int> & <int> & <int> & <int> & <dbl> & <int> & <int> & <int> & <int> & <chr> & <chr> & <chr> & <chr> & <chr>\\\\\n\\hline\n\t1 &  1 & 1 & 50 &  1 & 5.1 & 1 & 1 &  2 &  2 & 특별시 & 남자 & 장년층 & 고졸 & 실패\\\\\n\t2 &  2 & 1 & 54 &  2 & 4.2 & 1 & 2 &  2 &  2 & 광역시 & 남자 & 장년층 & 대졸 & 실패\\\\\n\t3 & NA & 1 & 62 &  2 & 4.7 & 1 & 1 &  1 &  2 & NA     & 남자 & 노년층 & 대졸 & 합격\\\\\n\t4 &  4 & 2 & 50 & NA & 3.5 & 1 & 4 &  1 & NA & 광역시 & 여자 & 장년층 & NA   & 합격\\\\\n\t5 &  5 & 1 & 51 &  1 & 5.0 & 1 & 3 &  1 &  2 & 시구군 & 남자 & 장년층 & 고졸 & 합격\\\\\n\t6 &  3 & 1 & 55 &  2 & 5.4 & 1 & 3 & NA &  2 & 광역시 & 남자 & 장년층 & 대졸 & NA  \\\\\n\\end{tabular}\n",
            "text/markdown": "\nA data.frame: 6 × 14\n\n| <!--/--> | resident &lt;int&gt; | gender &lt;int&gt; | age &lt;int&gt; | level &lt;int&gt; | cost &lt;dbl&gt; | type &lt;int&gt; | survey &lt;int&gt; | pass &lt;int&gt; | cost2 &lt;int&gt; | resident2 &lt;chr&gt; | gender2 &lt;chr&gt; | age2 &lt;chr&gt; | level2 &lt;chr&gt; | pass2 &lt;chr&gt; |\n|---|---|---|---|---|---|---|---|---|---|---|---|---|---|---|\n| 1 |  1 | 1 | 50 |  1 | 5.1 | 1 | 1 |  2 |  2 | 특별시 | 남자 | 장년층 | 고졸 | 실패 |\n| 2 |  2 | 1 | 54 |  2 | 4.2 | 1 | 2 |  2 |  2 | 광역시 | 남자 | 장년층 | 대졸 | 실패 |\n| 3 | NA | 1 | 62 |  2 | 4.7 | 1 | 1 |  1 |  2 | NA     | 남자 | 노년층 | 대졸 | 합격 |\n| 4 |  4 | 2 | 50 | NA | 3.5 | 1 | 4 |  1 | NA | 광역시 | 여자 | 장년층 | NA   | 합격 |\n| 5 |  5 | 1 | 51 |  1 | 5.0 | 1 | 3 |  1 |  2 | 시구군 | 남자 | 장년층 | 고졸 | 합격 |\n| 6 |  3 | 1 | 55 |  2 | 5.4 | 1 | 3 | NA |  2 | 광역시 | 남자 | 장년층 | 대졸 | NA   |\n\n",
            "text/html": [
              "<table>\n",
              "<caption>A data.frame: 6 × 14</caption>\n",
              "<thead>\n",
              "\t<tr><th></th><th scope=col>resident</th><th scope=col>gender</th><th scope=col>age</th><th scope=col>level</th><th scope=col>cost</th><th scope=col>type</th><th scope=col>survey</th><th scope=col>pass</th><th scope=col>cost2</th><th scope=col>resident2</th><th scope=col>gender2</th><th scope=col>age2</th><th scope=col>level2</th><th scope=col>pass2</th></tr>\n",
              "\t<tr><th></th><th scope=col>&lt;int&gt;</th><th scope=col>&lt;int&gt;</th><th scope=col>&lt;int&gt;</th><th scope=col>&lt;int&gt;</th><th scope=col>&lt;dbl&gt;</th><th scope=col>&lt;int&gt;</th><th scope=col>&lt;int&gt;</th><th scope=col>&lt;int&gt;</th><th scope=col>&lt;int&gt;</th><th scope=col>&lt;chr&gt;</th><th scope=col>&lt;chr&gt;</th><th scope=col>&lt;chr&gt;</th><th scope=col>&lt;chr&gt;</th><th scope=col>&lt;chr&gt;</th></tr>\n",
              "</thead>\n",
              "<tbody>\n",
              "\t<tr><th scope=row>1</th><td> 1</td><td>1</td><td>50</td><td> 1</td><td>5.1</td><td>1</td><td>1</td><td> 2</td><td> 2</td><td>특별시</td><td>남자</td><td>장년층</td><td>고졸</td><td>실패</td></tr>\n",
              "\t<tr><th scope=row>2</th><td> 2</td><td>1</td><td>54</td><td> 2</td><td>4.2</td><td>1</td><td>2</td><td> 2</td><td> 2</td><td>광역시</td><td>남자</td><td>장년층</td><td>대졸</td><td>실패</td></tr>\n",
              "\t<tr><th scope=row>3</th><td>NA</td><td>1</td><td>62</td><td> 2</td><td>4.7</td><td>1</td><td>1</td><td> 1</td><td> 2</td><td>NA    </td><td>남자</td><td>노년층</td><td>대졸</td><td>합격</td></tr>\n",
              "\t<tr><th scope=row>4</th><td> 4</td><td>2</td><td>50</td><td>NA</td><td>3.5</td><td>1</td><td>4</td><td> 1</td><td>NA</td><td>광역시</td><td>여자</td><td>장년층</td><td>NA  </td><td>합격</td></tr>\n",
              "\t<tr><th scope=row>5</th><td> 5</td><td>1</td><td>51</td><td> 1</td><td>5.0</td><td>1</td><td>3</td><td> 1</td><td> 2</td><td>시구군</td><td>남자</td><td>장년층</td><td>고졸</td><td>합격</td></tr>\n",
              "\t<tr><th scope=row>6</th><td> 3</td><td>1</td><td>55</td><td> 2</td><td>5.4</td><td>1</td><td>3</td><td>NA</td><td> 2</td><td>광역시</td><td>남자</td><td>장년층</td><td>대졸</td><td>NA  </td></tr>\n",
              "</tbody>\n",
              "</table>\n"
            ]
          },
          "metadata": {
            "tags": []
          }
        }
      ]
    },
    {
      "cell_type": "code",
      "metadata": {
        "id": "vKRlpChrK2bH"
      },
      "source": [
        "# 2) 변수 리코딩\n",
        "x <- data$level2 # 부모의 학력 수준\n",
        "y <- data$pass2  # 자녀의 대학 진학여부"
      ],
      "execution_count": null,
      "outputs": []
    },
    {
      "cell_type": "code",
      "metadata": {
        "id": "iFVRjwhTLHm3",
        "outputId": "5005d62e-86dd-47f6-b2c6-4fd1ed34c4a2",
        "colab": {
          "base_uri": "https://localhost:8080/",
          "height": 221
        }
      },
      "source": [
        "# 3) 분할표 작성 준비 : 데이터프레임 생성\n",
        "r <- data.frame(level = x, pass = y)\n",
        "head(r)"
      ],
      "execution_count": null,
      "outputs": [
        {
          "output_type": "display_data",
          "data": {
            "text/plain": [
              "  level pass\n",
              "1 고졸  실패\n",
              "2 대졸  실패\n",
              "3 대졸  합격\n",
              "4 NA    합격\n",
              "5 고졸  합격\n",
              "6 대졸  NA  "
            ],
            "text/latex": "A data.frame: 6 × 2\n\\begin{tabular}{r|ll}\n  & level & pass\\\\\n  & <chr> & <chr>\\\\\n\\hline\n\t1 & 고졸 & 실패\\\\\n\t2 & 대졸 & 실패\\\\\n\t3 & 대졸 & 합격\\\\\n\t4 & NA   & 합격\\\\\n\t5 & 고졸 & 합격\\\\\n\t6 & 대졸 & NA  \\\\\n\\end{tabular}\n",
            "text/markdown": "\nA data.frame: 6 × 2\n\n| <!--/--> | level &lt;chr&gt; | pass &lt;chr&gt; |\n|---|---|---|\n| 1 | 고졸 | 실패 |\n| 2 | 대졸 | 실패 |\n| 3 | 대졸 | 합격 |\n| 4 | NA   | 합격 |\n| 5 | 고졸 | 합격 |\n| 6 | 대졸 | NA   |\n\n",
            "text/html": [
              "<table>\n",
              "<caption>A data.frame: 6 × 2</caption>\n",
              "<thead>\n",
              "\t<tr><th></th><th scope=col>level</th><th scope=col>pass</th></tr>\n",
              "\t<tr><th></th><th scope=col>&lt;chr&gt;</th><th scope=col>&lt;chr&gt;</th></tr>\n",
              "</thead>\n",
              "<tbody>\n",
              "\t<tr><th scope=row>1</th><td>고졸</td><td>실패</td></tr>\n",
              "\t<tr><th scope=row>2</th><td>대졸</td><td>실패</td></tr>\n",
              "\t<tr><th scope=row>3</th><td>대졸</td><td>합격</td></tr>\n",
              "\t<tr><th scope=row>4</th><td>NA  </td><td>합격</td></tr>\n",
              "\t<tr><th scope=row>5</th><td>고졸</td><td>합격</td></tr>\n",
              "\t<tr><th scope=row>6</th><td>대졸</td><td>NA  </td></tr>\n",
              "</tbody>\n",
              "</table>\n"
            ]
          },
          "metadata": {
            "tags": []
          }
        }
      ]
    },
    {
      "cell_type": "markdown",
      "metadata": {
        "id": "YzcogYFDLZ8v"
      },
      "source": [
        "1.2 교차분석\n",
        "- 교차분할표를 통해서 범주형 변수의 관계를 분석함"
      ]
    },
    {
      "cell_type": "code",
      "metadata": {
        "id": "Psy4sHYMLtgQ",
        "outputId": "ba02ef9c-2dea-4a03-e5b8-1f9c27f9048d",
        "colab": {
          "base_uri": "https://localhost:8080/",
          "height": 102
        }
      },
      "source": [
        "# 1) 기본 함수를 이용한 교차 분할표 작성\n",
        "table(r)"
      ],
      "execution_count": null,
      "outputs": [
        {
          "output_type": "display_data",
          "data": {
            "text/plain": [
              "          pass\n",
              "level      실패 합격\n",
              "  고졸       40   49\n",
              "  대졸       27   55\n",
              "  대학원졸   23   31"
            ]
          },
          "metadata": {
            "tags": []
          }
        }
      ]
    },
    {
      "cell_type": "code",
      "metadata": {
        "id": "TdIU0eo7L8n7",
        "outputId": "8a3e9279-91b9-4ca1-a2b0-35d83d9a7e7d",
        "colab": {
          "base_uri": "https://localhost:8080/",
          "height": 119
        }
      },
      "source": [
        "# 2) 교차분할표 작성을 위한 패키지 설치\n",
        "install.packages(\"gmodels\")\n",
        "library(gmodels)"
      ],
      "execution_count": 4,
      "outputs": [
        {
          "output_type": "stream",
          "text": [
            "Installing package into ‘/usr/local/lib/R/site-library’\n",
            "(as ‘lib’ is unspecified)\n",
            "\n",
            "also installing the dependencies ‘gtools’, ‘gdata’\n",
            "\n",
            "\n"
          ],
          "name": "stderr"
        }
      ]
    },
    {
      "cell_type": "code",
      "metadata": {
        "id": "YVNVT5OOMLcz"
      },
      "source": [
        "library(ggplot2)"
      ],
      "execution_count": null,
      "outputs": []
    },
    {
      "cell_type": "code",
      "metadata": {
        "id": "276kxT5OMWEg",
        "outputId": "408e0980-d7a9-4a01-a805-2576ac68fe8c",
        "colab": {
          "base_uri": "https://localhost:8080/",
          "height": 714
        }
      },
      "source": [
        "# 3) 패키지를 이용한 교차 분할표 작성\n",
        "CrossTable(x = data$level2, y = data$pass2)\n",
        "## 셀의 내용\n",
        "# N : 관측치\n",
        "# Chi-square contribution : 기대비율\n",
        "# N / Row Total : 행비율\n",
        "# N / Col Total : 열비율\n",
        "# N / Table Total : 셀비율"
      ],
      "execution_count": null,
      "outputs": [
        {
          "output_type": "stream",
          "text": [
            "\n",
            " \n",
            "   Cell Contents\n",
            "|-------------------------|\n",
            "|                       N |\n",
            "| Chi-square contribution |\n",
            "|           N / Row Total |\n",
            "|           N / Col Total |\n",
            "|         N / Table Total |\n",
            "|-------------------------|\n",
            "\n",
            " \n",
            "Total Observations in Table:  225 \n",
            "\n",
            " \n",
            "             | data$pass2 \n",
            " data$level2 |      실패 |      합격 | Row Total | \n",
            "-------------|-----------|-----------|-----------|\n",
            "        고졸 |        40 |        49 |        89 | \n",
            "             |     0.544 |     0.363 |           | \n",
            "             |     0.449 |     0.551 |     0.396 | \n",
            "             |     0.444 |     0.363 |           | \n",
            "             |     0.178 |     0.218 |           | \n",
            "-------------|-----------|-----------|-----------|\n",
            "        대졸 |        27 |        55 |        82 | \n",
            "             |     1.026 |     0.684 |           | \n",
            "             |     0.329 |     0.671 |     0.364 | \n",
            "             |     0.300 |     0.407 |           | \n",
            "             |     0.120 |     0.244 |           | \n",
            "-------------|-----------|-----------|-----------|\n",
            "    대학원졸 |        23 |        31 |        54 | \n",
            "             |     0.091 |     0.060 |           | \n",
            "             |     0.426 |     0.574 |     0.240 | \n",
            "             |     0.256 |     0.230 |           | \n",
            "             |     0.102 |     0.138 |           | \n",
            "-------------|-----------|-----------|-----------|\n",
            "Column Total |        90 |       135 |       225 | \n",
            "             |     0.400 |     0.600 |           | \n",
            "-------------|-----------|-----------|-----------|\n",
            "\n",
            " \n"
          ],
          "name": "stdout"
        }
      ]
    },
    {
      "cell_type": "code",
      "metadata": {
        "id": "U45rogZdOJr7"
      },
      "source": [
        "# 교차 분할표 해석 ==> p394 참고"
      ],
      "execution_count": null,
      "outputs": []
    },
    {
      "cell_type": "markdown",
      "metadata": {
        "id": "B6BABp9xOQrG"
      },
      "source": [
        "2. 카이제곱 검정\n",
        "- 범주별 관측빈도와 기대빈도의 차이를 통해서 확률 모형이 데이터를 얼마나 잘 설명하는지 검정하는 통계적 방법\n",
        "  * 적합도 검정\n",
        "  * 독립성 검정\n",
        "  * 동질성 검정\n",
        "- 주의사항\n",
        "  * 범주형 변수를 대상으로 분석\n",
        "  * 집단별로 비율이 같은지 검정(독립성 여부 검정)\n",
        "  * 유의확률에 의해서 집단간 차이 여부 검정"
      ]
    },
    {
      "cell_type": "code",
      "metadata": {
        "id": "lgjxl63LOp7I",
        "outputId": "a075a8db-1026-400c-9b1a-693350a0a2ab",
        "colab": {
          "base_uri": "https://localhost:8080/",
          "height": 867
        }
      },
      "source": [
        "# CrossTable() 를 이용한 카이제곱 검정\n",
        "CrossTable(x = data$level2, y = data$pass2, chisq = T) # p-value > 0.05 므로 H0 채택"
      ],
      "execution_count": null,
      "outputs": [
        {
          "output_type": "stream",
          "text": [
            "\n",
            " \n",
            "   Cell Contents\n",
            "|-------------------------|\n",
            "|                       N |\n",
            "| Chi-square contribution |\n",
            "|           N / Row Total |\n",
            "|           N / Col Total |\n",
            "|         N / Table Total |\n",
            "|-------------------------|\n",
            "\n",
            " \n",
            "Total Observations in Table:  225 \n",
            "\n",
            " \n",
            "             | data$pass2 \n",
            " data$level2 |      실패 |      합격 | Row Total | \n",
            "-------------|-----------|-----------|-----------|\n",
            "        고졸 |        40 |        49 |        89 | \n",
            "             |     0.544 |     0.363 |           | \n",
            "             |     0.449 |     0.551 |     0.396 | \n",
            "             |     0.444 |     0.363 |           | \n",
            "             |     0.178 |     0.218 |           | \n",
            "-------------|-----------|-----------|-----------|\n",
            "        대졸 |        27 |        55 |        82 | \n",
            "             |     1.026 |     0.684 |           | \n",
            "             |     0.329 |     0.671 |     0.364 | \n",
            "             |     0.300 |     0.407 |           | \n",
            "             |     0.120 |     0.244 |           | \n",
            "-------------|-----------|-----------|-----------|\n",
            "    대학원졸 |        23 |        31 |        54 | \n",
            "             |     0.091 |     0.060 |           | \n",
            "             |     0.426 |     0.574 |     0.240 | \n",
            "             |     0.256 |     0.230 |           | \n",
            "             |     0.102 |     0.138 |           | \n",
            "-------------|-----------|-----------|-----------|\n",
            "Column Total |        90 |       135 |       225 | \n",
            "             |     0.400 |     0.600 |           | \n",
            "-------------|-----------|-----------|-----------|\n",
            "\n",
            " \n",
            "Statistics for All Table Factors\n",
            "\n",
            "\n",
            "Pearson's Chi-squared test \n",
            "------------------------------------------------------------\n",
            "Chi^2 =  2.766951     d.f. =  2     p =  0.2507057 \n",
            "\n",
            "\n",
            " \n"
          ],
          "name": "stdout"
        }
      ]
    },
    {
      "cell_type": "markdown",
      "metadata": {
        "id": "z2ts9KPjO9wo"
      },
      "source": [
        "2.2 카이제곱 검정 유형\n",
        "- 일원 카이제곱 : 교차분할표를 이용하지 않음(한개 범주 대상)\n",
        "  * 관찰도수가 기대 도수와 일치하는지 검정(적합도 검정)\n",
        "    * H0 : ~ 적합하다.\n",
        "\n",
        "- 이원 카이제곱 : 교차분할표를 이용(한개 이상의 범주 대상)\n",
        "  * 분석 대상 집단수에 따라 독립성검정과 동질성 검증\n",
        "  * 독립성 검정 : 한 집단내 두 변인의 관계가 독립적인지 검점\n",
        "    * H0 : 두 사건은 관련성이 없다.(=독립적이다)\n",
        "  * 동질성 검정 : 두 집단이상에서 각 범주간의 비율이 서도 동일한지 검증\n",
        "    * H0 : 모든 표본의 비율은 동일하다   "
      ]
    },
    {
      "cell_type": "markdown",
      "metadata": {
        "id": "kYifw8BbzEps"
      },
      "source": [
        "2.3 일원 카이제곱 검정"
      ]
    },
    {
      "cell_type": "markdown",
      "metadata": {
        "id": "cP29S5ZVv_cS"
      },
      "source": [
        "(1) 적합도 검정 : chisq.test()\n",
        "- H0 : 기대치와 관측치는 차이가 없다(적합하다)"
      ]
    },
    {
      "cell_type": "code",
      "metadata": {
        "id": "cBn23hWwO-oL"
      },
      "source": [
        "# 60회 주사위를 던져서 나온 관측도수(a)와 기대도수(b) 일때\n",
        "# 이 주사위는 게임에 적합한 주사위인지를 일원 카이제곱 검정\n",
        "a <- c(4,6,17,16,8,9)     # 주사위1 : 4번 , ...\n",
        "b <- c(10,10,10,10,10,10) # 확률적 기대값 : 1/6 * 60 = 10  "
      ],
      "execution_count": null,
      "outputs": []
    },
    {
      "cell_type": "code",
      "metadata": {
        "id": "mtCLgcSBO-2S",
        "outputId": "dc338dc2-5006-4d0b-9192-e8a278cf3107",
        "colab": {
          "base_uri": "https://localhost:8080/",
          "height": 102
        }
      },
      "source": [
        "chisq.test(a) # p-value < 0.05 이므로 H0 기각, '주사위는 게임에 적합하지 않음'"
      ],
      "execution_count": null,
      "outputs": [
        {
          "output_type": "display_data",
          "data": {
            "text/plain": [
              "\n",
              "\tChi-squared test for given probabilities\n",
              "\n",
              "data:  a\n",
              "X-squared = 14.2, df = 5, p-value = 0.01439\n"
            ]
          },
          "metadata": {
            "tags": []
          }
        }
      ]
    },
    {
      "cell_type": "code",
      "metadata": {
        "id": "mkaLzWXvzHE3"
      },
      "source": [
        ""
      ],
      "execution_count": null,
      "outputs": []
    },
    {
      "cell_type": "markdown",
      "metadata": {
        "id": "zYggbU6fO_An"
      },
      "source": [
        "(2) 선호도 분석\n",
        "- 관측빈도와 기대빈도의 차이를 통해서 확률 모형이 주어진 자료를 얼마나 잘 설명하는지 검정\n",
        "- 적합도 분석과 차이점 : 분석에 필요한 연구 환경과 자료(??)\n",
        "- H0 : 기대치와 관측치는 차이가 없다   \n"
      ]
    },
    {
      "cell_type": "code",
      "metadata": {
        "id": "OitdyuvTO_KI"
      },
      "source": [
        "# 5개 스포츠 음료에 대한 선호도(c)\n",
        "data <- textConnection(\n",
        "  \"스포츠음료종류 관측도수\n",
        "   1 41\n",
        "   2 30\n",
        "   3 51\n",
        "   4 71\n",
        "   5 61\n",
        "   \")"
      ],
      "execution_count": null,
      "outputs": []
    },
    {
      "cell_type": "code",
      "metadata": {
        "id": "VFLrHGVPO_Ul",
        "outputId": "ccaff869-73ce-4e37-d0a8-c9bed66dd394",
        "colab": {
          "base_uri": "https://localhost:8080/",
          "height": 183
        }
      },
      "source": [
        "x <- read.table(data, header = T)\n",
        "x"
      ],
      "execution_count": null,
      "outputs": [
        {
          "output_type": "display_data",
          "data": {
            "text/plain": [
              "  스포츠음료종류 관측도수\n",
              "1 1              41      \n",
              "2 2              30      \n",
              "3 3              51      \n",
              "4 4              71      \n",
              "5 5              61      "
            ],
            "text/latex": "A data.frame: 5 × 2\n\\begin{tabular}{ll}\n 스포츠음료종류 & 관측도수\\\\\n <int> & <int>\\\\\n\\hline\n\t 1 & 41\\\\\n\t 2 & 30\\\\\n\t 3 & 51\\\\\n\t 4 & 71\\\\\n\t 5 & 61\\\\\n\\end{tabular}\n",
            "text/markdown": "\nA data.frame: 5 × 2\n\n| 스포츠음료종류 &lt;int&gt; | 관측도수 &lt;int&gt; |\n|---|---|\n| 1 | 41 |\n| 2 | 30 |\n| 3 | 51 |\n| 4 | 71 |\n| 5 | 61 |\n\n",
            "text/html": [
              "<table>\n",
              "<caption>A data.frame: 5 × 2</caption>\n",
              "<thead>\n",
              "\t<tr><th scope=col>스포츠음료종류</th><th scope=col>관측도수</th></tr>\n",
              "\t<tr><th scope=col>&lt;int&gt;</th><th scope=col>&lt;int&gt;</th></tr>\n",
              "</thead>\n",
              "<tbody>\n",
              "\t<tr><td>1</td><td>41</td></tr>\n",
              "\t<tr><td>2</td><td>30</td></tr>\n",
              "\t<tr><td>3</td><td>51</td></tr>\n",
              "\t<tr><td>4</td><td>71</td></tr>\n",
              "\t<tr><td>5</td><td>61</td></tr>\n",
              "</tbody>\n",
              "</table>\n"
            ]
          },
          "metadata": {
            "tags": []
          }
        }
      ]
    },
    {
      "cell_type": "code",
      "metadata": {
        "id": "BXcqp1EVO_eX",
        "outputId": "f46562dc-2484-4764-9991-f1ca65a1afd9",
        "colab": {
          "base_uri": "https://localhost:8080/",
          "height": 102
        }
      },
      "source": [
        "chisq.test(x$관측도수) # p-value < 0.05이므로 H0 기각, '음료수 선호도에 차이가 있다'"
      ],
      "execution_count": null,
      "outputs": [
        {
          "output_type": "display_data",
          "data": {
            "text/plain": [
              "\n",
              "\tChi-squared test for given probabilities\n",
              "\n",
              "data:  x$관측도수\n",
              "X-squared = 20.488, df = 4, p-value = 0.0003999\n"
            ]
          },
          "metadata": {
            "tags": []
          }
        }
      ]
    },
    {
      "cell_type": "markdown",
      "metadata": {
        "id": "IY2zuadRO_nY"
      },
      "source": [
        "2.4 이원 카이제곱 검정\n"
      ]
    },
    {
      "cell_type": "markdown",
      "metadata": {
        "id": "tbi8cM2iO_vY"
      },
      "source": [
        "(1) 독립성 검정\n",
        "- 한 집단내 두 변인의 관계가 독립적인지 검점\n",
        "  *  H0 : 두 사건은 관련성이 없다.(=독립적이다)"
      ]
    },
    {
      "cell_type": "code",
      "metadata": {
        "id": "ONKWVAS2O_1y",
        "outputId": "8f1e7d20-7d59-46b3-ee28-efa3f4a54789",
        "colab": {
          "base_uri": "https://localhost:8080/",
          "height": 204
        }
      },
      "source": [
        "# 부모의 학력 수준과 자녀의 대학 진학 여부\n",
        "url <- \"https://raw.githubusercontent.com/gyujin0450/RPRG_PARTIII/main/data03/cleanDescriptive.csv\"\n",
        "data <- read.csv(url, header = T, fileEncoding = 'CP949', encoding = 'UTF-8')\n",
        "head(data)"
      ],
      "execution_count": 1,
      "outputs": [
        {
          "output_type": "display_data",
          "data": {
            "text/plain": [
              "  resident gender age level cost type survey pass cost2 resident2 gender2\n",
              "1  1       1      50   1    5.1  1    1       2    2    특별시    남자   \n",
              "2  2       1      54   2    4.2  1    2       2    2    광역시    남자   \n",
              "3 NA       1      62   2    4.7  1    1       1    2    NA        남자   \n",
              "4  4       2      50  NA    3.5  1    4       1   NA    광역시    여자   \n",
              "5  5       1      51   1    5.0  1    3       1    2    시구군    남자   \n",
              "6  3       1      55   2    5.4  1    3      NA    2    광역시    남자   \n",
              "  age2   level2 pass2\n",
              "1 장년층 고졸   실패 \n",
              "2 장년층 대졸   실패 \n",
              "3 노년층 대졸   합격 \n",
              "4 장년층 NA     합격 \n",
              "5 장년층 고졸   합격 \n",
              "6 장년층 대졸   NA   "
            ],
            "text/latex": "A data.frame: 6 × 14\n\\begin{tabular}{r|llllllllllllll}\n  & resident & gender & age & level & cost & type & survey & pass & cost2 & resident2 & gender2 & age2 & level2 & pass2\\\\\n  & <int> & <int> & <int> & <int> & <dbl> & <int> & <int> & <int> & <int> & <chr> & <chr> & <chr> & <chr> & <chr>\\\\\n\\hline\n\t1 &  1 & 1 & 50 &  1 & 5.1 & 1 & 1 &  2 &  2 & 특별시 & 남자 & 장년층 & 고졸 & 실패\\\\\n\t2 &  2 & 1 & 54 &  2 & 4.2 & 1 & 2 &  2 &  2 & 광역시 & 남자 & 장년층 & 대졸 & 실패\\\\\n\t3 & NA & 1 & 62 &  2 & 4.7 & 1 & 1 &  1 &  2 & NA     & 남자 & 노년층 & 대졸 & 합격\\\\\n\t4 &  4 & 2 & 50 & NA & 3.5 & 1 & 4 &  1 & NA & 광역시 & 여자 & 장년층 & NA   & 합격\\\\\n\t5 &  5 & 1 & 51 &  1 & 5.0 & 1 & 3 &  1 &  2 & 시구군 & 남자 & 장년층 & 고졸 & 합격\\\\\n\t6 &  3 & 1 & 55 &  2 & 5.4 & 1 & 3 & NA &  2 & 광역시 & 남자 & 장년층 & 대졸 & NA  \\\\\n\\end{tabular}\n",
            "text/markdown": "\nA data.frame: 6 × 14\n\n| <!--/--> | resident &lt;int&gt; | gender &lt;int&gt; | age &lt;int&gt; | level &lt;int&gt; | cost &lt;dbl&gt; | type &lt;int&gt; | survey &lt;int&gt; | pass &lt;int&gt; | cost2 &lt;int&gt; | resident2 &lt;chr&gt; | gender2 &lt;chr&gt; | age2 &lt;chr&gt; | level2 &lt;chr&gt; | pass2 &lt;chr&gt; |\n|---|---|---|---|---|---|---|---|---|---|---|---|---|---|---|\n| 1 |  1 | 1 | 50 |  1 | 5.1 | 1 | 1 |  2 |  2 | 특별시 | 남자 | 장년층 | 고졸 | 실패 |\n| 2 |  2 | 1 | 54 |  2 | 4.2 | 1 | 2 |  2 |  2 | 광역시 | 남자 | 장년층 | 대졸 | 실패 |\n| 3 | NA | 1 | 62 |  2 | 4.7 | 1 | 1 |  1 |  2 | NA     | 남자 | 노년층 | 대졸 | 합격 |\n| 4 |  4 | 2 | 50 | NA | 3.5 | 1 | 4 |  1 | NA | 광역시 | 여자 | 장년층 | NA   | 합격 |\n| 5 |  5 | 1 | 51 |  1 | 5.0 | 1 | 3 |  1 |  2 | 시구군 | 남자 | 장년층 | 고졸 | 합격 |\n| 6 |  3 | 1 | 55 |  2 | 5.4 | 1 | 3 | NA |  2 | 광역시 | 남자 | 장년층 | 대졸 | NA   |\n\n",
            "text/html": [
              "<table>\n",
              "<caption>A data.frame: 6 × 14</caption>\n",
              "<thead>\n",
              "\t<tr><th></th><th scope=col>resident</th><th scope=col>gender</th><th scope=col>age</th><th scope=col>level</th><th scope=col>cost</th><th scope=col>type</th><th scope=col>survey</th><th scope=col>pass</th><th scope=col>cost2</th><th scope=col>resident2</th><th scope=col>gender2</th><th scope=col>age2</th><th scope=col>level2</th><th scope=col>pass2</th></tr>\n",
              "\t<tr><th></th><th scope=col>&lt;int&gt;</th><th scope=col>&lt;int&gt;</th><th scope=col>&lt;int&gt;</th><th scope=col>&lt;int&gt;</th><th scope=col>&lt;dbl&gt;</th><th scope=col>&lt;int&gt;</th><th scope=col>&lt;int&gt;</th><th scope=col>&lt;int&gt;</th><th scope=col>&lt;int&gt;</th><th scope=col>&lt;chr&gt;</th><th scope=col>&lt;chr&gt;</th><th scope=col>&lt;chr&gt;</th><th scope=col>&lt;chr&gt;</th><th scope=col>&lt;chr&gt;</th></tr>\n",
              "</thead>\n",
              "<tbody>\n",
              "\t<tr><th scope=row>1</th><td> 1</td><td>1</td><td>50</td><td> 1</td><td>5.1</td><td>1</td><td>1</td><td> 2</td><td> 2</td><td>특별시</td><td>남자</td><td>장년층</td><td>고졸</td><td>실패</td></tr>\n",
              "\t<tr><th scope=row>2</th><td> 2</td><td>1</td><td>54</td><td> 2</td><td>4.2</td><td>1</td><td>2</td><td> 2</td><td> 2</td><td>광역시</td><td>남자</td><td>장년층</td><td>대졸</td><td>실패</td></tr>\n",
              "\t<tr><th scope=row>3</th><td>NA</td><td>1</td><td>62</td><td> 2</td><td>4.7</td><td>1</td><td>1</td><td> 1</td><td> 2</td><td>NA    </td><td>남자</td><td>노년층</td><td>대졸</td><td>합격</td></tr>\n",
              "\t<tr><th scope=row>4</th><td> 4</td><td>2</td><td>50</td><td>NA</td><td>3.5</td><td>1</td><td>4</td><td> 1</td><td>NA</td><td>광역시</td><td>여자</td><td>장년층</td><td>NA  </td><td>합격</td></tr>\n",
              "\t<tr><th scope=row>5</th><td> 5</td><td>1</td><td>51</td><td> 1</td><td>5.0</td><td>1</td><td>3</td><td> 1</td><td> 2</td><td>시구군</td><td>남자</td><td>장년층</td><td>고졸</td><td>합격</td></tr>\n",
              "\t<tr><th scope=row>6</th><td> 3</td><td>1</td><td>55</td><td> 2</td><td>5.4</td><td>1</td><td>3</td><td>NA</td><td> 2</td><td>광역시</td><td>남자</td><td>장년층</td><td>대졸</td><td>NA  </td></tr>\n",
              "</tbody>\n",
              "</table>\n"
            ]
          },
          "metadata": {
            "tags": []
          }
        }
      ]
    },
    {
      "cell_type": "code",
      "metadata": {
        "id": "anHAY5KXO_7Q"
      },
      "source": [
        "x <- data$level2 # 부모의 학력 수준\n",
        "y <- data$pass2  # 자녀의 대학 진학여부"
      ],
      "execution_count": 2,
      "outputs": []
    },
    {
      "cell_type": "code",
      "metadata": {
        "id": "W-wig03IO_-z",
        "outputId": "029e2759-f3b7-4ba2-f88b-ec811ac138e1",
        "colab": {
          "base_uri": "https://localhost:8080/",
          "height": 68
        }
      },
      "source": [
        "# 교차분할표 작성을 위한 패키지 설치\n",
        "install.packages(\"gmodels\")\n",
        "library(gmodels)"
      ],
      "execution_count": 7,
      "outputs": [
        {
          "output_type": "stream",
          "text": [
            "Installing package into ‘/usr/local/lib/R/site-library’\n",
            "(as ‘lib’ is unspecified)\n",
            "\n"
          ],
          "name": "stderr"
        }
      ]
    },
    {
      "cell_type": "code",
      "metadata": {
        "id": "SM6nucPc3_VH",
        "outputId": "b5426c1d-91d8-40cc-9a38-b9f76df0ab19",
        "colab": {
          "base_uri": "https://localhost:8080/",
          "height": 867
        }
      },
      "source": [
        "# 교차분할표를 별도로 만들지 않고, CrossTable()에 chisq = T 추가 이용\n",
        "CrossTable(x,y,chisq=T) # p-value > 0.05 므로, H0 채택('독립적이다' ~ 부모의 학력과 자녀의 진학은 관련성이 없다)"
      ],
      "execution_count": 8,
      "outputs": [
        {
          "output_type": "stream",
          "text": [
            "\n",
            " \n",
            "   Cell Contents\n",
            "|-------------------------|\n",
            "|                       N |\n",
            "| Chi-square contribution |\n",
            "|           N / Row Total |\n",
            "|           N / Col Total |\n",
            "|         N / Table Total |\n",
            "|-------------------------|\n",
            "\n",
            " \n",
            "Total Observations in Table:  225 \n",
            "\n",
            " \n",
            "             | y \n",
            "           x |      실패 |      합격 | Row Total | \n",
            "-------------|-----------|-----------|-----------|\n",
            "        고졸 |        40 |        49 |        89 | \n",
            "             |     0.544 |     0.363 |           | \n",
            "             |     0.449 |     0.551 |     0.396 | \n",
            "             |     0.444 |     0.363 |           | \n",
            "             |     0.178 |     0.218 |           | \n",
            "-------------|-----------|-----------|-----------|\n",
            "        대졸 |        27 |        55 |        82 | \n",
            "             |     1.026 |     0.684 |           | \n",
            "             |     0.329 |     0.671 |     0.364 | \n",
            "             |     0.300 |     0.407 |           | \n",
            "             |     0.120 |     0.244 |           | \n",
            "-------------|-----------|-----------|-----------|\n",
            "    대학원졸 |        23 |        31 |        54 | \n",
            "             |     0.091 |     0.060 |           | \n",
            "             |     0.426 |     0.574 |     0.240 | \n",
            "             |     0.256 |     0.230 |           | \n",
            "             |     0.102 |     0.138 |           | \n",
            "-------------|-----------|-----------|-----------|\n",
            "Column Total |        90 |       135 |       225 | \n",
            "             |     0.400 |     0.600 |           | \n",
            "-------------|-----------|-----------|-----------|\n",
            "\n",
            " \n",
            "Statistics for All Table Factors\n",
            "\n",
            "\n",
            "Pearson's Chi-squared test \n",
            "------------------------------------------------------------\n",
            "Chi^2 =  2.766951     d.f. =  2     p =  0.2507057 \n",
            "\n",
            "\n",
            " \n"
          ],
          "name": "stdout"
        }
      ]
    },
    {
      "cell_type": "markdown",
      "metadata": {
        "id": "z0ZNAATLPAEp"
      },
      "source": [
        "(2) 동질성 검정\n",
        "- 두 집단이상에서 각 범주간의 비율이 서도 동일한지 검증\n",
        "  * H0 : 모든 표본의 비율은 동일하다"
      ]
    },
    {
      "cell_type": "code",
      "metadata": {
        "id": "d-_XHq8YPAH-",
        "outputId": "be51a769-6b41-422a-c1e5-7e0d6c1ed43e",
        "colab": {
          "base_uri": "https://localhost:8080/",
          "height": 204
        }
      },
      "source": [
        "# 1) 데이터 가져와 분석 데이터 만들기\n",
        "data <- read.csv(\"https://raw.githubusercontent.com/gyujin0450/RPRG_PARTIII/main/data03/homogenity.csv\")\n",
        "head(data)"
      ],
      "execution_count": 9,
      "outputs": [
        {
          "output_type": "display_data",
          "data": {
            "text/plain": [
              "  no method survey\n",
              "1 1  1      1     \n",
              "2 2  2      2     \n",
              "3 3  3      3     \n",
              "4 4  1      4     \n",
              "5 5  2      5     \n",
              "6 6  3      2     "
            ],
            "text/latex": "A data.frame: 6 × 3\n\\begin{tabular}{r|lll}\n  & no & method & survey\\\\\n  & <int> & <int> & <int>\\\\\n\\hline\n\t1 & 1 & 1 & 1\\\\\n\t2 & 2 & 2 & 2\\\\\n\t3 & 3 & 3 & 3\\\\\n\t4 & 4 & 1 & 4\\\\\n\t5 & 5 & 2 & 5\\\\\n\t6 & 6 & 3 & 2\\\\\n\\end{tabular}\n",
            "text/markdown": "\nA data.frame: 6 × 3\n\n| <!--/--> | no &lt;int&gt; | method &lt;int&gt; | survey &lt;int&gt; |\n|---|---|---|---|\n| 1 | 1 | 1 | 1 |\n| 2 | 2 | 2 | 2 |\n| 3 | 3 | 3 | 3 |\n| 4 | 4 | 1 | 4 |\n| 5 | 5 | 2 | 5 |\n| 6 | 6 | 3 | 2 |\n\n",
            "text/html": [
              "<table>\n",
              "<caption>A data.frame: 6 × 3</caption>\n",
              "<thead>\n",
              "\t<tr><th></th><th scope=col>no</th><th scope=col>method</th><th scope=col>survey</th></tr>\n",
              "\t<tr><th></th><th scope=col>&lt;int&gt;</th><th scope=col>&lt;int&gt;</th><th scope=col>&lt;int&gt;</th></tr>\n",
              "</thead>\n",
              "<tbody>\n",
              "\t<tr><th scope=row>1</th><td>1</td><td>1</td><td>1</td></tr>\n",
              "\t<tr><th scope=row>2</th><td>2</td><td>2</td><td>2</td></tr>\n",
              "\t<tr><th scope=row>3</th><td>3</td><td>3</td><td>3</td></tr>\n",
              "\t<tr><th scope=row>4</th><td>4</td><td>1</td><td>4</td></tr>\n",
              "\t<tr><th scope=row>5</th><td>5</td><td>2</td><td>5</td></tr>\n",
              "\t<tr><th scope=row>6</th><td>6</td><td>3</td><td>2</td></tr>\n",
              "</tbody>\n",
              "</table>\n"
            ]
          },
          "metadata": {
            "tags": []
          }
        }
      ]
    },
    {
      "cell_type": "code",
      "metadata": {
        "id": "Ua7ogLdXPALP",
        "outputId": "4778ab4f-812b-499a-e9dc-f51616c2f2b4",
        "colab": {
          "base_uri": "https://localhost:8080/",
          "height": 85
        }
      },
      "source": [
        "str(data)"
      ],
      "execution_count": 15,
      "outputs": [
        {
          "output_type": "stream",
          "text": [
            "'data.frame':\t150 obs. of  3 variables:\n",
            " $ no    : int  1 2 3 4 5 6 7 8 9 10 ...\n",
            " $ method: int  1 2 3 1 2 3 1 2 3 1 ...\n",
            " $ survey: int  1 2 3 4 5 2 3 4 5 2 ...\n"
          ],
          "name": "stdout"
        }
      ]
    },
    {
      "cell_type": "code",
      "metadata": {
        "id": "ETr3USfd7YN5",
        "outputId": "dfa2006e-3511-4971-af32-9b751fc9111b",
        "colab": {
          "base_uri": "https://localhost:8080/",
          "height": 136
        }
      },
      "source": [
        "summary(data) # 격측치 없음"
      ],
      "execution_count": 16,
      "outputs": [
        {
          "output_type": "display_data",
          "data": {
            "text/plain": [
              "       no             method      survey     \n",
              " Min.   :  1.00   Min.   :1   Min.   :1.000  \n",
              " 1st Qu.: 38.25   1st Qu.:1   1st Qu.:2.000  \n",
              " Median : 75.50   Median :2   Median :3.000  \n",
              " Mean   : 75.50   Mean   :2   Mean   :3.087  \n",
              " 3rd Qu.:112.75   3rd Qu.:3   3rd Qu.:4.000  \n",
              " Max.   :150.00   Max.   :3   Max.   :5.000  "
            ]
          },
          "metadata": {
            "tags": []
          }
        }
      ]
    },
    {
      "cell_type": "code",
      "metadata": {
        "id": "HPSoHLmM7D-S"
      },
      "source": [
        "data <- subset(data, !is.na(survey), c(method, survey)) # 격측치 제거 & data 변수를 2개로 만듦"
      ],
      "execution_count": 17,
      "outputs": []
    },
    {
      "cell_type": "code",
      "metadata": {
        "id": "NBRFXn-qPAYg",
        "outputId": "dfca0108-208d-406b-acfd-8c5df24be31b",
        "colab": {
          "base_uri": "https://localhost:8080/",
          "height": 68
        }
      },
      "source": [
        "str(data) "
      ],
      "execution_count": 18,
      "outputs": [
        {
          "output_type": "stream",
          "text": [
            "'data.frame':\t150 obs. of  2 variables:\n",
            " $ method: int  1 2 3 1 2 3 1 2 3 1 ...\n",
            " $ survey: int  1 2 3 4 5 2 3 4 5 2 ...\n"
          ],
          "name": "stdout"
        }
      ]
    },
    {
      "cell_type": "code",
      "metadata": {
        "id": "MqvyVymb8v48",
        "outputId": "01573079-a674-4515-c50a-1a77581b77aa",
        "colab": {
          "base_uri": "https://localhost:8080/",
          "height": 68
        }
      },
      "source": [
        "table(data$method)"
      ],
      "execution_count": 20,
      "outputs": [
        {
          "output_type": "display_data",
          "data": {
            "text/plain": [
              "\n",
              " 1  2  3 \n",
              "50 50 50 "
            ]
          },
          "metadata": {
            "tags": []
          }
        }
      ]
    },
    {
      "cell_type": "code",
      "metadata": {
        "id": "mvkPty9Z82kL",
        "outputId": "27a3dc79-cfa8-45fd-8584-d8b215b85ea3",
        "colab": {
          "base_uri": "https://localhost:8080/",
          "height": 68
        }
      },
      "source": [
        "table(data$survey)"
      ],
      "execution_count": 21,
      "outputs": [
        {
          "output_type": "display_data",
          "data": {
            "text/plain": [
              "\n",
              " 1  2  3  4  5 \n",
              "21 29 37 42 21 "
            ]
          },
          "metadata": {
            "tags": []
          }
        }
      ]
    },
    {
      "cell_type": "code",
      "metadata": {
        "id": "ZB6dHLon8GCN"
      },
      "source": [
        "# 2) 변수 리코딩\n",
        "# method2 필드 추가\n",
        "data$method2[data$method == 1] <- \"방법1\"\n",
        "data$method2[data$method == 2] <- \"방법2\"\n",
        "data$method2[data$method == 3] <- \"방법3\"\n",
        "# survey2 필드 추가\n",
        "data$survey2[data$survey == 1] <- \"1.매우만족\"\n",
        "data$survey2[data$survey == 2] <- \"2.만족\"\n",
        "data$survey2[data$survey == 3] <- \"3.보통족\"\n",
        "data$survey2[data$survey == 4] <- \"4.불만족\"\n",
        "data$survey2[data$survey == 5] <- \"5.매우불만족\""
      ],
      "execution_count": 25,
      "outputs": []
    },
    {
      "cell_type": "code",
      "metadata": {
        "id": "60oAYsLp9X9y",
        "outputId": "f41db278-062c-4195-b651-cec91ae0f6f5",
        "colab": {
          "base_uri": "https://localhost:8080/",
          "height": 204
        }
      },
      "source": [
        "head(data)"
      ],
      "execution_count": 26,
      "outputs": [
        {
          "output_type": "display_data",
          "data": {
            "text/plain": [
              "  method survey method2 survey2     \n",
              "1 1      1      방법1   1.매우만족  \n",
              "2 2      2      방법2   2.만족      \n",
              "3 3      3      방법3   3.보통족    \n",
              "4 1      4      방법1   4.불만족    \n",
              "5 2      5      방법2   5.매우불만족\n",
              "6 3      2      방법3   2.만족      "
            ],
            "text/latex": "A data.frame: 6 × 4\n\\begin{tabular}{r|llll}\n  & method & survey & method2 & survey2\\\\\n  & <int> & <int> & <chr> & <chr>\\\\\n\\hline\n\t1 & 1 & 1 & 방법1 & 1.매우만족  \\\\\n\t2 & 2 & 2 & 방법2 & 2.만족      \\\\\n\t3 & 3 & 3 & 방법3 & 3.보통족    \\\\\n\t4 & 1 & 4 & 방법1 & 4.불만족    \\\\\n\t5 & 2 & 5 & 방법2 & 5.매우불만족\\\\\n\t6 & 3 & 2 & 방법3 & 2.만족      \\\\\n\\end{tabular}\n",
            "text/markdown": "\nA data.frame: 6 × 4\n\n| <!--/--> | method &lt;int&gt; | survey &lt;int&gt; | method2 &lt;chr&gt; | survey2 &lt;chr&gt; |\n|---|---|---|---|---|\n| 1 | 1 | 1 | 방법1 | 1.매우만족   |\n| 2 | 2 | 2 | 방법2 | 2.만족       |\n| 3 | 3 | 3 | 방법3 | 3.보통족     |\n| 4 | 1 | 4 | 방법1 | 4.불만족     |\n| 5 | 2 | 5 | 방법2 | 5.매우불만족 |\n| 6 | 3 | 2 | 방법3 | 2.만족       |\n\n",
            "text/html": [
              "<table>\n",
              "<caption>A data.frame: 6 × 4</caption>\n",
              "<thead>\n",
              "\t<tr><th></th><th scope=col>method</th><th scope=col>survey</th><th scope=col>method2</th><th scope=col>survey2</th></tr>\n",
              "\t<tr><th></th><th scope=col>&lt;int&gt;</th><th scope=col>&lt;int&gt;</th><th scope=col>&lt;chr&gt;</th><th scope=col>&lt;chr&gt;</th></tr>\n",
              "</thead>\n",
              "<tbody>\n",
              "\t<tr><th scope=row>1</th><td>1</td><td>1</td><td>방법1</td><td>1.매우만족  </td></tr>\n",
              "\t<tr><th scope=row>2</th><td>2</td><td>2</td><td>방법2</td><td>2.만족      </td></tr>\n",
              "\t<tr><th scope=row>3</th><td>3</td><td>3</td><td>방법3</td><td>3.보통족    </td></tr>\n",
              "\t<tr><th scope=row>4</th><td>1</td><td>4</td><td>방법1</td><td>4.불만족    </td></tr>\n",
              "\t<tr><th scope=row>5</th><td>2</td><td>5</td><td>방법2</td><td>5.매우불만족</td></tr>\n",
              "\t<tr><th scope=row>6</th><td>3</td><td>2</td><td>방법3</td><td>2.만족      </td></tr>\n",
              "</tbody>\n",
              "</table>\n"
            ]
          },
          "metadata": {
            "tags": []
          }
        }
      ]
    },
    {
      "cell_type": "code",
      "metadata": {
        "id": "1SuM-FMw9eNp",
        "outputId": "1d71d038-9f9e-4851-f62e-24a35d278846",
        "colab": {
          "base_uri": "https://localhost:8080/",
          "height": 102
        }
      },
      "source": [
        "# 3) 교차 분할표 작성\n",
        "table(data$method2, data$survey2)"
      ],
      "execution_count": 27,
      "outputs": [
        {
          "output_type": "display_data",
          "data": {
            "text/plain": [
              "       \n",
              "        1.매우만족 2.만족 3.보통족 4.불만족 5.매우불만족\n",
              "  방법1          5      8       15       16            6\n",
              "  방법2          8     14       11       11            6\n",
              "  방법3          8      7       11       15            9"
            ]
          },
          "metadata": {
            "tags": []
          }
        }
      ]
    },
    {
      "cell_type": "code",
      "metadata": {
        "id": "uS7lisjK96jq",
        "outputId": "ea5d0154-c78f-4680-90b7-5f5242b765aa",
        "colab": {
          "base_uri": "https://localhost:8080/",
          "height": 102
        }
      },
      "source": [
        "# 4) 동질성 검정 \n",
        "chisq.test(data$method2, data$survey2) # p > 0.05 므로, H0채택(동일하다 ~ 교육방법에 따라 만족도 차이는 없다!)"
      ],
      "execution_count": 28,
      "outputs": [
        {
          "output_type": "display_data",
          "data": {
            "text/plain": [
              "\n",
              "\tPearson's Chi-squared test\n",
              "\n",
              "data:  data$method2 and data$survey2\n",
              "X-squared = 6.5447, df = 8, p-value = 0.5865\n"
            ]
          },
          "metadata": {
            "tags": []
          }
        }
      ]
    },
    {
      "cell_type": "code",
      "metadata": {
        "id": "CGRsyztE-bk-",
        "outputId": "6bf35d85-35cd-4102-cf0e-2117fa0fadde",
        "colab": {
          "base_uri": "https://localhost:8080/",
          "height": 867
        }
      },
      "source": [
        "# 비교) 위 3,4 단계를 한번에 실행함(반드시 관련 패키지를 메모리에 로딩해야 함)\n",
        "CrossTable(data$method2, data$survey2,chisq = T)"
      ],
      "execution_count": 29,
      "outputs": [
        {
          "output_type": "stream",
          "text": [
            "\n",
            " \n",
            "   Cell Contents\n",
            "|-------------------------|\n",
            "|                       N |\n",
            "| Chi-square contribution |\n",
            "|           N / Row Total |\n",
            "|           N / Col Total |\n",
            "|         N / Table Total |\n",
            "|-------------------------|\n",
            "\n",
            " \n",
            "Total Observations in Table:  150 \n",
            "\n",
            " \n",
            "             | data$survey2 \n",
            "data$method2 |   1.매우만족 |       2.만족 |     3.보통족 |     4.불만족 | 5.매우불만족 | Row Total | \n",
            "-------------|-----------|-----------|-----------|-----------|-----------|-----------|\n",
            "       방법1 |         5 |         8 |        15 |        16 |         6 |        50 | \n",
            "             |     0.571 |     0.287 |     0.577 |     0.286 |     0.143 |           | \n",
            "             |     0.100 |     0.160 |     0.300 |     0.320 |     0.120 |     0.333 | \n",
            "             |     0.238 |     0.276 |     0.405 |     0.381 |     0.286 |           | \n",
            "             |     0.033 |     0.053 |     0.100 |     0.107 |     0.040 |           | \n",
            "-------------|-----------|-----------|-----------|-----------|-----------|-----------|\n",
            "       방법2 |         8 |        14 |        11 |        11 |         6 |        50 | \n",
            "             |     0.143 |     1.943 |     0.144 |     0.643 |     0.143 |           | \n",
            "             |     0.160 |     0.280 |     0.220 |     0.220 |     0.120 |     0.333 | \n",
            "             |     0.381 |     0.483 |     0.297 |     0.262 |     0.286 |           | \n",
            "             |     0.053 |     0.093 |     0.073 |     0.073 |     0.040 |           | \n",
            "-------------|-----------|-----------|-----------|-----------|-----------|-----------|\n",
            "       방법3 |         8 |         7 |        11 |        15 |         9 |        50 | \n",
            "             |     0.143 |     0.736 |     0.144 |     0.071 |     0.571 |           | \n",
            "             |     0.160 |     0.140 |     0.220 |     0.300 |     0.180 |     0.333 | \n",
            "             |     0.381 |     0.241 |     0.297 |     0.357 |     0.429 |           | \n",
            "             |     0.053 |     0.047 |     0.073 |     0.100 |     0.060 |           | \n",
            "-------------|-----------|-----------|-----------|-----------|-----------|-----------|\n",
            "Column Total |        21 |        29 |        37 |        42 |        21 |       150 | \n",
            "             |     0.140 |     0.193 |     0.247 |     0.280 |     0.140 |           | \n",
            "-------------|-----------|-----------|-----------|-----------|-----------|-----------|\n",
            "\n",
            " \n",
            "Statistics for All Table Factors\n",
            "\n",
            "\n",
            "Pearson's Chi-squared test \n",
            "------------------------------------------------------------\n",
            "Chi^2 =  6.544668     d.f. =  8     p =  0.5864574 \n",
            "\n",
            "\n",
            " \n"
          ],
          "name": "stdout"
        }
      ]
    }
  ]
}