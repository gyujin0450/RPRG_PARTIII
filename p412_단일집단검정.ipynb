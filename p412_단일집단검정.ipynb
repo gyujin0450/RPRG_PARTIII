{
  "nbformat": 4,
  "nbformat_minor": 0,
  "metadata": {
    "colab": {
      "name": "p412_단일집단검정.ipynb",
      "provenance": [],
      "authorship_tag": "ABX9TyMzV8HSTCzXvaKtexWTOTNZ",
      "include_colab_link": true
    },
    "kernelspec": {
      "name": "ir",
      "display_name": "R"
    }
  },
  "cells": [
    {
      "cell_type": "markdown",
      "metadata": {
        "id": "view-in-github",
        "colab_type": "text"
      },
      "source": [
        "<a href=\"https://colab.research.google.com/github/gyujin0450/RPRG_PARTIII/blob/main/p412_%EB%8B%A8%EC%9D%BC%EC%A7%91%EB%8B%A8%EA%B2%80%EC%A0%95.ipynb\" target=\"_parent\"><img src=\"https://colab.research.google.com/assets/colab-badge.svg\" alt=\"Open In Colab\"/></a>"
      ]
    },
    {
      "cell_type": "markdown",
      "metadata": {
        "id": "0il0tsUE0NAb"
      },
      "source": [
        "2. 단일집단 검정\n",
        "- 한개의 집단과 기존 집단의 비율 차이 검정과 평균 차이 검정\n",
        "  * 비율 차이 검정 : 기술통계량으로 빈도수에 대한 비율 의미\n",
        "  * 평균 차이 검정 : 표본 평균 의미 "
      ]
    },
    {
      "cell_type": "markdown",
      "metadata": {
        "id": "c9CibSaZ0df_"
      },
      "source": [
        "2.1 단일 집단 비율 검정\n",
        "- 단일 집단의 비율이 어떤 특정한 값과 같은지 검정\n",
        "- 연구가설\n",
        "  * H0 : '19년 고객 불만율과 '20년 CS교육 후 불만율에 차이가 있다.\n",
        "  * H1 : '19년 고객 불만율과 '20년 CS교육 후 불만율에 차이가 없다. "
      ]
    },
    {
      "cell_type": "markdown",
      "metadata": {
        "id": "-6yYtKzB24Ua"
      },
      "source": [
        "(1) 단일 표본 대상 기술 통계량"
      ]
    },
    {
      "cell_type": "code",
      "metadata": {
        "id": "m8_QGEtw3e42",
        "outputId": "1c828715-cf36-43a0-e00d-740f531c2ef7",
        "colab": {
          "base_uri": "https://localhost:8080/",
          "height": 204
        }
      },
      "source": [
        "# 1) 실습 데이터 가져오기\n",
        "url <- 'https://raw.githubusercontent.com/gyujin0450/RPRG_PARTIII/main/data03/one_sample.csv'\n",
        "data <- read.csv(url, header = T)\n",
        "head(data)"
      ],
      "execution_count": 1,
      "outputs": [
        {
          "output_type": "display_data",
          "data": {
            "text/plain": [
              "  no gender survey time\n",
              "1 1  2      1      5.1 \n",
              "2 2  2      0      5.2 \n",
              "3 3  2      1      4.7 \n",
              "4 4  2      1      4.8 \n",
              "5 5  2      1      5.0 \n",
              "6 6  2      1      5.4 "
            ],
            "text/latex": "A data.frame: 6 × 4\n\\begin{tabular}{r|llll}\n  & no & gender & survey & time\\\\\n  & <int> & <int> & <int> & <dbl>\\\\\n\\hline\n\t1 & 1 & 2 & 1 & 5.1\\\\\n\t2 & 2 & 2 & 0 & 5.2\\\\\n\t3 & 3 & 2 & 1 & 4.7\\\\\n\t4 & 4 & 2 & 1 & 4.8\\\\\n\t5 & 5 & 2 & 1 & 5.0\\\\\n\t6 & 6 & 2 & 1 & 5.4\\\\\n\\end{tabular}\n",
            "text/markdown": "\nA data.frame: 6 × 4\n\n| <!--/--> | no &lt;int&gt; | gender &lt;int&gt; | survey &lt;int&gt; | time &lt;dbl&gt; |\n|---|---|---|---|---|\n| 1 | 1 | 2 | 1 | 5.1 |\n| 2 | 2 | 2 | 0 | 5.2 |\n| 3 | 3 | 2 | 1 | 4.7 |\n| 4 | 4 | 2 | 1 | 4.8 |\n| 5 | 5 | 2 | 1 | 5.0 |\n| 6 | 6 | 2 | 1 | 5.4 |\n\n",
            "text/html": [
              "<table>\n",
              "<caption>A data.frame: 6 × 4</caption>\n",
              "<thead>\n",
              "\t<tr><th></th><th scope=col>no</th><th scope=col>gender</th><th scope=col>survey</th><th scope=col>time</th></tr>\n",
              "\t<tr><th></th><th scope=col>&lt;int&gt;</th><th scope=col>&lt;int&gt;</th><th scope=col>&lt;int&gt;</th><th scope=col>&lt;dbl&gt;</th></tr>\n",
              "</thead>\n",
              "<tbody>\n",
              "\t<tr><th scope=row>1</th><td>1</td><td>2</td><td>1</td><td>5.1</td></tr>\n",
              "\t<tr><th scope=row>2</th><td>2</td><td>2</td><td>0</td><td>5.2</td></tr>\n",
              "\t<tr><th scope=row>3</th><td>3</td><td>2</td><td>1</td><td>4.7</td></tr>\n",
              "\t<tr><th scope=row>4</th><td>4</td><td>2</td><td>1</td><td>4.8</td></tr>\n",
              "\t<tr><th scope=row>5</th><td>5</td><td>2</td><td>1</td><td>5.0</td></tr>\n",
              "\t<tr><th scope=row>6</th><td>6</td><td>2</td><td>1</td><td>5.4</td></tr>\n",
              "</tbody>\n",
              "</table>\n"
            ]
          },
          "metadata": {
            "tags": []
          }
        }
      ]
    },
    {
      "cell_type": "code",
      "metadata": {
        "id": "fDfZDPJq8Nvb",
        "outputId": "1b729f3f-dff2-45be-ba9b-8092554d8453",
        "colab": {
          "base_uri": "https://localhost:8080/",
          "height": 153
        }
      },
      "source": [
        "# 2) 데이터 파악\n",
        "summary(data)"
      ],
      "execution_count": 2,
      "outputs": [
        {
          "output_type": "display_data",
          "data": {
            "text/plain": [
              "       no             gender          survey            time      \n",
              " Min.   :  1.00   Min.   :1.000   Min.   :0.0000   Min.   :3.000  \n",
              " 1st Qu.: 38.25   1st Qu.:1.000   1st Qu.:1.0000   1st Qu.:5.000  \n",
              " Median : 75.50   Median :2.000   Median :1.0000   Median :5.500  \n",
              " Mean   : 75.50   Mean   :1.527   Mean   :0.9067   Mean   :5.557  \n",
              " 3rd Qu.:112.75   3rd Qu.:2.000   3rd Qu.:1.0000   3rd Qu.:6.200  \n",
              " Max.   :150.00   Max.   :2.000   Max.   :1.0000   Max.   :7.900  \n",
              "                                                   NA's   :41     "
            ]
          },
          "metadata": {
            "tags": []
          }
        }
      ]
    },
    {
      "cell_type": "code",
      "metadata": {
        "id": "k8GX1YVV8Tgs",
        "outputId": "6ca02103-ea5c-4ad5-a2f9-22a5ca8cb534",
        "colab": {
          "base_uri": "https://localhost:8080/",
          "height": 102
        }
      },
      "source": [
        "str(data)"
      ],
      "execution_count": 3,
      "outputs": [
        {
          "output_type": "stream",
          "text": [
            "'data.frame':\t150 obs. of  4 variables:\n",
            " $ no    : int  1 2 3 4 5 6 7 8 9 10 ...\n",
            " $ gender: int  2 2 2 2 2 2 2 2 2 1 ...\n",
            " $ survey: int  1 0 1 1 1 1 1 1 0 1 ...\n",
            " $ time  : num  5.1 5.2 4.7 4.8 5 5.4 NA 5 4.4 4.9 ...\n"
          ],
          "name": "stdout"
        }
      ]
    },
    {
      "cell_type": "code",
      "metadata": {
        "id": "IpGQTfol8WXE",
        "outputId": "75468f29-b9a9-4560-bde3-c823e0b4dc9d",
        "colab": {
          "base_uri": "https://localhost:8080/",
          "height": 51
        }
      },
      "source": [
        "# 3) 빈도수 및 비율 계산\n",
        "x <- data$survey\n",
        "summary(x)"
      ],
      "execution_count": 4,
      "outputs": [
        {
          "output_type": "display_data",
          "data": {
            "text/plain": [
              "   Min. 1st Qu.  Median    Mean 3rd Qu.    Max. \n",
              " 0.0000  1.0000  1.0000  0.9067  1.0000  1.0000 "
            ]
          },
          "metadata": {
            "tags": []
          }
        }
      ]
    },
    {
      "cell_type": "code",
      "metadata": {
        "id": "g2n6EU5X8k29",
        "outputId": "f9b7a970-ab54-4ef9-ac06-c2c66bc57526",
        "colab": {
          "base_uri": "https://localhost:8080/",
          "height": 34
        }
      },
      "source": [
        "y <- length(x)\n",
        "y"
      ],
      "execution_count": 9,
      "outputs": [
        {
          "output_type": "display_data",
          "data": {
            "text/plain": [
              "[1] 150"
            ],
            "text/latex": "150",
            "text/markdown": "150",
            "text/html": [
              "150"
            ]
          },
          "metadata": {
            "tags": []
          }
        }
      ]
    },
    {
      "cell_type": "code",
      "metadata": {
        "id": "fSQqrRvG8m11",
        "outputId": "fafe510c-4a54-4931-ed81-4c86778d5535",
        "colab": {
          "base_uri": "https://localhost:8080/",
          "height": 154
        }
      },
      "source": [
        "t <- table(x) # 0 : 불만족, 1 : 만족\n",
        "t <- data.frame(t)\n",
        "t"
      ],
      "execution_count": 16,
      "outputs": [
        {
          "output_type": "display_data",
          "data": {
            "text/plain": [
              "  x Freq\n",
              "1 0  14 \n",
              "2 1 136 "
            ],
            "text/latex": "A data.frame: 2 × 2\n\\begin{tabular}{ll}\n x & Freq\\\\\n <fct> & <int>\\\\\n\\hline\n\t 0 &  14\\\\\n\t 1 & 136\\\\\n\\end{tabular}\n",
            "text/markdown": "\nA data.frame: 2 × 2\n\n| x &lt;fct&gt; | Freq &lt;int&gt; |\n|---|---|\n| 0 |  14 |\n| 1 | 136 |\n\n",
            "text/html": [
              "<table>\n",
              "<caption>A data.frame: 2 × 2</caption>\n",
              "<thead>\n",
              "\t<tr><th scope=col>x</th><th scope=col>Freq</th></tr>\n",
              "\t<tr><th scope=col>&lt;fct&gt;</th><th scope=col>&lt;int&gt;</th></tr>\n",
              "</thead>\n",
              "<tbody>\n",
              "\t<tr><td>0</td><td> 14</td></tr>\n",
              "\t<tr><td>1</td><td>136</td></tr>\n",
              "</tbody>\n",
              "</table>\n"
            ]
          },
          "metadata": {
            "tags": []
          }
        }
      ]
    },
    {
      "cell_type": "code",
      "metadata": {
        "id": "qtI-f_sW9O88",
        "outputId": "616fd077-1aa9-407e-c4c5-ef17ec9ac13d",
        "colab": {
          "base_uri": "https://localhost:8080/",
          "height": 51
        }
      },
      "source": [
        "cat(\"불만족 비율 : \", round((t[1,2] / y) * 100, 1 ),\"\\n\")\n",
        "cat(\"만  족 비율 : \", round((t[2,2] / y) * 100, 1 ))"
      ],
      "execution_count": 24,
      "outputs": [
        {
          "output_type": "stream",
          "text": [
            "불만족 비율 :  9.3 \n",
            "만  족 비율 :  90.7"
          ],
          "name": "stdout"
        }
      ]
    },
    {
      "cell_type": "code",
      "metadata": {
        "id": "dtUt1QHt8yqE",
        "outputId": "59fb9f84-61d7-439f-88a7-3f3af1c7ee5a",
        "colab": {
          "base_uri": "https://localhost:8080/",
          "height": 68
        }
      },
      "source": [
        "# 3) 패키지를 이용한 빈도수와 비율 계산\n",
        "install.packages(\"prettyR\")\n",
        "library(prettyR)"
      ],
      "execution_count": 22,
      "outputs": [
        {
          "output_type": "stream",
          "text": [
            "Installing package into ‘/usr/local/lib/R/site-library’\n",
            "(as ‘lib’ is unspecified)\n",
            "\n"
          ],
          "name": "stderr"
        }
      ]
    },
    {
      "cell_type": "code",
      "metadata": {
        "id": "XrFzvpQf-xwa",
        "outputId": "0a9d4790-eaad-4c4e-b7f9-9b6e69c8a29e",
        "colab": {
          "base_uri": "https://localhost:8080/",
          "height": 119
        }
      },
      "source": [
        "freq(x)"
      ],
      "execution_count": 23,
      "outputs": [
        {
          "output_type": "display_data",
          "data": {
            "text/plain": [
              "\n",
              "Frequencies for x \n",
              "        1    0   NA\n",
              "      136   14    0\n",
              "%    90.7  9.3    0 \n",
              "%!NA 90.7  9.3 \n"
            ]
          },
          "metadata": {
            "tags": []
          }
        }
      ]
    }
  ]
}